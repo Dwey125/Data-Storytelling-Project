{
 "cells": [
  {
   "cell_type": "code",
   "execution_count": 1,
   "metadata": {},
   "outputs": [],
   "source": [
    "#Importing libraries\n",
    "import pandas as pd\n",
    "import numpy as np\n",
    "import seaborn as sns\n",
    "import matplotlib.pyplot as plt\n",
    "%matplotlib inline"
   ]
  },
  {
   "cell_type": "code",
   "execution_count": 2,
   "metadata": {},
   "outputs": [
    {
     "name": "stdout",
     "output_type": "stream",
     "text": [
      "<html lang=\"en-US\" prefix=\"og: http://ogp.me/ns#\"><head> <meta content=\"IE=edge\" http-equiv=\"X-UA-Compatible\"/> <meta content=\"width=device-width, initial-scale=1.0, maximum-scale=1.0, user-scalable=no\" id=\"device_meta\" name=\"viewport\"/> <link href=\"https://fonts.googleapis.com/css2?family=Josefin+Sans&amp;display=swap\" rel=\"stylesheet\"/> <link href=\"https://sportsshow.net/images/cropped-fav-icon-sportsshow-180x180_b7b38.png\" rel=\"shortcut icon\" type=\"image/x-icon\"/> <script type=\"text/javascript\">document.domain = \"sportsshow.net\"; var site_base = 'https://sportsshow.net/'; var base_url = 'https://sportsshow.net/'; var base_cdn = 'https://sportsshow.net/'; var base_img = 'https://sportsshow.net/';</script> <title>Top 10 Most Successful Football Managers of All Time - Sports Show</title> <meta content=\"Successful Football Managers\" name=\"keywords\"/> <meta content=\"Sports Show Editorial Team has Compiled a Somplete List of Top 10 Most Successful Football Managers of All Time. Coaches That Earned Most Succes in Football\" name=\"description\"/><link href=\"https://sportsshow.net/most-successful-football-managers/\" rel=\"canonical\"/> <meta content=\"en_US\" property=\"og:locale\"/><meta content=\"website\" property=\"og:type\"/><meta content=\"https://sportsshow.net/most-successful-football-managers/\" property=\"og:url\"/> <meta content=\"Top 10 Most Successful Football Managers of All Time - Sports Show\" property=\"og:title\"/> <meta content=\"Sports Show Editorial Team has Compiled a Somplete List of Top 10 Most Successful Football Managers of All Time. Coaches That Earned Most Succes in Football\" property=\"og:description\"/> <meta content=\"Sports Show\" property=\"og:site_name\"/> <meta content=\"https://sportsshow.net/media/2019/04/_3/760x450/Most-Successful-Football-Managers-1.jpg\" property=\"og:image\"/> <meta content=\"https://sportsshow.net/media/2019/04/_3/760x450/Most-Successful-Football-Managers-1.jpg\" property=\"og:image:url\"/> <meta content=\"image/jpeg\" property=\"og:image:type\"/> <meta content=\"760\" property=\"og:image:width\"/> <meta content=\"450\" property=\"og:image:height\"/> <meta content=\"summary_large_image\" name=\"twitter:card\"/> <meta content=\"Top 10 Most Successful Football Managers of All Time - Sports Show\" name=\"twitter:title\"/> <meta content=\"Sports Show Editorial Team has Compiled a Somplete List of Top 10 Most Successful Football Managers of All Time. Coaches That Earned Most Succes in Football\" name=\"twitter:description\"/> <meta content=\"https://sportsshow.net/media/2019/04/_3/760x450/Most-Successful-Football-Managers-1.jpg\" name=\"twitter:image\"/> <meta content=\"Top 10 Most Successful Football Managers of All Time - Sports Show\" name=\"twitter:image:alt\"/> <meta content=\"sportsshow.net\" name=\"twitter:domain\"/>\n",
      "<meta content=\"SAgdX4XaJWuEFBfiBsEf1ndPv2kJWmdcLIh3RaFsjTo\" name=\"google-site-verification\"/>\n",
      "<meta content=\"04E2F0E34C1C93885859170A77956097\" name=\"msvalidate.01\"/>\n",
      "<!-- Global site tag (gtag.js) - Google Analytics -->\n",
      "<script async=\"\" src=\"https://www.googletagmanager.com/gtag/js?id=UA-137978181-1\"></script>\n",
      "<script>\r\n",
      "          window.dataLayer = window.dataLayer || [];\r\n",
      "          function gtag(){dataLayer.push(arguments);}\r\n",
      "          gtag('js', new Date());\r\n",
      "        \r\n",
      "          gtag('config', 'UA-137978181-1');\r\n",
      "        </script>\n",
      "<script type=\"text/javascript\">\r\n",
      "        setInterval(function(){ gtag('event', 'TimeOnPage', {'event_category': 'Open'}); }, 10000);\r\n",
      "        setInterval(function(){ if(!document.hidden) gtag('event', 'TimeOnPage', {'event_category': 'Visible'}); }, 10000);\r\n",
      "        </script>\n",
      "<script async=\"\" data-ad-client=\"ca-pub-2490370964968032\" src=\"https://pagead2.googlesyndication.com/pagead/js/adsbygoogle.js\"></script>\n",
      "<script type=\"application/ld+json\">{\"@context\": \"http://schema.org\",\"@type\": \"Organization\",\"url\": \"https://sportsshow.net/\",\"logo\": \"https://sportsshow.net/images/sports-show-logo_af5f4.png\",\"sameAs\": [\"https://www.facebook.com/sportsshow.page/\",\"https://twitter.com/SportsShow4/\",\"https://www.pinterest.com/sportsshownet/\"]}</script><script type=\"application/ld+json\">{\"@context\": \"http://schema.org\",\"@type\": \"WebSite\",\"name\": \"Sports Show\",\"url\": \"https://sportsshow.net/\"}</script><script data-schema=\"WebPage\" type=\"application/ld+json\">{\"@id\":\"https://sportsshow.net/most-successful-football-managers/\",\"@type\":\"WebPage\",\"@context\":\"http://schema.org\"}</script>\n",
      "<style type=\"text/css\">a,abbr,acronym,address,applet,article,aside,audio,b,big,blockquote,body,canvas,caption,center,cite,code,dd,del,details,dfn,div,dl,dt,em,embed,fieldset,figcaption,figure,footer,form,h1,h2,h3,h4,h5,h6,header,hgroup,html,i,iframe,img,ins,kbd,label,legend,li,mark,menu,nav,object,ol,output,p,pre,q,ruby,s,samp,section,small,span,strike,strong,sub,summary,sup,table,tbody,td,tfoot,th,thead,time,tr,tt,u,ul,var,video{margin:0;padding:0;border:0;font:inherit;vertical-align:baseline; outline: 0; background: transparent;} article,aside,details,figcaption,figure,footer,header,hgroup,menu,nav,section{display:block}body{line-height:1}ol,ul{list-style:none}blockquote,q{quotes:none}blockquote:after,blockquote:before,q:after,q:before{content:'';content:none}table{border-collapse:collapse;border-spacing:0}.clear{ clear:both; line-height:0px; margin:0; padding:0;}*{ box-sizing:border-box; transition-duration:.5s;}::selection {background-color: #394F78; color:#fff;}@media(min-width:800px){::-webkit-scrollbar {width: 15px; height: 15px;}::-webkit-scrollbar-thumb {border-radius: 8px; background-color: #C3C3C3; border: 2px solid #eee;}}body{font-family: 'Josefin Sans', sans-serif; font-size:15px; line-height:24px; background:#fff; }body, html {max-width: 100%;overflow-x: hidden;}iframe,img{max-width:100%;}#main_wrap{ position:relative; width:100%; float:left;user-select: none;-moz-user-select: none;-ms-user-select: none;-webkit-user-select: none; overflow:hidden;}header{width: 100%;background: #000;position: fixed;height: 60px;z-index: 99999; }.header_gap{height: 75px;float: left;width: 100%;}.container{display: block;width: 1280px; padding:0 20px; margin: 0px auto;}.minus{ padding:0 -20px !important;}p,h1,h2,h3,h4,h5,h6{margin-bottom: 20px; color:#101010;}h1,h2,h3,h4,h5,h6{ font-weight:bold;}.nobl{ border-left:none;}a{color: #006598; text-decoration:none;}a:hover{ color:#c00; }p{ font-size: 16px;line-height: 26px;}h1{ font-size: 36px;line-height: 44px;}h2{ font-size: 32px;line-height: 40px;}h3{ font-size: 28px;line-height: 36px;}h4{ font-size: 24px;line-height: 30px;}h5{ font-size: 20px;line-height: 28px;}h6{ font-size: 18px;line-height: 26px;}strong{ font-size:inherit; font-weight:bold;}@media(max-width:600px){p{ font-size: 16px;line-height: 24px;}h1{ font-size: 28px;line-height: 36px;}h2{ font-size: 24px;line-height: 32px;}h3{ font-size: 22px;line-height: 30px;}h4{ font-size: 20px;line-height: 28px;}h5{ font-size: 18px;line-height: 26px;}h6{ font-size: 16px;line-height: 24px;}}iframe,img{max-width:100%;}.round{border-radius:10%;-moz-border-radius:10%;-webkit-border-radius:10%;-ms-border-radius:10%;}.main_bar{ width: 890px;float: left;position: relative;background: #fff;}.side_bar{ width: 330px;float: right;background: #fff;}footer{width: 100%;margin: 30px 0 0;padding: 0; z-index: 1;color: #fff;}footer .footer_bottom {background: #000;padding: 8px 0;}footer .footer_bottom p {color: #969696;margin-bottom: 0;font-size: 12px; line-height:20px;}footer .footer_main { margin-bottom:10px;}footer .footer_main .ftr_link_box{ text-align:center;}footer .footer_main .ftr_link_box a{display: inline-block;margin: 5px;font-size: 14px;}footer .footer_main .ftr_link_box a:after{content: \"|\";margin-left: 10px;color: #ccc;font-size: 10px;}footer .footer_main .ftr_link_box a:last-child:after{ content:\"\";}.card {position: relative;display: flex;flex-direction: column;min-width: 0;word-wrap: break-word;background-color: #fff;background-clip: border-box;border: 1px solid rgba(0,0,0,.12);border-radius: .125rem;-webkit-box-shadow: 0 2px 5px 0 rgba(0,0,0,0.16), 0 2px 10px 0 rgba(0,0,0,0.12);box-shadow: 0 2px 5px 0 rgba(0,0,0,0.16), 0 2px 10px 0 rgba(0,0,0,0.12);}.card .card_inner{ padding:20px;}@media(max-width:1280px){.container{ width:100%;}.main_bar{ width:68%;}.side_bar{ width:30%;}}@media(max-width:1079px){.container{width: 100%;padding: 0 10px;}.minus{ padding:0 -10px !important;}.main_bar{ width:100%; margin-bottom:15px;}.side_bar{ width:100%;}}.toggle,[id^=drop] {display: none;}nav {margin:0;padding: 0;}nav:after {content:\"\";display:table;clear:both;}#logo {padding-right: 30px;float: left;height: 60px;}#logo img{padding: 2px 0; max-height: 60px;}#logo a { padding:0px !important; background:none !important;}#logo a:hover{ background:none !important;}nav ul {float: right;padding:0;margin:0;list-style: none;position: relative;}nav ul li {margin: 0px;display:inline-block;float: left;}nav ul li:hover{ background: #ffd800; }nav ul li:hover > a, nav a:hover > i{color:#000;}nav a {display:block;padding:18px 15px;color:#FFF;font-size:15px;text-decoration:none;}nav ul li ul li:hover { /*color:#fff;*/}nav a:hover {background-color: #ffd800; color:#fff;}nav ul ul {display: none;position: absolute; top: 59px;}nav ul li:hover > ul {display:inherit; background:#000;}nav ul ul li {width:170px;float:none;display:list-item;position: relative;}nav ul ul ul li {position: relative;top:-60px;left:170px;}li > a:after { content:  ' +'; }li > a:only-child:after { content: ''; }.search_hndlr{ float:right;}.search_hndlr i{ padding:5px;}#search_wrap{ position: fixed;display: none;width: 100%;height: 100%;top: 0;left: 0;right: 0;bottom: 0;background: #212424;  z-index: 9999999;cursor: pointer;}.search_inner{ width:600px; margin: 50px auto 0 auto; padding:10px; text-align:center;}.search_close{ color: #fff;padding: 8px 10px;border: solid 1px #fff;border-radius: 50%;-webkit-border-radius: 50%;-o-border-radius: 50%;-moz-border-radius: 50%;position: fixed;right: 20px;top: 20px; }.search_inner input[type=\"text\"]{-webkit-appearance: none;background: none;border: none;color: #FCFCFC;font-size: 44px;font-weight: 500;outline: none;padding-bottom: 15px;text-align: center;width: 75%; box-shadow: 0 -2px 0 0 #333 inset;}@media(max-width:600px){.search_inner{ width:100%;}}.kwd{color:#f74d4d;}@media all and (max-width : 1079px) {header .container{ padding:0;}.mob_menu_handler{background: none !important;position: absolute;top: 0;left: 0;cursor: pointer; font-size: 25px !important; padding: 18px !important;}ul.menu{float: none;height: 400px;overflow-y: scroll;}#logo {display: block;padding: 0;width: 100%;text-align: center;float: none; vertical-align:middle;}.search_hndlr{ float:none; position:fixed; right:0; top:0;padding: 22px;}nav {margin: 0;}.toggle + a,.menu {display: none;}.toggle {display: block;background-color: #000;padding:14px 10px;color:#FFF;font-size:15px;text-decoration:none;border:none;}.toggle:hover {background-color: #000000; color:#fff !important;}[id^=drop]:checked + ul {display: block; background-color: #000000;}nav ul li {display: block;width: 100%;}nav ul ul .toggle,nav ul ul a {padding: 0 40px;}nav ul ul ul a {padding: 0 80px;}nav a:hover,nav ul ul ul a {background-color: #000000; color:#fff !important;}nav ul li ul li .toggle,nav ul ul a,nav ul ul ul a{padding:14px 20px;color:#FFF;font-size:17px;}nav ul li ul li .toggle,nav ul ul a {background-color: #212121; color:#fff !important;}nav ul ul {float: none;position:static;color: #ffffff;}nav ul ul li:hover > ul,nav ul li:hover > ul {display: none;}nav ul ul li {display: block;width: 100%;}nav ul ul ul li {position: static;}}@media(max-width:500px){#logo img{ height:40px; margin-top:10px;}}.txt_red{ color:#E7343A;}.shad_box {width: 100%;box-sizing: border-box;background:#fff; box-shadow: 0 2px 3px 0 rgba(0,0,0,0.15); -moz-box-shadow: 0 2px 3px 0 rgba(0,0,0,0.15); -webkit-box-shadow: 0 2px 3px 0 rgba(0,0,0,0.15); -o-box-shadow: 0 2px 3px 0 rgba(0,0,0,0.15);}.widget{display: block;margin-bottom: 20px;position: relative;}.widget h3 {    border-bottom: solid 2px #006598;    color: #006598;    font-size: 20px;    line-height: 28px;    font-weight: bold;    padding-bottom: 8px;    margin-bottom: 15px;}.widget:after, .widget:before{ clear:both;}.show{ display:block !important;}.hide{ display:none !important;}.bg_green{ background:#27ae60 !important;}.bg_blue{ background:#34ace0 !important;}.bg_red{ background:#e74c3c !important;}.mb10{ margin-bottom:10px !important; }.mb15{ margin-bottom:15px !important; }.mb20{ margin-bottom:20px !important; }.mb25{ margin-bottom:25px !important; }.mb30{ margin-bottom:30px !important; }.ac{ text-align:center !important;}.pad10{ padding:10px;}.pad15{ padding:15px;}.cnt_box{ margin: 15px 0;font-size: 15px;line-height: 24px;padding: 10px;width: 100%;box-sizing: border-box;-moz-border-radius: 10px;-o-border-radius: 10px; box-shadow: 0 2px 3px 0 rgba(0,0,0,0.15); -moz-box-shadow: 0 2px 3px 0 rgba(0,0,0,0.15); -webkit-box-shadow: 0 2px 3px 0 rgba(0,0,0,0.15); -o-box-shadow: 0 2px 3px 0 rgba(0,0,0,0.15); background:#fff;}.cnt_box p, .cnt_box h1, .cnt_box h2, .cnt_box h3, .cnt_box h4, .cnt_box h5, .cnt_box h6{  margin-bottom:10px;}.cnt_box strong, .cnt_box b, .cnt_box em{ font-weight:bold;}.cnt_box h1, .cnt_box h2, .cnt_box h3, .cnt_box h4, .cnt_box h5, .cnt_box h6 { font-weight:bold; margin: 10px 0;}.cnt_box h2{ font-size:18px !important;}.cnt_box h3{ font-size:17px !important;}.cnt_box h4{ font-size:16px !important;}.cnt_box h5{ font-size:15px !important;}.cnt_box h6{ font-size:14px !important;}.cnt_box h4{ color: #800000;}.cnt_box i{ font-style:italic;}.cnt_box u{text-decoration:underline;}.cnt_box h4{color: #800000;font-size: 15px;}.cnt_box a{text-decoration: underline !important;color: #519fec;}.cnt_box ol, .cnt_box ul{ padding-left:20px !important; margin-bottom: 10px !important;}.cnt_box ol{list-style: decimal !important;}.cnt_box ul{list-style: disc !important;}ul.pagination{margin: 20px 0; float: left; width: 100%; text-align: center; direction: ltr;}ul.pagination li{list-style-type: none; float: none; display: inline-block; margin-bottom:5px;}ul.pagination li a{margin-left: 4px;font-weight: 500;font-size: 14px;color: #fff;padding: 12px 14px;text-decoration: none;background-color: #000;border-radius: 4px;-moz-border-radius: 4px;-webkit-border-radius: 4px;display: inline-block;font-family: arial;}ul.pagination li li>a:focus,ul.pagination li>a:hover,ul.pagination li >span:focus,ul.pagination li>span:hover,ul.pagination li>a:focus,ul.pagination li>a:hover,ul.pagination li>span:focus,ul.pagination li>span:hover{color:#fff!important;background:#F7D040!important}ul.pagination>.active>a,ul.pagination>.active>a:focus,ul.pagination>.active>a:hover,ul.pagination>.active>span,ul.pagination>.active>span:focus,ul.pagination>.active>span:hover{color:#fff!important;background-color:#F7D040!important;}ul.bread_crumb{margin: 0 0 10px 0;width: 100%;padding: 0 10px;box-sizing: border-box;float: left;}ul.bread_crumb li{float: left;}ul.bread_crumb li i{font-size: 12px;line-height: 30px;margin: 0 8px;color: #1771e6;}ul.bread_crumb li a{font-family: arial;font-size: 12px;line-height: 30px;display: block;}ul.bread_crumb li a:hover, ul.bread_crumb li a.active{ color:#c00; }@media(max-width:767px){ul.bread_crumb li a, ul.bread_crumb li i{line-height: 20px;}}.cats_list li{float: left;width: 100%;}.cats_list li a{ display: block;    padding: 10px 10px 10px 15px;    box-sizing: border-box;    background: #194573;    color: #fff;    font-size: 14px;    line-height: 22px;    margin-bottom: 2px;    border-radius: 50px 0 0 50px;;}.side_list_item{float: left;width: 100%;margin-bottom: 15px;padding: 8px;border-bottom: solid 1px #ccc;box-shadow: 0 1px 4px rgba(0,0,0,0.16);box-sizing: border-box;border-radius: 5px; font-size:14px; line-height:22px; color:#333;}.side_list_item img{ float:left; width:70px; height:70px; margin-right:10px;}/*listing page css start*/.list_item{float: left;width: 100%;margin-bottom: 15px;padding: 8px;border-bottom: solid 1px #ccc;box-shadow: 0 1px 4px rgba(0,0,0,0.16);box-sizing: border-box;}.list_item .item_icon{ float:left; margin-right:10px;}.list_item .item_icon img{ width:220px; height:180px;}.list_item .item_title{ color: #006598;font-size: 26px;line-height: 34px;margin-bottom: 10px;}.list_item .item_info{font-size: 14px; margin-bottom: 10px;}.list_item .item_info i{ margin-right:5px;}.list_item .item_info .item_date{color: #888;margin-right: 20px;}.list_item .item_info .item_writer a{ color:#c00;}.list_item .item_text, .list_item .item_text a{ color:#333;}@media(max-width:500px){.list_item .item_icon{ width:100%; text-align:center; margin-bottom:10px;}.list_item .item_icon img{ width:100%; height:auto;}.list_item .item_title{ font-size:22px; line-height:30px;}}i.fa{ font-style:normal !important;}</style> <script>\r\n",
      "\tvar jgv_w = window,\r\n",
      "\t\tjgv_d = document,\r\n",
      "\t\tjgv_e = jgv_d.documentElement,\r\n",
      "\t\tjgv_g = jgv_d.getElementsByTagName('body')[0],\r\n",
      "\t\tjgv_x = jgv_w.innerWidth || jgv_e.clientWidth || jgv_g.clientWidth,\r\n",
      "\t\tjgv_y = jgv_w.innerHeight|| jgv_e.clientHeight|| jgv_g.clientHeight,\r\n",
      "\t\tjgv_protocol = window.location.protocol,\r\n",
      "\t\tjgv_host_name = window.location.hostname,\r\n",
      "\t\tjgv_pathname = window.location.pathname,\r\n",
      "\t\tjgv_queryString = window.location.search,\r\n",
      "\t\tjgv_curent_url = document.URL,\r\n",
      "\t\tjgv_path_list = jgv_pathname.split('/');\r\n",
      "\t</script>\n",
      "<script type=\"application/ld+json\">\r\n",
      "{\r\n",
      "\t\"@context\": \"http://schema.org/\",\r\n",
      "\t\"@type\":\"BlogPosting\",\r\n",
      "\t\"mainEntityOfPage\":{\r\n",
      "\t\t\"@type\":\"WebPage\",\r\n",
      "\t\t\"@id\":\"https://sportsshow.net/most-successful-football-managers/\"\r\n",
      "\t},\r\n",
      "\t\"url\":\"https://sportsshow.net/most-successful-football-managers/\",\r\n",
      "\t\"headline\":\"Top 10 Most Successful Football Managers of All Time\",\r\n",
      "\t\"datePublished\":\"2020-05-13T21:30:42+0000\",\r\n",
      "\t\"dateModified\":\"2020-08-20T19:32:26+0000\",\r\n",
      "\t\"publisher\":{\r\n",
      "\t\t\"@type\":\"Organization\",\r\n",
      "\t\t\"@id\":\"https://sportsshow.net/#organization\",\r\n",
      "\t\t\"name\":\"Sports Show\",\r\n",
      "\t\t\"logo\":{\r\n",
      "\t\t\t\"@type\":\"ImageObject\",\r\n",
      "\t\t\t\"url\":\"https://sportsshow.net/images/sports-show-logo_af5f4.png\",\r\n",
      "\t\t\t\"width\":300,\r\n",
      "\t\t\t\"height\":60\r\n",
      "\t\t}\r\n",
      "\t},\r\n",
      "\t\"image\":{\"@type\":\"ImageObject\",\"url\":\"https://sportsshow.net/media/2019/04/_3/760x450/Most-Successful-Football-Managers-1.jpg\",\"width\":760,\"height\":450},\t\t\"articleSection\":\"Football\",\r\n",
      "\t\t\"description\":\"Sports Show Editorial Team has Compiled a Somplete List of Top 10 Most Successful Football Managers of All Time. Coaches That Earned Most Succes in Football\",\r\n",
      "\t\"author\":{\"@type\":\"Person\",\"name\":\"Sourav\",\"url\":\"https://sportsshow.net/author/sourav/\"},\t\"commentCount\":\"4\"\r\n",
      "\t,\"comment\":[{\"@type\":\"Comment\",\"dateCreated\":\"2020-01-18 21:23:50\",\"description\":\"I like your writing style genuinely loving this web site.\",\"author\":{\"@type\":\"Person\",\"name\":\"frolep rotrem\",\"url\":\"\"}},{\"@type\":\"Comment\",\"dateCreated\":\"2020-01-19 01:16:36\",\"description\":\"Thanks for the appreciation. Keep visiting!\",\"author\":{\"@type\":\"Person\",\"name\":\"Sourav Das\",\"url\":\"\"}},{\"@type\":\"Comment\",\"dateCreated\":\"2020-08-14 07:32:21\",\"description\":\"People forget how good Alex Ferguson was\",\"author\":{\"@type\":\"Person\",\"name\":\"Doc Ltd\",\"url\":\"\"}},{\"@type\":\"Comment\",\"dateCreated\":\"2020-08-15 00:45:27\",\"description\":\"Not all the sports lovers, mate.\",\"author\":{\"@type\":\"Person\",\"name\":\"Sourav Das\",\"url\":\"\"}}]}\r\n",
      "</script>\n",
      "<style type=\"text/css\">.news_article{width: 800px;padding: 20px;margin: 0 auto;position: relative;background: #fff;border-top: solid 3px #ffd800;box-shadow: 0 1px 4px rgba(0,0,0,0.16);box-sizing: border-box;}@media(max-width:800px){.news_article{ width:98%; padding:6px; margin:0 1%;}}.news_article .item_info{font-size: 14px; margin-bottom: 10px;}.news_article .item_info i{ margin-right:5px;}.news_article .item_info .item_date{color: #888;margin-right: 20px;}.news_article .item_info .item_writer a{ color:#c00;}.news_article figure{ float:left; width:100%; clear:both; margin:10px 0; text-align:center;}.news_article figure figcaption{font-size: 14px;line-height: 22px;margin-top: 10px;color: #666;}.embed { position: relative; padding-bottom: 56.25%; height: 0; overflow: hidden; max-width: 100%; text-align:center; margin-bottom:20px; } .embed iframe, .embed object, .embed embed { position: absolute; top: 0; left: 0; width: 100%; height: 100%; }.news_article .twitter-tweet, .news_article .twitter-video,  .news_article .instagram-media, .news_article iframe {margin: 5px auto !important; display: block;}.news_article blockquote, .news_article cite, .news_article em, .news_article i {font-style: italic;}.news_article blockquote {color: #2c3e50;font-size: 36px;line-height: 100%;position: relative;max-width: 450px;margin: 10% auto;}.news_article blockquote:before {content: '\\201C';position: absolute;top: -10px;left: 0;font-family: Arial, sans-serif;font-size: 82px;font-style: normal;}.news_article blockquote:after {content: '\\201C';position: absolute;bottom: -60px;right: 0;font-family: Arial, sans-serif;font-size: 82px;font-style: normal;}.ac-inputs, .ac-textarea {margin-bottom: 15px;}.fx-row {display:-ms-flexbox;display:-webkit-flex;display:flex;-ms-flex-wrap:wrap;-webkit-flex-wrap:wrap;flex-wrap:wrap;-ms-flex-pack:justify;-webkit-justify-content:space-between;justify-content:space-between;}.fx-col {display:-ms-flexbox;display:-webkit-flex;display:flex; -ms-flex-direction:column;-webkit-flex-direction:column;flex-direction:column}.fx-center {-ms-flex-pack:center;-webkit-justify-content:center;justify-content:center}.fx-middle {-ms-flex-align:center;-webkit-align-items:center;align-items:center}.fx-start {-webkit-justify-content:flex-start;justify-content:flex-start;}.fx-between {-ms-flex-pack:justify;-webkit-justify-content:space-between;justify-content:space-between;}.fx-first {-ms-flex-order: -1;-webkit-order: -1;order: -1;}.fx-last {-ms-flex-order: 10;-webkit-order: 10;order: 10;}.fx-1 {-ms-flex-preferred-size: 0; flex-basis: 0; -webkit-box-flex: 1; -ms-flex-positive: 1; flex-grow: 1; max-width: 100%; min-width: 50px;}#cmnt_form input[type=\"text\"], #cmnt_form textarea{width: 100%;background-color: #fff;color: #000;box-shadow: inset 0 0 0 1px #e3e3e3, inset 1px 2px 5px rgba(0,0,0,0.1);appearance: none;-webkit-appearance: none;border-radius: 4px;border: 0;padding: 10px 15px;outline:none;}#cmnt_form input[type=\"text\"]{height: 40px;line-height: 40px;}#cmnt_form button[type=\"submit\"], #cmnt_form button[type=\"button\"]{padding: 10px 20px;border: none;outline: none;background: #ffd800;color: #fff;font-size: 18px;line-height: 26px; cursor: pointer;}.ac-inputs input{width: 49% !important;}.comments-tree-list {display: block;margin: 0;padding: 0;list-style: none;}.comments-tree-list .comments-tree-list {padding-left: 25px; position:relative;}.comments-tree-list .comments-tree-list:before {content:\"\\f178 \"; font-family:'FontAwesome'; }.comments-tree-item {display: block; margin: 0; padding: 0;}.comm-item {margin-top: 30px; font-size: 12px;}.comm-left {width: 50px; margin-right: 25px;}.comm-right {background-color: #ebeff3; padding: 15px 15px; border-radius: 6px; position: relative;}.comm-right:before {content: ''; border: 10px solid transparent; border-right: 10px solid #ebeff3; position: absolute; right: 100%; top: 17px;}.comm-img {height: 50px; border-radius: 50%; background-color: transparent; overflow: hidden; position: relative;}.comm-img img{width: 100%; min-height: 100%; display: block;}.comm-two {margin: 10px 0 15px 0;}.comm-one > span {margin-right: 15px; color: #939393; font-weight: 300;}.comm-one > span.comm-author {color: #27ae60; font-weight: 400;}.comm-one > span.comm-author a {color: #27ae60;}.comm-three-left > a, .comm-three-right li a {color: #939393;}.comm-three-left > a > .fa {margin-right: 10px;}.comm-three-right li {display: inline-block; margin-left: 10px;}.comm-three a:hover {text-decoration: underline;}.nowrap {white-space: nowrap; overflow: hidden; text-overflow: ellipsis;}.full-text {font-size:14px; line-height:1.7; color: #5c5c5c;}.full-text img:not(.emoji) {max-width:100%; margin:10px 0;}.full-text > img[style*=\"left\"], .full-text > .highslide img[style*=\"left\"] {margin:0 10px 10px 0;}.full-text > img[style*=\"right\"], .full-text > .highslide img[style*=\"right\"] {margin:0 0 10px 10px;}.full-text a {text-decoration:underline; color:#34ace0;}.full-text a:hover {text-decoration:none;}.full-text h2, .full-text h3, .full-text h4, .full-text h5 {margin:10px 0; font-size:18px; font-weight:500;}.full-text p {margin-bottom:10px;}.full-text > ul, .full-text > ol {margin:0;}.full-text > ul li {list-style:disc; margin-left:40px;}.full-text > ol li {list-style:decimal; margin-left:40px;}.txt_err{ color:#C14D44;}.txt_suc{ color:#008000;}.news_article table {  width: 100%;  max-width: 100%;  margin-bottom: 1rem;  }@media(max-width:600px){.news_article table {display: block;  overflow-x: auto;  -ms-overflow-style: -ms-autohiding-scrollbar;}}.news_article table th,.news_article table td {  padding: 0.75rem;  vertical-align: top;  border-top: 1px solid #eceeef;}.news_article table thead th {  vertical-align: bottom;  border-bottom: 2px solid #eceeef;}.news_article table tbody + tbody {  border-top: 2px solid #eceeef;}.news_article table table {  background-color: #fff;}.youtube_embed {background-color: #000;margin-bottom: 30px;position: relative;padding-top: 56.25%;overflow: hidden;cursor: pointer;}.youtube_embed img {width: 100%;top: -16.82%;left: 0;opacity: 0.7;}.youtube_embed .yt_play_btn {width: 90px;height: 60px;background-color: #333;box-shadow: 0 0 30px rgba( 0,0,0,0.6 );z-index: 1;opacity: 0.8;border-radius: 6px;}.youtube_embed .yt_play_btn:before {content: \"\";border-style: solid;border-width: 15px 0 15px 26.0px;border-color: transparent transparent transparent #fff;}.youtube_embed img, .youtube_embed .yt_play_btn {cursor: pointer;}.youtube_embed img, .youtube_embed iframe, .youtube_embed .yt_play_btn, .youtube_embed .yt_play_btn:before {position: absolute;}.youtube_embed .yt_play_btn, .youtube_embed .yt_play_btn:before {top: 50%;left: 50%;transform: translate3d( -50%, -50%, 0 );}.youtube_embed iframe {height: 100%;width: 100%;top: 0;left: 0;}.social_sharer {width: 100%;box-sizing: border-box;text-align: center;}.social_sharer a{box-shadow: inset 0 -4px 0 rgba(0,0,0,.15);border-radius: 3px;-webkit-border-radius: 3px;-webkit-box-shadow: inset 0 -4px 0 rgba(0,0,0,.2);color: #fff;padding: 10px;display: inline-block;font-size: 13px;}.social_sharer a i{margin-right: 5px;font-size: 18px; vertical-align: middle;     font-style: normal;}.social_sharer a.facebook{ background:#3a579a;}.social_sharer a.twitter{ background:#00abf0;}.social_sharer a.google-plus{ background:#ea4335;}.social_sharer a.pinterest{ background:#cd1c1f;}.social_sharer a.whatsapp{ background:#5CBE4A;}@media(max-width:600px){.social_sharer  a{ text-align:center; padding:10px 15px;}.social_sharer  a span{ display:none;}.social_sharer  a i{ margin:0px;}}.item_box{ float:left; width:49%;margin-bottom: 2%;border-bottom: solid 1px #ccc;box-shadow: 0 1px 4px rgba(0,0,0,0.16);box-sizing: border-box;font-size:20px; line-height:28px; color:#333}.item_box:nth-child(odd){ margin-right:1%;}.item_box:nth-child(even){ margin-left:1%;}.item_box:nth-chile(2n+1){ clear:left;}.item_box img{ width:100%;}.item_box .item_text{padding: 15px 8px 10px 8px;;margin-bottom: 0;height: 90px;overflow: hidden; background:#fff;}@media(max-width:600px){.item_box .item_text{ height:132px;}}@media(max-width:400px){.item_box{ width:100%; margin:0 0 20px 0 !important;} .item_box .item_text{ height:auto;}}.prsn_box{ width:450px; margin:0 auto;}@media(max-width:600px){.prsn_box{ width:100%;}}.prsn_box table{ border:solid 1px #eceeef;width: 100%;display: table;font-size: 14px;line-height: 22px;}.prsn_box table tr:nth-child(odd){ background:#f9f9f9;}.prsn_box tr th{ width:40%; text-align:left; font-weight:bold; padding:8px;}.prsn_box tr td{ width:60%; text-align:left; padding:8px;}.prsn_box .prsn_icon {border-radius: 50%;box-sizing: border-box;box-shadow: 0 1px 4px rgba(0,0,0,0.16);-moz-box-shadow: 0 1px 4px rgba(0,0,0,0.16);-webkit-box-shadow: 0 1px 4px rgba(0,0,0,0.16);}</style>\n",
      "</head><body>\n",
      "<div id=\"main_wrap\">\n",
      "<!-- advertising 6f3U1O4UIYof2aZx-hStMD6ebYgXaEU1o5Kbngp7rFKLtA3xfPQ8LqAsh2_83jWghz7CADPNO9razSo6uv8u2w==-->\n",
      "<script data-cfasync=\"false\" id=\"clevernt\" type=\"text/javascript\">\r\n",
      " (function (document, window) {\r\n",
      "var c = document.createElement(\"script\");\r\n",
      "c.type = \"text/javascript\"; c.async = !0; c.id = \"CleverNTLoader45274\";  c.setAttribute(\"data-target\",window.name); c.setAttribute(\"data-callback\",\"put-your-callback-macro-here\");\r\n",
      "c.src = \"//clevernt.com/scripts/7fe698e6a569ee905d230e24fc441b64.min.js?20200724=\" + Math.floor((new Date).getTime());\r\n",
      "var a = !1;\r\n",
      "try {\r\n",
      "a = parent.document.getElementsByTagName(\"script\")[0] || document.getElementsByTagName(\"script\")[0];\r\n",
      "} catch (e) {\r\n",
      "a = !1;\r\n",
      "}\r\n",
      "a || ( a = document.getElementsByTagName(\"head\")[0] || document.getElementsByTagName(\"body\")[0]);\r\n",
      "a.parentNode.insertBefore(c, a);\r\n",
      "})(document, window);\r\n",
      "\t</script>\n",
      "<!-- end advertising --><header> <div class=\"container\"> <nav> <div id=\"logo\"> <a href=\"https://sportsshow.net/\"><img alt=\"Sports Show\" src=\"https://sportsshow.net/images/sports-show-logo_af5f4.png\"/></a> </div> <a class=\"search_hndlr\" href=\"javascript:void(0);\" onclick=\"on_search()\"><i class=\"fa fa-search\"></i></a> <label class=\"toggle mob_menu_handler\" for=\"drop\"><i class=\"fa fa-bars\"></i></label> <input id=\"drop\" type=\"checkbox\"/> <ul class=\"menu\"><li><a href=\"https://sportsshow.net/\">Home</a></li><li><a href=\"https://sportsshow.net/category/cricket/\">Cricket</a></li><li><a href=\"https://sportsshow.net/category/football/\">Football</a></li><li><a href=\"https://sportsshow.net/category/tennis/\">Tennis</a></li><li><a href=\"https://sportsshow.net/category/basketball/\">Basketball</a></li><li><a href=\"https://sportsshow.net/category/boxing/\">Boxing</a></li><li><a href=\"https://sportsshow.net/category/golf/\">Golf</a></li></ul> </nav> </div> </header><div class=\"clear\"></div><div class=\"header_gap\"></div><div class=\"clear\"></div>\n",
      "<div class=\"ac\"><script async=\"\" src=\"https://pagead2.googlesyndication.com/pagead/js/adsbygoogle.js\"></script>\n",
      "<!-- res 1 -->\n",
      "<ins class=\"adsbygoogle\" data-ad-client=\"ca-pub-2490370964968032\" data-ad-format=\"auto\" data-ad-slot=\"1921978539\" data-full-width-responsive=\"true\" style=\"display:block\"></ins>\n",
      "<script>\r\n",
      "     (adsbygoogle = window.adsbygoogle || []).push({});\r\n",
      "</script></div><div class=\"clear mb20\"></div>\n",
      "<div class=\"news_article\">\n",
      "<ul class=\"bread_crumb\"><li><a href=\"https://sportsshow.net/\"><i class=\"fa fa-home\"></i>Home</a></li><li><i class=\"fa fa-angle-double-right\"></i></li><li><a href=\"https://sportsshow.net/category/football/\">Football</a></li><li><i class=\"fa fa-angle-double-right\"></i></li><li><a class=\"active\" href=\"https://sportsshow.net/most-successful-football-managers/\">Top 10 Most Successful Football Managers of All Time</a></li></ul><div class=\"clear\"></div><script type=\"application/ld+json\">{\"@context\": \"http://schema.org\",\"@type\": \"BreadcrumbList\",\"itemListElement\": [{\"@type\": \"ListItem\",\"position\": 1,\"item\": {\"@id\": \"https://sportsshow.net/\",\"name\": \"Home\"}},{\"@type\": \"ListItem\",\"position\": 2,\"item\": {\"@id\": \"https://sportsshow.net/category/football/\",\"name\": \"Football\"}},{\"@type\": \"ListItem\",\"position\": 3,\"item\": {\"@id\": \"https://sportsshow.net/most-successful-football-managers/\",\"name\": \"Top 10 Most Successful Football Managers of All Time\"}}]}</script>\n",
      "<div class=\"clear\"></div>\n",
      "<h1>Top 10 Most Successful Football Managers of All Time</h1>\n",
      "<p class=\"item_info\">\n",
      "<span class=\"item_date\"><i class=\"fa fa-calendar\"></i>May 13, 2020</span>\n",
      "<span class=\"item_writer\"><a href=\"https://sportsshow.net/author/sourav/\"><i class=\"fa fa-user\"></i> By Sourav</a></span>\n",
      "</p>\n",
      "<hr/>\n",
      "<div class=\"clear mb10\"></div>\n",
      "<figure>\n",
      "<img alt=\"Top 10 Most Successful Football Managers of All Time\" src=\"https://sportsshow.net/media/2019/04/_3/760x450/Most-Successful-Football-Managers-1.jpg\"/>\n",
      "</figure>\n",
      "<!-- wp:paragraph --> <p>A Manager is the most important person in football because he is the key man to plan each and everything, not just for his own team, but he has to monitor the other moves made by the opponents as well. The manager has to find out the ego of the players and must introduce psychological effects in the match this is well explained when Louis Van Gall substituted Tim Krul for just penalties during the FIFA World Cup quarter-final match between Holland and Costa Rica. Let’s see the list of <strong>Most Successful Football Managers</strong> in football history.</p><div class=\"ac\"><script async=\"\" src=\"https://pagead2.googlesyndication.com/pagead/js/adsbygoogle.js\"></script>\n",
      "<!-- res 4 -->\n",
      "<ins class=\"adsbygoogle\" data-ad-client=\"ca-pub-2490370964968032\" data-ad-format=\"auto\" data-ad-slot=\"8236105448\" data-full-width-responsive=\"true\" style=\"display:block\"></ins>\n",
      "<script>\r\n",
      "     (adsbygoogle = window.adsbygoogle || []).push({});\r\n",
      "</script></div><div class=\"clear mb20\"></div> <!-- /wp:paragraph --> <!-- wp:heading --> <h2>Top 10 Most Successful Football Managers of All Time</h2> <!-- /wp:heading --> <!-- wp:image {\"align\":\"none\",\"id\":548,\"className\":\"wp-image-548 size-full\"} --> <figure class=\"wp-block-image alignnone wp-image-548 size-full\"><img alt=\"Top 10 Most Successful Football Managers of All Time\" class=\"lazyload wp-image-548\" data-src=\"https://sportsshow.net/wp-content/uploads/2019/04/Successful-Soccer-Managers.jpg\"/><figcaption>Best Football Managers of All Time</figcaption></figure> <!-- /wp:image --> <!-- wp:paragraph --> <p>There are several <em><strong>greatest football managers</strong></em> who are currently not active. But no one can deny their contribution to the game. We ranked just 10 coaches on this list, but while doing that several names of great coaches left out because of the minute difference in success. So without wasting any more time, let’s dive in the most successful soccer managers of all-time list.</p> <!-- /wp:paragraph --> <!-- wp:heading {\"level\":3} --> <h3>10. Roberto Mancini</h3> <!-- /wp:heading --> <!-- wp:image {\"align\":\"none\",\"id\":547,\"className\":\"size-full wp-image-547\"} --> <figure class=\"wp-block-image alignnone size-full wp-image-547\"><img alt=\"Roberto Mancini in his Premier League management\" class=\"lazyload wp-image-547\" data-src=\"https://sportsshow.net/wp-content/uploads/2019/04/Roberto-Mancini-Sucessful-Managers.jpg\"/><figcaption>Roberto Mancini</figcaption></figure> <!-- /wp:image --> <!-- wp:paragraph --> <p>Italian football manager Roberto Mancini achieved 26 domestic and international trophies in his managerial career as of 2018. Regarded as a cup specialist, he marked his name among the most successful football managers of all time. He started his coaching journey with Fiorentina in 2001, and later managed several top-flight clubs like Manchester City and Inter Milan. Mancini currently manages the Italian national football team since 2018.</p><div class=\"ac\"><script async=\"\" src=\"https://pagead2.googlesyndication.com/pagead/js/adsbygoogle.js\"></script>\n",
      "<!-- res 5 -->\n",
      "<ins class=\"adsbygoogle\" data-ad-client=\"ca-pub-2490370964968032\" data-ad-format=\"auto\" data-ad-slot=\"5067016626\" data-full-width-responsive=\"true\" style=\"display:block\"></ins>\n",
      "<script>\r\n",
      "     (adsbygoogle = window.adsbygoogle || []).push({});\r\n",
      "</script></div><div class=\"clear mb20\"></div> <!-- /wp:paragraph --> <!-- wp:paragraph --> <p><strong>Trophies: </strong>He won the Coppa Italia with Fiorentina in 2001 and with Lazio in 2004. With Inter Milan, he achieved the Serie A title three times in a row from 2006 to 2008. He also helped the club to secure the Coppa Italia and Supercoppa Italiana title twice each. During his time at EPL, Manchester City became the Premier League champion and won the FA Community Shield in 2012. The club also achieved the FA Cup in 2011 under his guidance. While coaching the Turkish side Galatasaray, he won the domestic cup in the 2013-14 season.</p> <!-- /wp:paragraph --> <!-- wp:heading {\"level\":4} --> <h4>Roberto Mancini Managerial Records</h4> <!-- /wp:heading --> <!-- wp:table --> <figure class=\"wp-block-table\"><table><tbody><tr><td><strong>Team</strong></td><td><strong>Managing Period</strong></td><td><strong>Match</strong></td><td><strong>Wins</strong></td><td><strong>Draw</strong></td><td><strong>Loss</strong></td><td><strong>Win Percentage</strong></td></tr><tr><td>Fiorentina</td><td>February 2001 to January 2002</td><td>44</td><td>16</td><td>14</td><td>14</td><td>36.36%</td></tr><tr><td>Lazio</td><td>May 2002 to July 2004</td><td>102</td><td>49</td><td>32</td><td>21</td><td>48.04%</td></tr><tr><td>Inter Milan</td><td>July 2004 to May 2008</td><td>226</td><td>140</td><td>60</td><td>26</td><td>61.95%</td></tr><tr><td>Manchester City</td><td>December 2009 to May 2013</td><td>191</td><td>113</td><td>38</td><td>40</td><td>59.16%</td></tr><tr><td>Galatasaray</td><td>September 2013 to June 2014</td><td>46</td><td>24</td><td>13</td><td>9</td><td>52.17%</td></tr><tr><td>Inter Milan</td><td>November 2014 to August 2016</td><td>76</td><td>36</td><td>16</td><td>24</td><td>47.37%</td></tr><tr><td>Zenit Saint Petersburg</td><td>June 2017 to present</td><td>41</td><td>21</td><td>12</td><td>8</td><td>51.22%</td></tr></tbody></table></figure> <!-- /wp:table --> <!-- wp:paragraph --> <p><strong>Awards:</strong> For his amazing coaching stint with Inter Milan, Mancini received the Panchina d’Oro in 2008. During his time at Liverpool, he twice became the <a href=\"https://www.premierleague.com/stats/awards\" rel=\"noopener noreferrer\" target=\"_blank\" title=\"Premier League Best Manager Award\">Premier League Manager of the Month</a>. He received that award first in December 2010, followed by another in October 2011. Italian Football Federation inducted him into their Hall of Fame in 2015 for his remarkable contribution to world football.</p> <!-- /wp:paragraph --> <!-- wp:heading {\"level\":3} --> <h3>9. Jürgen Klopp</h3> <!-- /wp:heading --> <!-- wp:image {\"align\":\"none\",\"id\":543,\"className\":\"size-full wp-image-543\"} --> <figure class=\"wp-block-image alignnone size-full wp-image-543\"><img alt=\"Liverpool manager Jurgen Klopp\" class=\"lazyload wp-image-543\" data-src=\"https://sportsshow.net/wp-content/uploads/2019/04/Jurgen-Klopp-Sucessful-Managers.jpg\"/><figcaption>Jurgen Klopp</figcaption></figure> <!-- /wp:image --> <!-- wp:paragraph --> <p>German manager Jurgen Klopp spent 15 seasons coaching in Bundesliga before moving to Liverpool in 2015. Under his guidance, several amazing footballers like Mohamed Salah, Adam Lallana, and Roberto Firmino came into prominence in Liverpool. Klopp is the longest-serving manager of Borussia Dortmund and holds the ninth place in the <em><strong>most successful football managers list</strong></em>. After his brief career with Mainz 05 as a footballer, he started his managerial journey with the club. With several awards under his name, Klopp is also one of the most successful football managers of 2018.</p> <!-- /wp:paragraph --> <!-- wp:paragraph --> <p><strong>Trophies:</strong> Under his guidance, Mainz 05 achieved the promotion to the 2. Bundesliga in the 2003-04 season. He came into prominence in the coaching field for his stint with another Bundesliga club Borussia Dortmund. The club achieved two Bundesliga titles consecutively under his coaching, in 2011 and then again in 2012. He also held the DFB-Pokal trophy with the Dortmund squad in 2012. Klopp helped the squad to win the DFL-Supercup twice consecutively, in 2013 and 2014.</p> <!-- /wp:paragraph --> <!-- wp:heading {\"level\":4} --> <h4>Jürgen Klopp Managerial Records</h4> <!-- /wp:heading --> <!-- wp:table --> <figure class=\"wp-block-table\"><table><tbody><tr><td><strong>Team</strong></td><td><strong>Managing Period</strong></td><td><strong>Match</strong></td><td><strong>Wins</strong></td><td><strong>Draw</strong></td><td><strong>Loss</strong></td><td><strong>Win Percentage</strong></td></tr><tr><td>Mainz 05</td><td>February 2001 to June 2008</td><td>270</td><td>109</td><td>78</td><td>83</td><td>40.4%</td></tr><tr><td>Borussia Dortmund</td><td>July 2008 to June 2015</td><td>318</td><td>179</td><td>69</td><td>70</td><td>56.3%</td></tr><tr><td>Liverpool</td><td>October 2015 to present</td><td>150</td><td>80</td><td>43</td><td>27</td><td>53.3%</td></tr></tbody></table></figure> <!-- /wp:table --> <!-- wp:paragraph --> <p><strong>Awards:</strong> For his amazing success with Bundesliga side Borussia Dortmund, Jürgen Klopp received the German Football Manager of the Year award twice consecutively. He first received it in 2011, and with the League win, he received it again in 2012. During his time with the Premier League club Liverpool, he won the English Premier League <em><strong>Manager of the Month</strong></em> award in September 2016.</p> <!-- /wp:paragraph --> <!-- wp:heading {\"level\":3} --> <h3>8. Manuel Pellegrini</h3> <!-- /wp:heading --> <!-- wp:image {\"align\":\"none\",\"id\":544,\"className\":\"size-full wp-image-544\"} --> <figure class=\"wp-block-image alignnone size-full wp-image-544\"><img alt=\"Italian manager Manuel Pellegrini\" class=\"lazyload wp-image-544\" data-src=\"https://sportsshow.net/wp-content/uploads/2019/04/Manuel-Pellegrini-Sucessful-Managers.jpg\"/><figcaption>Manuel Pellegrini</figcaption></figure> <!-- /wp:image --> <!-- wp:paragraph --> <p>Chilean coach Manuel Pellegrini currently managing the Chinese Super League squad Hebei China Fortune and earns the eighth place in the <em><strong>most successful soccer managers list</strong></em>. After his management success at Villarreal, Real Madrid appointed him as their manager in 2009. Under his coaching, Los Blancos made 96 points in La Liga that season. He moved to Premier League for coaching Manchester City in 2013. After his successful time there, he moved to Hebei China in 2016.</p> <!-- /wp:paragraph --> <!-- wp:paragraph --> <p><strong>Trophies:</strong> With Chilean side Universidad Católica, he won the Copa Interamericana in 1993 and Copa Chile in 1995. With LDU Quito, he achieved the Serie A trophy in 1999. San Lorenzo won both the Primera División and Copa Mercosur under his guidance in 2001. With the Argentine club River Plate, Pellegrini achieved the Argentina Primera División in 2003. He then moved to La Liga and made Villarreal the UEFA Intertoto Cup champion in 2004. With Manchester City, Pellegrini became the Premier League winner once and the Football League Cup champion twice.</p> <!-- /wp:paragraph --> <!-- wp:heading {\"level\":4} --> <h4>Manuel Pellegrini Managerial Records</h4> <!-- /wp:heading --> <!-- wp:table --> <figure class=\"wp-block-table\"><table><tbody><tr><td><strong>Team</strong></td><td><strong>Managing Period</strong></td><td><strong>Match</strong></td><td><strong>Wins</strong></td><td><strong>Draw</strong></td><td><strong>Loss</strong></td><td><strong>Win Percentage</strong></td></tr><tr><td>Villarreal</td><td>July 2004 to June 2009</td><td>259</td><td>123</td><td>72</td><td>64</td><td>47.5%</td></tr><tr><td>Real Madrid</td><td>June 2009 to May 2010</td><td>48</td><td>36</td><td>5</td><td>7</td><td>75.0%</td></tr><tr><td>Málaga</td><td>November 2010 to June 2013</td><td>129</td><td>53</td><td>30</td><td>46</td><td>41.1%</td></tr><tr><td>Manchester City</td><td>June 2013 to June 2016</td><td>167</td><td>100</td><td>28</td><td>39</td><td>59.9%</td></tr><tr><td>Hebei China Fortune</td><td>August 2016 to present</td><td>37</td><td>16</td><td>9</td><td>12</td><td>43.2%</td></tr></tbody></table></figure> <!-- /wp:table --> <!-- wp:paragraph --> <p><strong>Awards:</strong> Manuel Pellegrini received the Miguel Muñoz Trophy for being the <em><strong>best football manager in the world</strong></em> in 2008. He received the Gold Shield from the Málaga Provincial Council for his spectacular coaching stint with the Malaga club. During his time in Premier League, he received the Premier League Manager of the Month award four times.</p> <!-- /wp:paragraph --> <!-- wp:heading {\"level\":3} --> <h3>7. Antonio Conte</h3> <!-- /wp:heading --> <!-- wp:image {\"align\":\"none\",\"id\":538,\"className\":\"size-full wp-image-538\"} --> <figure class=\"wp-block-image alignnone size-full wp-image-538\"><img alt=\"Italian coach Antonio Conte\" class=\"lazyload wp-image-538\" data-src=\"https://sportsshow.net/wp-content/uploads/2019/04/Antonio-Conte-Sucessful-Managers.jpg\"/><figcaption>Antonio Conte</figcaption></figure> <!-- /wp:image --> <!-- wp:paragraph --> <p>Italian coach Antonio Conte managed his national side besides his stints with several <a href=\"https://sportsshow.net/richest-football-clubs/\" rel=\"noopener noreferrer\" target=\"_blank\">richest football clubs in the world</a>. One of the most decorated players of his time, Conte earns his place among the <em><strong>most successful football managers in history</strong></em>.  He earned praises from football pundits after implementing the 3–5–2 formation in the Juventus squad in 2011. After his successful stints with the Italian club, he currently manages the fellow Serie A side Inter Milan since 2019.</p> <!-- /wp:paragraph --> <!-- wp:paragraph --> <p><strong>Trophies:</strong> With Italian club FC Bari 1908, he won the Serie B in the 2008-09 season. He then managed the Juventus squad and achieved the Serie A title thrice. Under his coaching, Juventus won the domestic league in 2012, 2013, and then again in 2014. He also helped the club to become victorious in the Supercoppa Italiana twice. Premier League club Chelsea achieved the EPL trophy in the 2016-17 season under Conte’s management.</p> <!-- /wp:paragraph --> <!-- wp:heading {\"level\":4} --> <h4>Antonio Conte Managerial Records</h4> <!-- /wp:heading --> <!-- wp:table --> <figure class=\"wp-block-table\"><table><tbody><tr><td><strong>Team</strong></td><td><strong>Managing Period</strong></td><td><strong>Match</strong></td><td><strong>Wins</strong></td><td><strong>Draw</strong></td><td><strong>Loss</strong></td><td><strong>Win Percentage</strong></td></tr><tr><td>Arezzo</td><td>July 2006 to June 2007</td><td>12</td><td>3</td><td>5</td><td>4</td><td>25.0%</td></tr><tr><td>Bari</td><td>December 2007 to June 2009</td><td>67</td><td>32</td><td>20</td><td>15</td><td>47.8%</td></tr><tr><td>Atalanta</td><td>September 2009 to January 2010</td><td>14</td><td>3</td><td>4</td><td>7</td><td>21.4%</td></tr><tr><td>Siena</td><td>July 2010 to May 2011</td><td>44</td><td>22</td><td>14</td><td>8</td><td>50.0%</td></tr><tr><td>Juventus</td><td>May 2011 to July 2014</td><td>152</td><td>102</td><td>35</td><td>15</td><td>67.1%</td></tr><tr><td>Italy</td><td>August 2014 to July 2016</td><td>25</td><td>14</td><td>7</td><td>4</td><td>56.0%</td></tr><tr><td>Chelsea</td><td>July 2016 to present</td><td>101</td><td>66</td><td>16</td><td>19</td><td>65.3%</td></tr></tbody></table></figure> <!-- /wp:table --> <!-- wp:paragraph --> <p><strong>Awards:</strong> Conte received Premier League Manager of the Month award three times till now, and named as the Serie A Coach of the Year thrice. He won the Premier League Manager of the Season, LMA Manager of the Year and Special Achievement GQ Men of the Year Award in 2017. He also received the <em><strong>Manager of the Year award</strong></em> at the London Football Awards 2017. Besides, Conte won the Panchina d'Oro thrice and Panchina d'Argento once.</p> <!-- /wp:paragraph --> <!-- wp:heading {\"level\":3} --> <h3>6. Giovanni Trapattoni</h3> <!-- /wp:heading --> <!-- wp:image {\"align\":\"none\",\"id\":541,\"className\":\"size-full wp-image-541\"} --> <figure class=\"wp-block-image alignnone size-full wp-image-541\"><img alt=\"one of the best international manager Giovanni Trapattoni\" class=\"lazyload wp-image-541\" data-src=\"https://sportsshow.net/wp-content/uploads/2019/04/Giovanni-Trapattoni-Sucessful-Managers.jpg\"/><figcaption>Giovanni Trapattoni</figcaption></figure> <!-- /wp:image --> <!-- wp:paragraph --> <p>Widely regarded as the most successful Serie A coach, Giovanni Trapattoni deserves his place in the list of <em><strong>Best football managers</strong></em>. Nicknamed the “Trap”, Trapattoni noted for being one of the only five coaches to win the league titles in four different European countries. He is the only manager besides Udo Lattek to win all three main European club competitions including the UEFA Champions League. Besides coaching the Italian national side, he managed several big clubs like AC Milan, Inter Milan, Juventus, and Bayern Munich.</p> <!-- /wp:paragraph --> <!-- wp:paragraph --> <p><strong>Trophies:</strong> Trapattoni achieved the most success with the Italian club Juventus. With the club, he won the Serie A title a record 6 times and the Coppa Italia twice. With Inter Milan, he won the Serie A and Supercoppa Italiana in 1989, and the UEFA Cup in 1991. Under his management, Bayern Munich won the Bundesliga and DFB-Ligapokal in 1997, and DFB-Pokal in 1998. With Benfica, Trapattoni won the Primeira Liga in 2007. His international success came with the Republic of Ireland in the 2011 Nations Cup.</p> <!-- /wp:paragraph --> <!-- wp:heading {\"level\":4} --> <h4>Giovanni Trapattoni Managerial Records</h4> <!-- /wp:heading --> <!-- wp:table --> <figure class=\"wp-block-table\"><table><tbody><tr><td><strong>Team</strong></td><td><strong>Managing Period</strong></td><td><strong>Match</strong></td><td><strong>Wins</strong></td><td><strong>Draw</strong></td><td><strong>Loss</strong></td><td><strong>Win Percentage</strong></td></tr><tr><td>AC Milan</td><td>April 1974 to June 1974</td><td>11</td><td>4</td><td>5</td><td>2</td><td>36.36%</td></tr><tr><td>Juventus</td><td>July 1976 to June 1986</td><td>450</td><td>244</td><td>136</td><td>70</td><td>54.22%</td></tr><tr><td>Inter Milan</td><td>July 1986 to June 1991</td><td>233</td><td>126</td><td>61</td><td>46</td><td>54.08%</td></tr><tr><td>Juventus</td><td>July 1991 to June 1994</td><td>140</td><td>74</td><td>42</td><td>24</td><td>52.86%</td></tr><tr><td>Bayern Munich</td><td>July 1994 to June 1995</td><td>46</td><td>17</td><td>18</td><td>11</td><td>36.96%</td></tr><tr><td>Cagliari</td><td>July 1995 to June 1996</td><td>37</td><td>13</td><td>8</td><td>16</td><td>35.14%</td></tr><tr><td>Bayern Munich</td><td>July 1996 to June 1998</td><td>90</td><td>55</td><td>22</td><td>13</td><td>61.11%</td></tr><tr><td>Fiorentina</td><td>July 1998 to June 2000</td><td>99</td><td>44</td><td>31</td><td>24</td><td>44.44%</td></tr><tr><td>Italy</td><td>July 2000 to July 2004</td><td>44</td><td>25</td><td>12</td><td>7</td><td>56.82%</td></tr><tr><td>Benfica</td><td>July 2004 to May 2005</td><td>51</td><td>29</td><td>10</td><td>12</td><td>56.86%</td></tr><tr><td>VfB Stuttgart</td><td>June 2005 to February 2006</td><td>31</td><td>11</td><td>13</td><td>7</td><td>35.48%</td></tr><tr><td>Red Bull Salzburg</td><td>May 2006 to April 2008</td><td>87</td><td>48</td><td>19</td><td>20</td><td>55.17%</td></tr><tr><td>Republic of Ireland</td><td>May 2008 to September 2013</td><td>64</td><td>26</td><td>22</td><td>16</td><td>40.63%</td></tr></tbody></table></figure> <!-- /wp:table --> <!-- wp:paragraph --> <p><strong>Awards:</strong> Trapattoni won the Seminatore d'Oro twice, and the Premio l'Allenatore Dei Sogni and Panchina d'Oro once each. He also received the European Football Coach of the Year award twice. During his time in Serie A, he won the European Coach of the Season award two times. World Soccer Magazine named him the 19th <em><strong>Greatest Football Manager of All Time</strong></em> in 2013. Italian Football Federation inducted him into their Hall of Fame in 2012. Shortly after, AC Milan inducted him into their Hall of Fame in 2015.</p> <!-- /wp:paragraph --> <!-- wp:heading {\"level\":3} --> <h3>5. Pep Guardiola</h3> <!-- /wp:heading --> <!-- wp:image {\"align\":\"none\",\"id\":546,\"className\":\"size-full wp-image-546\"} --> <figure class=\"wp-block-image alignnone size-full wp-image-546\"><img alt=\"The Premier League manager Pep Guardiola\" class=\"lazyload wp-image-546\" data-src=\"https://sportsshow.net/wp-content/uploads/2019/04/Pep-Guardiola-Sucessful-Managers.jpg\"/><figcaption>Pep Guardiola</figcaption></figure> <!-- /wp:image --> <!-- wp:paragraph --> <p>Spanish coach Pep Guardiola currently manages the Premier League side Manchester City and holds the fifth spot in the list of <em><strong>all-time most successful football managers</strong></em>. Besides his notable coaching career, he earned praise for being one of the greatest footballers of his generation. As an interesting fact, football magician Lionel Messi came into prominence under Pep’s guidance. After his stints with Barcelona and Bayern Munich, he has been managing the sky blues since 2016.</p> <!-- /wp:paragraph --> <!-- wp:paragraph --> <p><strong>Trophies:</strong> With Barcelona, Pep won the La Liga thrice and the Copa del Rey twice. He also achieved the UEFA Champions League and Super Cup twice each with the Catalan side. Under his guidance, Barca won the FIFA Club World Cup in 2009 and 2011. With Bayern Munich, he won the Bundesliga thrice and DFB-Pokal twice. The club also won both the UEFA Super Cup and FIFA Club World Cup under his coaching in 2013. With Manchester City, he held the Premier League trophy and the EFL Cup in the 2017/18 season.</p> <!-- /wp:paragraph --> <!-- wp:heading {\"level\":4} --> <h4>Pep Guardiola Managerial Records</h4> <!-- /wp:heading --> <!-- wp:table --> <figure class=\"wp-block-table\"><table><tbody><tr><td><strong>Team</strong></td><td><strong>Managing Period</strong></td><td><strong>Match</strong></td><td><strong>Wins</strong></td><td><strong>Draw</strong></td><td><strong>Loss</strong></td><td><strong>Win Percentage</strong></td></tr><tr><td>Barcelona B</td><td>June 2007 to June 2008</td><td>38</td><td>25</td><td>8</td><td>5</td><td>65.8%</td></tr><tr><td>Barcelona</td><td>July 2008 to June 2012</td><td>247</td><td>179</td><td>47</td><td>21</td><td>72.5%</td></tr><tr><td>Bayern Munich</td><td>June 2013 to June 2016</td><td>161</td><td>121</td><td>21</td><td>19</td><td>75.2%</td></tr><tr><td>Manchester City</td><td>July 2016 to present</td><td>109</td><td>74</td><td>18</td><td>17</td><td>67.9%</td></tr></tbody></table></figure> <!-- /wp:table --> <!-- wp:paragraph --> <p><strong>Awards:</strong> Pep received the Premier League Manager of the Month award five times as of 2018. He also won the La Liga Coach of the Year four times during his stint with Barcelona. He received the Don Balon Award twice and the Onze d'Or Coach of the Year award thrice. World Soccer Magazine named him the 5th <em><strong>Greatest Manager of All Time</strong></em> in 2013. Pep won both the FIFA World Coach of the Year and European Coach of the Year in 2011.</p> <!-- /wp:paragraph --> <!-- wp:heading {\"level\":3} --> <h3>4. Arsène Wenger</h3> <!-- /wp:heading --> <!-- wp:image {\"align\":\"none\",\"id\":539,\"className\":\"size-full wp-image-539\"} --> <figure class=\"wp-block-image alignnone size-full wp-image-539\"><img alt=\"The legendary coach of Premier League\" class=\"lazyload wp-image-539\" data-src=\"https://sportsshow.net/wp-content/uploads/2019/04/Arsene-Wenger-Sucessful-Managers.jpg\"/><figcaption>Arsene Wenger</figcaption></figure> <!-- /wp:image --> <!-- wp:paragraph --> <p>Widely regarded as one of the best EPL coaches, Arsene Wenger holds the fourth spot in the list of <em><strong>most successful football managers ever</strong></em>. After 22 years of coaching the Arsenal squad, he recently announced his wish to step down in April 2018. Nicknamed \"Le Professeur\", Wenger revolutionized the training and diet system of English football players since the 1990s. Besides his reign with the Gunners, he also spent brief periods with several other clubs like Monaco and Nancy.</p> <!-- /wp:paragraph --> <!-- wp:paragraph --> <p><strong>Trophies:</strong> With AS Monaco, he won one of the most popular football leagues the French Ligue 1 in 1988 and the Coupe de France in 1991. With his brief stint with Nagoya Grampus, he achieved the Emperor's Cup in 1995 and the J-League Super Cup in 1996. Under his coaching, Arsenal won the English Premier League three times, in 1998, 2002 and then again in 2004. He also guided Gunners to achieve the FA Community Shield and the FA Cup seven times each as of 2018.</p> <!-- /wp:paragraph --> <!-- wp:heading {\"level\":4} --> <h4>Arsene Wenger Managerial Records</h4> <!-- /wp:heading --> <!-- wp:table --> <figure class=\"wp-block-table\"><table><tbody><tr><td><strong>Team</strong></td><td><strong>Managing Period</strong></td><td><strong>Match</strong></td><td><strong>Wins</strong></td><td><strong>Draw</strong></td><td><strong>Loss</strong></td><td><strong>Win Percentage</strong></td></tr><tr><td>AS Nancy</td><td>July 1984 to July 1987</td><td>114</td><td>33</td><td>30</td><td>51</td><td>28.9%</td></tr><tr><td>AS Monaco</td><td>July 1987 to September 1994</td><td>266</td><td>130</td><td>53</td><td>83</td><td>48.9%</td></tr><tr><td>Nagoya Grampus Eight</td><td>February 1995 to September 1996</td><td>87</td><td>49</td><td>4</td><td>34</td><td>56.3%</td></tr><tr><td>Arsenal</td><td>October 1996 to present</td><td>1,230</td><td>705</td><td>280</td><td>245</td><td>57.3%</td></tr></tbody></table></figure> <!-- /wp:table --> <!-- wp:paragraph --> <p><strong>Awards:</strong> He received the Premier League Manager of the Season thrice till now. He won the Onze d'Or Coach of The Year four times and LMA Manager of the Year twice. BBC named him Sports Coaching Personality of the Year twice. Wenger won the World Manager of the Year in 1998 and the FWA Tribute Award in 2005. IFFHS named him as the World Coach of the Decade 2000s. English football federation inducted him into their Hall of Fame in 2006.</p> <!-- /wp:paragraph --> <!-- wp:heading {\"level\":3} --> <h3>3. Jose Mourinho</h3> <!-- /wp:heading --> <!-- wp:image {\"align\":\"none\",\"id\":542,\"className\":\"size-full wp-image-542\"} --> <figure class=\"wp-block-image alignnone size-full wp-image-542\"><img alt=\"The Special one Jose Mourinho\" class=\"lazyload wp-image-542\" data-src=\"https://sportsshow.net/wp-content/uploads/2019/04/Jose-Mourinho-Sucessful-Managers.jpg\"/><figcaption>Jose Mourinho</figcaption></figure> <!-- /wp:image --> <!-- wp:paragraph --> <p>Regarded as the best for his stint with Real Madrid, Jose Mourinho holds the third place in the <em><strong>most successful football managers of all-time list</strong></em>. After a brief career in professional football, Mourinho started his coaching journey as an assistant manager of Porto in 1994. Since then, he managed several great clubs such as Chelsea, Inter Milan, and Real Madrid. He last coached the English Premier League side Manchester United from 2016 to 2018. As an interesting fact, he achieved at least one trophy each year between 2003 and 2012.</p> <!-- /wp:paragraph --> <!-- wp:paragraph --> <p><strong>Trophies:</strong> With Chelsea, Mourinho won the Premier League and the Football League Cup thrice each. With Inter Milan, he achieved the Serie A title thrice and also held the UEFA Champions League trophy in 2010. Under his guidance, Real Madrid won the Copa del Rey in 2011, and La Liga and Supercopa de España in 2012. With Manchester United as of 2018, he won the FA Community Shield in 2016, and the UEFA Europa League and the EFL Cup in 2017.</p> <!-- /wp:paragraph --> <!-- wp:heading {\"level\":4} --> <h4>Jose Mourinho Managerial Records</h4> <!-- /wp:heading --> <!-- wp:table --> <figure class=\"wp-block-table\"><table><tbody><tr><td><strong>Team</strong></td><td><strong>Managing Period</strong></td><td><strong>Match</strong></td><td><strong>Wins</strong></td><td><strong>Draw</strong></td><td><strong>Loss</strong></td><td><strong>Win Percentage</strong></td></tr><tr><td>Benfica</td><td>September 2000 to December 2000</td><td>11</td><td>6</td><td>3</td><td>2</td><td>54.5%</td></tr><tr><td>União de Leiria</td><td>July 2001 to January 2002</td><td>20</td><td>9</td><td>7</td><td>4</td><td>45.0%</td></tr><tr><td>Porto</td><td>January 2002 to June 2004</td><td>127</td><td>91</td><td>21</td><td>15</td><td>71.7%</td></tr><tr><td>Chelsea</td><td>June 2004 to September 2007</td><td>185</td><td>124</td><td>40</td><td>21</td><td>67.0%</td></tr><tr><td>Inter Milan</td><td>June 2008 to May 2010</td><td>108</td><td>67</td><td>26</td><td>15</td><td>62.0%</td></tr><tr><td>Real Madrid</td><td>May 2010 to June 2013</td><td>178</td><td>128</td><td>28</td><td>22</td><td>71.9%</td></tr><tr><td>Chelsea</td><td>June 2013 to December 2015</td><td>136</td><td>80</td><td>29</td><td>27</td><td>58.8%</td></tr><tr><td>Manchester United</td><td>May 2016 to present</td><td>115</td><td>72</td><td>24</td><td>19</td><td>62.6%</td></tr></tbody></table></figure> <!-- /wp:table --> <!-- wp:paragraph --> <p><strong>Awards:</strong> Portuguese Football Federation named him as the Portuguese Coach of the Century in 2015. He became the IFFHS World's Best Club Coach four times and FIFA World Coach of the Year once. Mourinho became the Premier League Manager of the Year on three occasions. Besides, he also received the BBC Sports Personality of the Year Coach Award in 2005. European Federation included him on their 10 Greatest Coaches of the UEFA era ranking. At the Onze d'Or ceremony in 2005, Mourinho received the Coach of the Year award.</p> <!-- /wp:paragraph --> <!-- wp:heading {\"level\":3} --> <h3>2. Carlo Ancelotti</h3> <!-- /wp:heading --> <!-- wp:image {\"align\":\"none\",\"id\":540,\"className\":\"size-full wp-image-540\"} --> <figure class=\"wp-block-image alignnone size-full wp-image-540\"><img alt=\"The best La Liga coach Carlo Ancelotti\" class=\"lazyload wp-image-540\" data-src=\"https://sportsshow.net/wp-content/uploads/2019/04/Carlo-Ancelotti-Sucessful-Managers.jpg\"/><figcaption>Carlo Ancelotti</figcaption></figure> <!-- /wp:image --> <!-- wp:paragraph --> <p>Widely noted for his time with Serie A club AC Milan, Carlo Ancelotti earns the second spot in our list of <em><strong>most successful football managers</strong></em> in the world. He managed several great clubs till now, which includes Real Madrid, Chelsea, Bayern Munich, PSG, and many more. He won domestic titles in 4 out of Europe’s top 5 leagues. Ancelotti holds the record for winning the UEFA Champions League a record 4 times.</p> <!-- /wp:paragraph --> <!-- wp:paragraph --> <p><strong>Trophies:</strong> With Juventus, he won the UEFA Intertoto Cup in 1999. With AC Milan, he achieved UEFA Champions League twice, and Serie A and Coppa Italia once each. He also held the FIFA Club World Cup trophy with the Italian club in 2007. With Chelsea, Ancelotti won the Premier League and FA Cup in the 2009-10 season. He then guided Real Madrid to win UEFA Champions League, FIFA Club World Cup, Copa del Rey, and UEFA Super Cup in 2014. With Bayern Munich, he achieved the Bundesliga in 2017.</p> <!-- /wp:paragraph --> <!-- wp:heading {\"level\":4} --> <h4>Carlo Ancelotti Managerial Records</h4> <!-- /wp:heading --> <!-- wp:table --> <figure class=\"wp-block-table\"><table><tbody><tr><td><strong>Team</strong></td><td><strong>Managing Period</strong></td><td><strong>Match</strong></td><td><strong>Wins</strong></td><td><strong>Draw</strong></td><td><strong>Loss</strong></td><td><strong>Win Percentage</strong></td></tr><tr><td>Reggiana</td><td>July 1995 to June 1996</td><td>41</td><td>17</td><td>14</td><td>10</td><td>41.46%</td></tr><tr><td>Parma</td><td>July 1996 to June 1998</td><td>87</td><td>42</td><td>27</td><td>18</td><td>48.28%</td></tr><tr><td>Juventus</td><td>February 1999 to June 2001</td><td>114</td><td>63</td><td>33</td><td>18</td><td>55.26%</td></tr><tr><td>AC Milan</td><td>November 2001 to May 2009</td><td>423</td><td>238</td><td>101</td><td>84</td><td>56.26%</td></tr><tr><td>Chelsea</td><td>July 2009 to May 2011</td><td>109</td><td>67</td><td>20</td><td>22</td><td>61.47%</td></tr><tr><td>Paris St. Germain</td><td>December 2011 to June 2013</td><td>77</td><td>49</td><td>19</td><td>9</td><td>63.64%</td></tr><tr><td>Real Madrid</td><td>June 2013 to May 2015</td><td>119</td><td>89</td><td>14</td><td>16</td><td>74.79%</td></tr><tr><td>Bayern Munich</td><td>July 2016 to September 2017</td><td>60</td><td>42</td><td>9</td><td>9</td><td>70%</td></tr></tbody></table></figure> <!-- /wp:table --> <!-- wp:paragraph --> <p><strong>Awards:</strong> He received the Serie A Coach of the Year award and Panchina d'Oro twice each. Ancelotti received the Best Coach of the Year award and Best Media Attraction in Football award at the Globe Soccer Awards in 2014. Italian football board inducted him into their Football Hall of Fame in 2015. Besides, AC Milan and AS Roma also inducted him into their club hall of fame.</p> <!-- /wp:paragraph --> <!-- wp:heading {\"level\":3} --> <h3>1. Sir Alex Ferguson</h3> <!-- /wp:heading --> <!-- wp:image {\"align\":\"none\",\"id\":537,\"className\":\"size-full wp-image-537\"} --> <figure class=\"wp-block-image alignnone size-full wp-image-537\"><img alt=\"The legendary Sir Alex Ferguson\" class=\"lazyload wp-image-537\" data-src=\"https://sportsshow.net/wp-content/uploads/2019/04/Alex-Ferguson-Sucessful-Managers.jpg\"/><figcaption>Sir Alex Ferguson</figcaption></figure> <!-- /wp:image --> <!-- wp:paragraph --> <p><em><strong>Legendary football manager</strong></em> Sir Alex Ferguson is widely noted for his stint with Manchester United. But, he first came into prominence while managing the Scottish national team in 1985. After this, he joined Premier League side Manchester United in November 1986. He managed the Red Devils first squad for 26 years and proved himself as the greatest and the Best football<em><strong> managers of all time</strong></em>. Several great players such as Cristiano Ronaldo and Wayne Rooney grew up under his guidance.</p> <!-- /wp:paragraph --> <!-- wp:paragraph --> <p><strong>Trophies:</strong> During his time at Old Trafford between 1986 and 2012, he won 38 domestic and international trophies. He guided the squad to hold the English Premier League title a record 13 times. The club also achieved 2 UEFA Champions League titles and 5 FA Cup titles under his guidance. Ferguson also helped Manchester United to win 10 FA Community Shield and 4 League Cup. Besides, the Red Devils became the FIFA Club World Cup winner under his guidance in 2008.</p> <!-- /wp:paragraph --> <!-- wp:heading {\"level\":4} --> <h4>Sir Alex Ferguson Managerial Records</h4> <!-- /wp:heading --> <!-- wp:table --> <figure class=\"wp-block-table\"><table><tbody><tr><td><strong>Team</strong></td><td><strong>Managing Period</strong></td><td><strong>Match</strong></td><td><strong>Wins</strong></td><td><strong>Draw</strong></td><td><strong>Loss</strong></td><td><strong>Win Percentage</strong></td></tr><tr><td>East Stirlingshire</td><td>June 1974 to October 1974</td><td>17</td><td>9</td><td>2</td><td>6</td><td>52.9%</td></tr><tr><td>St Mirren</td><td>October 1974 to May 1978</td><td>169</td><td>74</td><td>41</td><td>54</td><td>43.8%</td></tr><tr><td>Aberdeen FC</td><td>June 1978 to November 1986</td><td>459</td><td>272</td><td>105</td><td>82</td><td>59.3%</td></tr><tr><td>Scotland</td><td>October 1985 to  June 1986</td><td>10</td><td>3</td><td>4</td><td>3</td><td>30%</td></tr><tr><td>Manchester United</td><td>November 1986 to May 2013</td><td>1500</td><td>895</td><td>338</td><td>267</td><td>59.7%</td></tr></tbody></table></figure> <!-- /wp:table --> <!-- wp:paragraph --> <p><strong>Awards:</strong> He received the knighthood at the Queen's Birthday Honours in 1999 for his contribution to Football. Ferguson won the Premier League Manager of the Month award a record 27 times and became the Premier League Manager of the Season 11 times. IFFHS named him as the World's Best Coach of the 21st Century in 2012. BBC gave him the Lifetime Achievement Award at the Sports Personality of the Year ceremony in 2001. Without any doubt, Alex Ferguson is definitely the <em><strong>greatest football manager of all time</strong></em>.</p> <!-- /wp:paragraph --> <!-- wp:heading {\"level\":3} --> <h3>Most Successful Football Managers of All Time – Honorable Mentions</h3> <!-- /wp:heading --> <!-- wp:paragraph --> <p>Several <em><strong>greatest football managers</strong></em> deserve the honorable mentions on this list. Such as, Luis Enrique who won the treble with Barcelona in his debut season followed by a double in the next season. Vicente del Bosque also deserves his place in the list for his amazing stints with Real Madrid between 1994 and 2003. Bayern Munich’s current manager Jupp Heynckes already proved himself as one of the <em><strong>best soccer managers</strong> </em>of 2018 with 4 Bundesliga title and 2 UEFA Champions League title under his name. And, who can forget Claudio Ranieri who guided Leicester City to win the Premier League title in the 2015-16 season?</p> <!-- /wp:paragraph --> <!-- wp:heading {\"level\":3} --> <h3>Most Successful Football Managers in history – Updated Table 2020</h3> <!-- /wp:heading --> <!-- wp:table --> <figure class=\"wp-block-table\"><table><tbody><tr><td><strong>Rank</strong></td><td><strong>Manager</strong></td><td><strong>Nationality</strong></td><td><strong>Career Span</strong></td><td><strong>Clubs</strong></td></tr><tr><td>1</td><td>Sir Alex Ferguson</td><td>Scottish</td><td>June 1974 to May 2013</td><td>East Stirlingshire, St Mirren, Aberdeen FC, Scotland, Manchester United</td></tr><tr><td>2</td><td>Carlo Ancelotti</td><td>Italian</td><td>July 1995 to September 2017</td><td>Reggiana, Parma, Juventus, Milan, Chelsea, Paris Saint-Germain, Real Madrid, Bayern Munich</td></tr><tr><td>3</td><td>Jose Mourinho</td><td>Portuguese</td><td>September 2000 to Present</td><td>Benfica, União de Leiria, Porto, Chelsea, Inter Milan, Real Madrid, Chelsea, Manchester United</td></tr><tr><td>4</td><td>Arsene Wenger</td><td>French</td><td>July 1984 to Present</td><td>Nancy, Monaco, Nagoya Grampus Eight, Arsenal</td></tr><tr><td>5</td><td>Pep Guardiola</td><td>Spanish</td><td>June 2007 to Present</td><td>Barcelona B, Barcelona, Bayern Munich, Manchester City</td></tr><tr><td>6</td><td>Giovanni Trapattoni</td><td>Italian</td><td>April 1974 to September 2013</td><td>A.C. Milan, Juventus, Inter Milan, Bayern Munich, Cagliari, Fiorentina, Italy, Benfica, VfB Stuttgart, Red Bull Salzburg, Republic of Ireland, Vatican City</td></tr><tr><td>7</td><td>Antonio Conte</td><td>Italian</td><td>July 2006 to Present</td><td>Arezzo, Bari, Atalanta, Siena, Juventus, Italy, Chelsea</td></tr><tr><td>8</td><td>Manuel Pellegrini</td><td>Chilean</td><td>July 2004 to Present</td><td>Universidad de Chile, Palestino, O'Higgins, Universidad Católica, LDU Quito, San Lorenzo, River Plate, Villarreal, Real Madrid, Málaga, Manchester City, Hebei China Fortune</td></tr><tr><td>9</td><td>Jürgen Klopp</td><td>German</td><td>February 2001 to Present</td><td>Mainz 05, Borussia Dortmund, Liverpool</td></tr><tr><td>10</td><td>Roberto Mancini</td><td>Italian</td><td>February 2001 to Present</td><td>Fiorentina, Lazio, Inter Milan, Manchester City, Galatasaray, Zenit Saint Petersburg</td></tr></tbody></table></figure> <!-- /wp:table --> <!-- wp:paragraph --> <p>The manager of a football team has the capability to make or break a team. He knows the strengths of the players. And, he surely needs to use them to make up for the weaknesses of the players. The top 10 <strong><em>Most Successful Football Managers</em></strong> in history have managed to do exactly that. Let us know of your most memorable football memory during the tenure of these managers.</p> <!-- /wp:paragraph -->\n",
      "<div class=\"clear mb20\"></div>\n",
      "<div class=\"ac\"><script async=\"\" src=\"https://pagead2.googlesyndication.com/pagead/js/adsbygoogle.js\"></script>\n",
      "<!-- res 2 -->\n",
      "<ins class=\"adsbygoogle\" data-ad-client=\"ca-pub-2490370964968032\" data-ad-format=\"auto\" data-ad-slot=\"5857833046\" data-full-width-responsive=\"true\" style=\"display:block\"></ins>\n",
      "<script>\r\n",
      "     (adsbygoogle = window.adsbygoogle || []).push({});\r\n",
      "</script></div><div class=\"clear mb20\"></div>\n",
      "<div class=\"widget\">\n",
      "<h3>More Recent Posts</h3>\n",
      "<div class=\"item_boxes\">\n",
      "<a class=\"item_box\" href=\"https://sportsshow.net/hottest-female-soccer-players/\">\n",
      "<img alt=\"Top 10 Hottest Female Soccer Players In The World\" class=\"lazyload\" data-src=\"https://sportsshow.net/media/2019/05/_1/370x250/Hottest-Female-Soccer-Players-1.jpg\"/>\n",
      "<p class=\"item_text\">Top 10 Hottest Female Soccer Players in the World</p>\n",
      "</a>\n",
      "<a class=\"item_box\" href=\"https://sportsshow.net/best-goalkeeper-gloves/\">\n",
      "<img alt=\"Top 10 Best Goalkeeper Gloves To Try This Year\" class=\"lazyload\" data-src=\"https://sportsshow.net/media/2019/11/_1/370x250/Best-Goalkeeping-Gloves.jpg\"/>\n",
      "<p class=\"item_text\">Top 10 Best Goalkeeper Gloves To Try This Year</p>\n",
      "</a>\n",
      "<a class=\"item_box\" href=\"https://sportsshow.net/history-of-fifa-ballon-dor/\">\n",
      "<img alt=\"A Brief History Of FIFA Ballon D&amp;#39;Or\" class=\"lazyload\" data-src=\"https://sportsshow.net/media/2019/11/_1/370x250/Ballon-dOr-History.jpg\"/>\n",
      "<p class=\"item_text\">A Brief History of FIFA Ballon d'Or</p>\n",
      "</a>\n",
      "<a class=\"item_box\" href=\"https://sportsshow.net/most-successful-retired-soccer-players/\">\n",
      "<img alt=\"Top 10 Most Successful Retired Soccer Players\" class=\"lazyload\" data-src=\"https://sportsshow.net/media/2019/07/_1/370x250/Successful-Retired-Soccer-Players.jpg\"/>\n",
      "<p class=\"item_text\">Top 10 Most Successful Retired Soccer Players</p>\n",
      "</a>\n",
      "<a class=\"item_box\" href=\"https://sportsshow.net/best-last-minute-goals-in-football/\">\n",
      "<img alt=\"Top 10 Best Last-Minute Goals In Football History\" class=\"lazyload\" data-src=\"https://sportsshow.net/media/2019/07/_1/370x250/Best-Last-Minute-Goals.jpg\"/>\n",
      "<p class=\"item_text\">Top 10 Best Last-Minute Goals In Football History</p>\n",
      "</a>\n",
      "<a class=\"item_box\" href=\"https://sportsshow.net/fastest-football-goals/\">\n",
      "<img alt=\"The 10 Fastest Football Goals In History\" class=\"lazyload\" data-src=\"https://sportsshow.net/media/2019/07/_1/370x250/Fastest-Football-Goals.jpg\"/>\n",
      "<p class=\"item_text\">The 10 Fastest Football Goals In History</p>\n",
      "</a>\n",
      "</div>\n",
      "</div>\n",
      "<div class=\"clear\"></div>\n",
      "<div class=\"ac\"><script async=\"\" src=\"https://pagead2.googlesyndication.com/pagead/js/adsbygoogle.js\"></script>\n",
      "<!-- res 3 -->\n",
      "<ins class=\"adsbygoogle\" data-ad-client=\"ca-pub-2490370964968032\" data-ad-format=\"auto\" data-ad-slot=\"2848526329\" data-full-width-responsive=\"true\" style=\"display:block\"></ins>\n",
      "<script>\r\n",
      "     (adsbygoogle = window.adsbygoogle || []).push({});\r\n",
      "</script></div><div class=\"clear mb20\"></div>\n",
      "<div class=\"clear\"></div>\n",
      "<div class=\"widget\" id=\"comments_wrap\">\n",
      "<h3>Leave a Reply</h3>\n",
      "<form id=\"cmnt_form\" method=\"post\" name=\"cmnt_form\">\n",
      "<div id=\"cmnt_form_err\"></div>\n",
      "<div class=\"clear mb15\"></div>\n",
      "<input id=\"cmnt_name\" maxlength=\"50\" name=\"cmnt_name\" placeholder=\"your name\" type=\"text\"/>\n",
      "<span class=\"txt_err\" id=\"cmnt_name_err\"></span>\n",
      "<div class=\"clear mb15\"></div>\n",
      "<input id=\"cmnt_email\" maxlength=\"50\" name=\"cmnt_email\" placeholder=\"E-mail\" type=\"text\"/>\n",
      "<span class=\"txt_err\" id=\"cmnt_email_err\"></span>\n",
      "<div class=\"clear mb15\"></div>\n",
      "<div class=\"ac-textarea\">\n",
      "<textarea cols=\"70\" id=\"cmnt_text\" name=\"cmnt_text\" rows=\"10\"></textarea>\n",
      "<span class=\"txt_err\" id=\"cmnt_text_err\"></span>\n",
      "</div>\n",
      "<div class=\"clear mb15\"></div>\n",
      "<div class=\"ac-submit clearfix\">\n",
      "<input id=\"cmnt_art_id\" name=\"cmnt_art_id\" type=\"hidden\" value=\"UEVzTUZBemdWNDNRZjNyOEJCK3JZQT09\"/>\n",
      "<input id=\"cmnt_reply_id\" name=\"cmnt_reply_id\" type=\"hidden\" value=\"0\"/>\n",
      "<button name=\"submit\" onclick=\"manage_cmnt();\" type=\"button\">Submit</button>\n",
      "</div>\n",
      "</form>\n",
      "<ol class=\"comments-tree-list\">\n",
      "<li class=\"comments-tree-item\">\n",
      "<div class=\"comm-item fx-row\">\n",
      "<div class=\"comm-left\">\n",
      "<div class=\"comm-img\"><img alt=\"Frolep Rotrem\" class=\"lazyload\" data-src=\"https://sportsshow.net/images/noavatar.png\"/></div>\n",
      "</div>\n",
      "<div class=\"comm-right fx-1\">\n",
      "<div class=\"comm-one nowrap\">\n",
      "<span class=\"comm-author\">frolep rotrem</span>\n",
      "<span>January 18, 2020 21:23</span>\n",
      "</div>\n",
      "<div class=\"comm-two clearfix full-text\">\n",
      "<p>I like your writing style genuinely loving this web site.</p>\n",
      "</div>\n",
      "<div class=\"comm-three fx-row fx-middle\">\n",
      "<div class=\"comm-three-left\">\n",
      "<a href=\"javascript:void(0);\" onclick=\"set_cmnt_reply('5359');\"><i class=\"fa fa-reply\"></i>To answer</a>\n",
      "</div>\n",
      "</div>\n",
      "</div>\n",
      "</div>\n",
      "</li>\n",
      "<ol class=\"comments-tree-list\">\n",
      "<li class=\"comments-tree-item\">\n",
      "<div class=\"comm-item fx-row\">\n",
      "<div class=\"comm-left\">\n",
      "<div class=\"comm-img\"><img alt=\"Sourav Das\" class=\"lazyload\" data-src=\"https://sportsshow.net/images/noavatar.png\"/></div>\n",
      "</div>\n",
      "<div class=\"comm-right fx-1\">\n",
      "<div class=\"comm-one nowrap\">\n",
      "<span class=\"comm-author\">Sourav Das</span>\n",
      "<span>January 19, 2020 01:16</span>\n",
      "</div>\n",
      "<div class=\"comm-two clearfix full-text\">\n",
      "<p>Thanks for the appreciation. Keep visiting!</p>\n",
      "</div>\n",
      "</div>\n",
      "</div>\n",
      "</li>\n",
      "</ol>\n",
      "<li class=\"comments-tree-item\">\n",
      "<div class=\"comm-item fx-row\">\n",
      "<div class=\"comm-left\">\n",
      "<div class=\"comm-img\"><img alt=\"Doc Ltd\" class=\"lazyload\" data-src=\"https://sportsshow.net/images/noavatar.png\"/></div>\n",
      "</div>\n",
      "<div class=\"comm-right fx-1\">\n",
      "<div class=\"comm-one nowrap\">\n",
      "<span class=\"comm-author\">Doc Ltd</span>\n",
      "<span>August 14, 2020 07:32</span>\n",
      "</div>\n",
      "<div class=\"comm-two clearfix full-text\">\n",
      "<p>People forget how good Alex Ferguson was</p>\n",
      "</div>\n",
      "<div class=\"comm-three fx-row fx-middle\">\n",
      "<div class=\"comm-three-left\">\n",
      "<a href=\"javascript:void(0);\" onclick=\"set_cmnt_reply('12892');\"><i class=\"fa fa-reply\"></i>To answer</a>\n",
      "</div>\n",
      "</div>\n",
      "</div>\n",
      "</div>\n",
      "</li>\n",
      "<ol class=\"comments-tree-list\">\n",
      "<li class=\"comments-tree-item\">\n",
      "<div class=\"comm-item fx-row\">\n",
      "<div class=\"comm-left\">\n",
      "<div class=\"comm-img\"><img alt=\"Sourav Das\" class=\"lazyload\" data-src=\"https://sportsshow.net/images/noavatar.png\"/></div>\n",
      "</div>\n",
      "<div class=\"comm-right fx-1\">\n",
      "<div class=\"comm-one nowrap\">\n",
      "<span class=\"comm-author\">Sourav Das</span>\n",
      "<span>August 15, 2020 00:45</span>\n",
      "</div>\n",
      "<div class=\"comm-two clearfix full-text\">\n",
      "<p>Not all the sports lovers, mate.</p>\n",
      "</div>\n",
      "</div>\n",
      "</div>\n",
      "</li>\n",
      "</ol>\n",
      "</ol>\n",
      "</div>\n",
      "<div class=\"clear\"></div>\n",
      "</div>\n",
      "<div class=\"clear\"></div> <footer> <div class=\"footer_main\"> <div class=\"container\"> <div class=\"ftr_link_box\"> <a href=\"https://sportsshow.net/information/about-us.html\">About Us</a><a href=\"https://sportsshow.net/information/contact-us.html\">Contact Us</a><a href=\"https://sportsshow.net/information/disclaimer.html\">Disclaimer</a><a href=\"https://sportsshow.net/information/privacy-policy.html\">Privacy Policy</a> </div> </div> </div> <div class=\"clear\"></div> <div class=\"footer_bottom\"> <div class=\"container\"> <p class=\"ac\">copyright © 2020  Sports Show all rights reserved</p> </div> </div> </footer> </div><div id=\"search_wrap\"> <div class=\"search_inner\"> <div class=\"ac mb20\"> <img alt=\"Sports Show\" src=\"https://sportsshow.net/images/sports-show-logo_af5f4.png\"/> </div> <a class=\"search_close\" href=\"javascript:void(0);\" onclick=\"off_search()\"><i class=\"fa fa-close\"></i></a> <form action=\"https://sportsshow.net/set_search.php\" method=\"post\"> <input id=\"kwd\" name=\"kwd\" type=\"text\"/> </form> </div></div><noscript id=\"deferred-styles\">\n",
      "<link href=\"https://maxcdn.bootstrapcdn.com/font-awesome/4.5.0/css/font-awesome.min.css\" rel=\"stylesheet\" type=\"text/css\"/>\n",
      "</noscript>\n",
      "<script type=\"text/javascript\">var loadDeferredStyles=function(){var a=document.getElementById(\"deferred-styles\"),b=document.createElement(\"div\");b.innerHTML=a.textContent,document.body.appendChild(b),a.parentElement.removeChild(a)},raf=requestAnimationFrame||mozRequestAnimationFrame||webkitRequestAnimationFrame||msRequestAnimationFrame;raf?raf(function(){window.setTimeout(loadDeferredStyles,0)}):window.addEventListener(\"load\",loadDeferredStyles);</script>\n",
      "<script>\r\n",
      "\tfunction on_search() {\r\n",
      "\t  document.getElementById(\"search_wrap\").style.display = \"block\";\r\n",
      "\t  document.getElementById(\"kwd\").focus();\r\n",
      "\t}\r\n",
      "\t\r\n",
      "\tfunction off_search() {\r\n",
      "\t  document.getElementById(\"search_wrap\").style.display = \"none\";\r\n",
      "\t}\r\n",
      "</script>\n",
      "<script>\r\n",
      "  ( function() {\r\n",
      "\r\n",
      "\tif(document.querySelectorAll( \".youtube_embed\" ))\r\n",
      "\t{\r\n",
      "\t\tvar youtube = document.querySelectorAll( \".youtube_embed\" );\r\n",
      "\t\t\r\n",
      "\t\tfor (var i = 0; i < youtube.length; i++) \r\n",
      "\t\t{\r\n",
      "\t\t\r\n",
      "\t\tvar source = \"https://img.youtube.com/vi/\"+ youtube[i].dataset.embed +\"/hqdefault.jpg\";\r\n",
      "\t\t\r\n",
      "\t\tvar image = new Image();\r\n",
      "\t\timage.src = source;\r\n",
      "\t\timage.addEventListener( \"load\", function() {\r\n",
      "\t\t\tyoutube[ i ].appendChild( image );\r\n",
      "\t\t}( i ) );\r\n",
      "\r\n",
      "\t\tyoutube[i].addEventListener( \"click\", function() {\r\n",
      "\r\n",
      "\t\t\tvar iframe = document.createElement( \"iframe\" );\r\n",
      "\t\t\tiframe.setAttribute( \"frameborder\", \"0\" );\r\n",
      "\t\t\tiframe.setAttribute( \"allowfullscreen\", \"\" );\r\n",
      "\t\t\tiframe.setAttribute( \"src\", \"https://www.youtube.com/embed/\"+ this.dataset.embed +\"?rel=0&showinfo=0&autoplay=1\" );\r\n",
      "\t\t\tthis.innerHTML = \"\";\r\n",
      "\t\t\tthis.appendChild( iframe );\r\n",
      "\t\t} );    \r\n",
      "\t};\r\n",
      "\t}\r\n",
      "\t\r\n",
      "} )();\r\n",
      "\r\n",
      "function scrollToi(to_id) \r\n",
      "{\r\n",
      "    document.getElementById(to_id).scrollIntoView({behavior: \"smooth\"});\r\n",
      "}\r\n",
      "\r\n",
      "var isHTML = RegExp.prototype.test.bind(/(<([^>]+)>)/i);\r\n",
      "\r\n",
      "function set_cmnt_reply(id)\r\n",
      "{\r\n",
      "\tdocument.forms[\"cmnt_form\"][\"cmnt_reply_id\"].value = id;\r\n",
      "\tscrollToi(\"comments_wrap\");\r\n",
      "}\r\n",
      "\r\n",
      "function validateEmail(email)\r\n",
      "{var re=/^(([^<>()\\[\\]\\\\.,;:\\s@\"]+(\\.[^<>()\\[\\]\\\\.,;:\\s@\"]+)*)|(\".+\"))@((\\[[0-9]{1,3}\\.[0-9]{1,3}\\.[0-9]{1,3}\\.[0-9]{1,3}])|(([a-zA-Z\\-0-9]+\\.)+[a-zA-Z]{2,}))$/;return re.test(email);}\r\n",
      "\r\n",
      "function manage_cmnt()\r\n",
      "{\r\n",
      "\tvar cmt_err = 0;\r\n",
      "\t\r\n",
      "\tvar cmnt_name \t\t= 'cmnt_name';\r\n",
      "\tvar cmnt_email \t\t= 'cmnt_email';\r\n",
      "\tvar cmnt_text \t\t= 'cmnt_text';\r\n",
      "\t\r\n",
      "\tvar cmnt_name_err \t= cmnt_name+'_err';\r\n",
      "\tvar cmnt_email_err \t= cmnt_email+'_err';\r\n",
      "\tvar cmnt_text_err \t= cmnt_text+'_err';\r\n",
      "\t\r\n",
      "\tvar cmnt_name_val \t= document.forms[\"cmnt_form\"][cmnt_name].value;\r\n",
      "\tvar cmnt_email_val \t= document.forms[\"cmnt_form\"][cmnt_email].value;\r\n",
      "\tvar cmnt_text_val \t= document.forms[\"cmnt_form\"][cmnt_text].value;\r\n",
      "\tvar cmnt_art_id_val \t= document.forms[\"cmnt_form\"]['cmnt_art_id'].value;\r\n",
      "\tvar cmnt_reply_id_val \t= document.forms[\"cmnt_form\"]['cmnt_reply_id'].value;\r\n",
      "\r\n",
      "\tif(cmnt_name_val == ''){\r\n",
      "\t\tdocument.getElementById(cmnt_name_err).innerHTML = 'please enter your name';\r\n",
      "\t\tcmt_err = cmt_err + 1;\r\n",
      "\t}\r\n",
      "\telse{\r\n",
      "\t\tdocument.getElementById(cmnt_name_err).innerHTML = '';\r\n",
      "\t}\r\n",
      "\t\r\n",
      "\tif(!validateEmail(cmnt_email_val)){\r\n",
      "\r\n",
      "\t\tdocument.getElementById(cmnt_email_err).innerHTML = 'please enter valid email address';\r\n",
      "\t\tcmt_err = cmt_err + 1;\r\n",
      "\t}\r\n",
      "\telse{\r\n",
      "\t\tdocument.getElementById(cmnt_email_err).innerHTML = '';\r\n",
      "\t}\r\n",
      "\t\r\n",
      "\tif(cmnt_text_val == '')\r\n",
      "\t{\r\n",
      "\t\tdocument.getElementById(cmnt_text_err).innerHTML = 'please enter your message';\r\n",
      "\t\tcmt_err = cmt_err + 1;\r\n",
      "\t}\r\n",
      "\telse\r\n",
      "\t{\r\n",
      "\t\tif(isHTML(cmnt_text_val))\r\n",
      "\t\t{\r\n",
      "\t\t\tdocument.getElementById(cmnt_text_err).innerHTML = 'html not allowed';\r\n",
      "\t\t\tcmt_err = cmt_err + 1;\r\n",
      "\t\t}\r\n",
      "\t\telse\r\n",
      "\t\t{\r\n",
      "\t\t\tdocument.getElementById(cmnt_text_err).innerHTML = '';\r\n",
      "\t\t}\r\n",
      "\t}\r\n",
      "\t\r\n",
      "\t\r\n",
      "\tif(cmt_err > 0)\r\n",
      "\t{\r\n",
      "\t\tdocument.getElementById(\"cmnt_form_err\").innerHTML = '<span class=\"txt_err\">please fill the form corrent</span>';\r\n",
      "\t}\r\n",
      "\telse\r\n",
      "\t{\r\n",
      "\t\tvar http = new XMLHttpRequest();\r\n",
      "\t\tvar url = site_base+\"ajax.php\";\r\n",
      "\t\tvar params = \"act=manage_cmnt&cmnt_name=\"+cmnt_name_val+\"&cmnt_email=\"+cmnt_email_val+\"&cmnt_text=\"+cmnt_text_val+\"&cmnt_art_id=\"+cmnt_art_id_val+\"&cmnt_reply_id=\"+cmnt_reply_id_val;\r\n",
      "\t\t\r\n",
      "\t\thttp.open(\"POST\", url, true);\r\n",
      "\t\thttp.setRequestHeader(\"Content-type\", \"application/x-www-form-urlencoded\");\r\n",
      "\t\t\r\n",
      "\t\thttp.onreadystatechange = function() \r\n",
      "\t\t{\t\r\n",
      "\t\t\tif(http.readyState == 4 && http.status == 200) \r\n",
      "\t\t\t{\r\n",
      "\t\t\t\tvar get_data = http.responseText;\r\n",
      "\t\t\t\t\r\n",
      "\t\t\t\tif(get_data == 0)\r\n",
      "\t\t\t\t{\r\n",
      "\t\t\t\t\tdocument.getElementById(\"cmnt_form_err\").innerHTML = '<span class=\"txt_err\">* All fields are required.</span>';\r\n",
      "\t\t\t\t}\r\n",
      "\t\t\t\telse if(get_data == 1)\r\n",
      "\t\t\t\t{\r\n",
      "\t\t\t\t\tdocument.getElementById(\"cmnt_form_err\").innerHTML = '<span class=\"txt_suc\">Your comments has been posted, will be displayed shortly.</span>';\r\n",
      "\t\t\t\t\t\r\n",
      "\t\t\t\t\tdocument.forms[\"cmnt_form\"][cmnt_name].value = '';\r\n",
      "\t\t\t\t\tdocument.forms[\"cmnt_form\"][cmnt_email].value = '';\r\n",
      "\t\t\t\t\tdocument.forms[\"cmnt_form\"][cmnt_text].value = '';\r\n",
      "\r\n",
      "\t\t\t\t}\r\n",
      "\t\t\t\telse if(get_data == 2)\r\n",
      "\t\t\t\t{\r\n",
      "\t\t\t\t\tdocument.getElementById(\"cmnt_form_err\").innerHTML = '<span class=\"txt_err\">Some error in system please try later</span>';\r\n",
      "\t\t\t\t}\r\n",
      "\t\t\t\telse if(get_data == 3)\r\n",
      "\t\t\t\t{\r\n",
      "\t\t\t\t\tdocument.getElementById(\"cmnt_form_err\").innerHTML = '<span class=\"txt_err\">Error in system please try later</span>';\r\n",
      "\t\t\t\t}\r\n",
      "\t\t\t\telse\r\n",
      "\t\t\t\t{\r\n",
      "\t\t\t\t\tdocument.getElementById(\"cmnt_form_err\").innerHTML = '<span class=\"txt_err\">Oops Error in system please try later</span>';\r\n",
      "\t\t\t\t}\r\n",
      "\t\t\t}\r\n",
      "\t\t}\r\n",
      "\t\thttp.send(params);\r\n",
      "\t}\r\n",
      "}\r\n",
      "</script>\n",
      "<script src=\"https://cdnjs.cloudflare.com/ajax/libs/lazysizes/5.2.2/lazysizes-umd.min.js\" type=\"text/javascript\"></script>\n",
      "</body></html> \n"
     ]
    }
   ],
   "source": [
    "from bs4 import BeautifulSoup\n",
    "from urllib.request import Request, urlopen\n",
    "\n",
    "site= \"https://sportsshow.net/most-successful-football-managers/\"\n",
    "hdr = {'User-Agent': 'Mozilla/5.0'}\n",
    "req = Request(site,headers=hdr)\n",
    "page = urlopen(req)\n",
    "soup = BeautifulSoup(page)\n",
    "print(soup)"
   ]
  },
  {
   "cell_type": "code",
   "execution_count": 3,
   "metadata": {},
   "outputs": [
    {
     "data": {
      "text/plain": [
       "[<h3>10. Roberto Mancini</h3>,\n",
       " <h3>9. Jürgen Klopp</h3>,\n",
       " <h3>8. Manuel Pellegrini</h3>,\n",
       " <h3>7. Antonio Conte</h3>,\n",
       " <h3>6. Giovanni Trapattoni</h3>,\n",
       " <h3>5. Pep Guardiola</h3>,\n",
       " <h3>4. Arsène Wenger</h3>,\n",
       " <h3>3. Jose Mourinho</h3>,\n",
       " <h3>2. Carlo Ancelotti</h3>,\n",
       " <h3>1. Sir Alex Ferguson</h3>,\n",
       " <h3>Most Successful Football Managers of All Time – Honorable Mentions</h3>,\n",
       " <h3>Most Successful Football Managers in history – Updated Table 2020</h3>,\n",
       " <h3>More Recent Posts</h3>,\n",
       " <h3>Leave a Reply</h3>]"
      ]
     },
     "execution_count": 3,
     "metadata": {},
     "output_type": "execute_result"
    }
   ],
   "source": [
    "managers = soup.find_all('h3')\n",
    "managers"
   ]
  },
  {
   "cell_type": "code",
   "execution_count": 4,
   "metadata": {},
   "outputs": [
    {
     "data": {
      "text/plain": [
       "[<table><tbody><tr><td><strong>Team</strong></td><td><strong>Managing Period</strong></td><td><strong>Match</strong></td><td><strong>Wins</strong></td><td><strong>Draw</strong></td><td><strong>Loss</strong></td><td><strong>Win Percentage</strong></td></tr><tr><td>Fiorentina</td><td>February 2001 to January 2002</td><td>44</td><td>16</td><td>14</td><td>14</td><td>36.36%</td></tr><tr><td>Lazio</td><td>May 2002 to July 2004</td><td>102</td><td>49</td><td>32</td><td>21</td><td>48.04%</td></tr><tr><td>Inter Milan</td><td>July 2004 to May 2008</td><td>226</td><td>140</td><td>60</td><td>26</td><td>61.95%</td></tr><tr><td>Manchester City</td><td>December 2009 to May 2013</td><td>191</td><td>113</td><td>38</td><td>40</td><td>59.16%</td></tr><tr><td>Galatasaray</td><td>September 2013 to June 2014</td><td>46</td><td>24</td><td>13</td><td>9</td><td>52.17%</td></tr><tr><td>Inter Milan</td><td>November 2014 to August 2016</td><td>76</td><td>36</td><td>16</td><td>24</td><td>47.37%</td></tr><tr><td>Zenit Saint Petersburg</td><td>June 2017 to present</td><td>41</td><td>21</td><td>12</td><td>8</td><td>51.22%</td></tr></tbody></table>,\n",
       " <table><tbody><tr><td><strong>Team</strong></td><td><strong>Managing Period</strong></td><td><strong>Match</strong></td><td><strong>Wins</strong></td><td><strong>Draw</strong></td><td><strong>Loss</strong></td><td><strong>Win Percentage</strong></td></tr><tr><td>Mainz 05</td><td>February 2001 to June 2008</td><td>270</td><td>109</td><td>78</td><td>83</td><td>40.4%</td></tr><tr><td>Borussia Dortmund</td><td>July 2008 to June 2015</td><td>318</td><td>179</td><td>69</td><td>70</td><td>56.3%</td></tr><tr><td>Liverpool</td><td>October 2015 to present</td><td>150</td><td>80</td><td>43</td><td>27</td><td>53.3%</td></tr></tbody></table>,\n",
       " <table><tbody><tr><td><strong>Team</strong></td><td><strong>Managing Period</strong></td><td><strong>Match</strong></td><td><strong>Wins</strong></td><td><strong>Draw</strong></td><td><strong>Loss</strong></td><td><strong>Win Percentage</strong></td></tr><tr><td>Villarreal</td><td>July 2004 to June 2009</td><td>259</td><td>123</td><td>72</td><td>64</td><td>47.5%</td></tr><tr><td>Real Madrid</td><td>June 2009 to May 2010</td><td>48</td><td>36</td><td>5</td><td>7</td><td>75.0%</td></tr><tr><td>Málaga</td><td>November 2010 to June 2013</td><td>129</td><td>53</td><td>30</td><td>46</td><td>41.1%</td></tr><tr><td>Manchester City</td><td>June 2013 to June 2016</td><td>167</td><td>100</td><td>28</td><td>39</td><td>59.9%</td></tr><tr><td>Hebei China Fortune</td><td>August 2016 to present</td><td>37</td><td>16</td><td>9</td><td>12</td><td>43.2%</td></tr></tbody></table>,\n",
       " <table><tbody><tr><td><strong>Team</strong></td><td><strong>Managing Period</strong></td><td><strong>Match</strong></td><td><strong>Wins</strong></td><td><strong>Draw</strong></td><td><strong>Loss</strong></td><td><strong>Win Percentage</strong></td></tr><tr><td>Arezzo</td><td>July 2006 to June 2007</td><td>12</td><td>3</td><td>5</td><td>4</td><td>25.0%</td></tr><tr><td>Bari</td><td>December 2007 to June 2009</td><td>67</td><td>32</td><td>20</td><td>15</td><td>47.8%</td></tr><tr><td>Atalanta</td><td>September 2009 to January 2010</td><td>14</td><td>3</td><td>4</td><td>7</td><td>21.4%</td></tr><tr><td>Siena</td><td>July 2010 to May 2011</td><td>44</td><td>22</td><td>14</td><td>8</td><td>50.0%</td></tr><tr><td>Juventus</td><td>May 2011 to July 2014</td><td>152</td><td>102</td><td>35</td><td>15</td><td>67.1%</td></tr><tr><td>Italy</td><td>August 2014 to July 2016</td><td>25</td><td>14</td><td>7</td><td>4</td><td>56.0%</td></tr><tr><td>Chelsea</td><td>July 2016 to present</td><td>101</td><td>66</td><td>16</td><td>19</td><td>65.3%</td></tr></tbody></table>,\n",
       " <table><tbody><tr><td><strong>Team</strong></td><td><strong>Managing Period</strong></td><td><strong>Match</strong></td><td><strong>Wins</strong></td><td><strong>Draw</strong></td><td><strong>Loss</strong></td><td><strong>Win Percentage</strong></td></tr><tr><td>AC Milan</td><td>April 1974 to June 1974</td><td>11</td><td>4</td><td>5</td><td>2</td><td>36.36%</td></tr><tr><td>Juventus</td><td>July 1976 to June 1986</td><td>450</td><td>244</td><td>136</td><td>70</td><td>54.22%</td></tr><tr><td>Inter Milan</td><td>July 1986 to June 1991</td><td>233</td><td>126</td><td>61</td><td>46</td><td>54.08%</td></tr><tr><td>Juventus</td><td>July 1991 to June 1994</td><td>140</td><td>74</td><td>42</td><td>24</td><td>52.86%</td></tr><tr><td>Bayern Munich</td><td>July 1994 to June 1995</td><td>46</td><td>17</td><td>18</td><td>11</td><td>36.96%</td></tr><tr><td>Cagliari</td><td>July 1995 to June 1996</td><td>37</td><td>13</td><td>8</td><td>16</td><td>35.14%</td></tr><tr><td>Bayern Munich</td><td>July 1996 to June 1998</td><td>90</td><td>55</td><td>22</td><td>13</td><td>61.11%</td></tr><tr><td>Fiorentina</td><td>July 1998 to June 2000</td><td>99</td><td>44</td><td>31</td><td>24</td><td>44.44%</td></tr><tr><td>Italy</td><td>July 2000 to July 2004</td><td>44</td><td>25</td><td>12</td><td>7</td><td>56.82%</td></tr><tr><td>Benfica</td><td>July 2004 to May 2005</td><td>51</td><td>29</td><td>10</td><td>12</td><td>56.86%</td></tr><tr><td>VfB Stuttgart</td><td>June 2005 to February 2006</td><td>31</td><td>11</td><td>13</td><td>7</td><td>35.48%</td></tr><tr><td>Red Bull Salzburg</td><td>May 2006 to April 2008</td><td>87</td><td>48</td><td>19</td><td>20</td><td>55.17%</td></tr><tr><td>Republic of Ireland</td><td>May 2008 to September 2013</td><td>64</td><td>26</td><td>22</td><td>16</td><td>40.63%</td></tr></tbody></table>,\n",
       " <table><tbody><tr><td><strong>Team</strong></td><td><strong>Managing Period</strong></td><td><strong>Match</strong></td><td><strong>Wins</strong></td><td><strong>Draw</strong></td><td><strong>Loss</strong></td><td><strong>Win Percentage</strong></td></tr><tr><td>Barcelona B</td><td>June 2007 to June 2008</td><td>38</td><td>25</td><td>8</td><td>5</td><td>65.8%</td></tr><tr><td>Barcelona</td><td>July 2008 to June 2012</td><td>247</td><td>179</td><td>47</td><td>21</td><td>72.5%</td></tr><tr><td>Bayern Munich</td><td>June 2013 to June 2016</td><td>161</td><td>121</td><td>21</td><td>19</td><td>75.2%</td></tr><tr><td>Manchester City</td><td>July 2016 to present</td><td>109</td><td>74</td><td>18</td><td>17</td><td>67.9%</td></tr></tbody></table>,\n",
       " <table><tbody><tr><td><strong>Team</strong></td><td><strong>Managing Period</strong></td><td><strong>Match</strong></td><td><strong>Wins</strong></td><td><strong>Draw</strong></td><td><strong>Loss</strong></td><td><strong>Win Percentage</strong></td></tr><tr><td>AS Nancy</td><td>July 1984 to July 1987</td><td>114</td><td>33</td><td>30</td><td>51</td><td>28.9%</td></tr><tr><td>AS Monaco</td><td>July 1987 to September 1994</td><td>266</td><td>130</td><td>53</td><td>83</td><td>48.9%</td></tr><tr><td>Nagoya Grampus Eight</td><td>February 1995 to September 1996</td><td>87</td><td>49</td><td>4</td><td>34</td><td>56.3%</td></tr><tr><td>Arsenal</td><td>October 1996 to present</td><td>1,230</td><td>705</td><td>280</td><td>245</td><td>57.3%</td></tr></tbody></table>,\n",
       " <table><tbody><tr><td><strong>Team</strong></td><td><strong>Managing Period</strong></td><td><strong>Match</strong></td><td><strong>Wins</strong></td><td><strong>Draw</strong></td><td><strong>Loss</strong></td><td><strong>Win Percentage</strong></td></tr><tr><td>Benfica</td><td>September 2000 to December 2000</td><td>11</td><td>6</td><td>3</td><td>2</td><td>54.5%</td></tr><tr><td>União de Leiria</td><td>July 2001 to January 2002</td><td>20</td><td>9</td><td>7</td><td>4</td><td>45.0%</td></tr><tr><td>Porto</td><td>January 2002 to June 2004</td><td>127</td><td>91</td><td>21</td><td>15</td><td>71.7%</td></tr><tr><td>Chelsea</td><td>June 2004 to September 2007</td><td>185</td><td>124</td><td>40</td><td>21</td><td>67.0%</td></tr><tr><td>Inter Milan</td><td>June 2008 to May 2010</td><td>108</td><td>67</td><td>26</td><td>15</td><td>62.0%</td></tr><tr><td>Real Madrid</td><td>May 2010 to June 2013</td><td>178</td><td>128</td><td>28</td><td>22</td><td>71.9%</td></tr><tr><td>Chelsea</td><td>June 2013 to December 2015</td><td>136</td><td>80</td><td>29</td><td>27</td><td>58.8%</td></tr><tr><td>Manchester United</td><td>May 2016 to present</td><td>115</td><td>72</td><td>24</td><td>19</td><td>62.6%</td></tr></tbody></table>,\n",
       " <table><tbody><tr><td><strong>Team</strong></td><td><strong>Managing Period</strong></td><td><strong>Match</strong></td><td><strong>Wins</strong></td><td><strong>Draw</strong></td><td><strong>Loss</strong></td><td><strong>Win Percentage</strong></td></tr><tr><td>Reggiana</td><td>July 1995 to June 1996</td><td>41</td><td>17</td><td>14</td><td>10</td><td>41.46%</td></tr><tr><td>Parma</td><td>July 1996 to June 1998</td><td>87</td><td>42</td><td>27</td><td>18</td><td>48.28%</td></tr><tr><td>Juventus</td><td>February 1999 to June 2001</td><td>114</td><td>63</td><td>33</td><td>18</td><td>55.26%</td></tr><tr><td>AC Milan</td><td>November 2001 to May 2009</td><td>423</td><td>238</td><td>101</td><td>84</td><td>56.26%</td></tr><tr><td>Chelsea</td><td>July 2009 to May 2011</td><td>109</td><td>67</td><td>20</td><td>22</td><td>61.47%</td></tr><tr><td>Paris St. Germain</td><td>December 2011 to June 2013</td><td>77</td><td>49</td><td>19</td><td>9</td><td>63.64%</td></tr><tr><td>Real Madrid</td><td>June 2013 to May 2015</td><td>119</td><td>89</td><td>14</td><td>16</td><td>74.79%</td></tr><tr><td>Bayern Munich</td><td>July 2016 to September 2017</td><td>60</td><td>42</td><td>9</td><td>9</td><td>70%</td></tr></tbody></table>,\n",
       " <table><tbody><tr><td><strong>Team</strong></td><td><strong>Managing Period</strong></td><td><strong>Match</strong></td><td><strong>Wins</strong></td><td><strong>Draw</strong></td><td><strong>Loss</strong></td><td><strong>Win Percentage</strong></td></tr><tr><td>East Stirlingshire</td><td>June 1974 to October 1974</td><td>17</td><td>9</td><td>2</td><td>6</td><td>52.9%</td></tr><tr><td>St Mirren</td><td>October 1974 to May 1978</td><td>169</td><td>74</td><td>41</td><td>54</td><td>43.8%</td></tr><tr><td>Aberdeen FC</td><td>June 1978 to November 1986</td><td>459</td><td>272</td><td>105</td><td>82</td><td>59.3%</td></tr><tr><td>Scotland</td><td>October 1985 to  June 1986</td><td>10</td><td>3</td><td>4</td><td>3</td><td>30%</td></tr><tr><td>Manchester United</td><td>November 1986 to May 2013</td><td>1500</td><td>895</td><td>338</td><td>267</td><td>59.7%</td></tr></tbody></table>,\n",
       " <table><tbody><tr><td><strong>Rank</strong></td><td><strong>Manager</strong></td><td><strong>Nationality</strong></td><td><strong>Career Span</strong></td><td><strong>Clubs</strong></td></tr><tr><td>1</td><td>Sir Alex Ferguson</td><td>Scottish</td><td>June 1974 to May 2013</td><td>East Stirlingshire, St Mirren, Aberdeen FC, Scotland, Manchester United</td></tr><tr><td>2</td><td>Carlo Ancelotti</td><td>Italian</td><td>July 1995 to September 2017</td><td>Reggiana, Parma, Juventus, Milan, Chelsea, Paris Saint-Germain, Real Madrid, Bayern Munich</td></tr><tr><td>3</td><td>Jose Mourinho</td><td>Portuguese</td><td>September 2000 to Present</td><td>Benfica, União de Leiria, Porto, Chelsea, Inter Milan, Real Madrid, Chelsea, Manchester United</td></tr><tr><td>4</td><td>Arsene Wenger</td><td>French</td><td>July 1984 to Present</td><td>Nancy, Monaco, Nagoya Grampus Eight, Arsenal</td></tr><tr><td>5</td><td>Pep Guardiola</td><td>Spanish</td><td>June 2007 to Present</td><td>Barcelona B, Barcelona, Bayern Munich, Manchester City</td></tr><tr><td>6</td><td>Giovanni Trapattoni</td><td>Italian</td><td>April 1974 to September 2013</td><td>A.C. Milan, Juventus, Inter Milan, Bayern Munich, Cagliari, Fiorentina, Italy, Benfica, VfB Stuttgart, Red Bull Salzburg, Republic of Ireland, Vatican City</td></tr><tr><td>7</td><td>Antonio Conte</td><td>Italian</td><td>July 2006 to Present</td><td>Arezzo, Bari, Atalanta, Siena, Juventus, Italy, Chelsea</td></tr><tr><td>8</td><td>Manuel Pellegrini</td><td>Chilean</td><td>July 2004 to Present</td><td>Universidad de Chile, Palestino, O'Higgins, Universidad Católica, LDU Quito, San Lorenzo, River Plate, Villarreal, Real Madrid, Málaga, Manchester City, Hebei China Fortune</td></tr><tr><td>9</td><td>Jürgen Klopp</td><td>German</td><td>February 2001 to Present</td><td>Mainz 05, Borussia Dortmund, Liverpool</td></tr><tr><td>10</td><td>Roberto Mancini</td><td>Italian</td><td>February 2001 to Present</td><td>Fiorentina, Lazio, Inter Milan, Manchester City, Galatasaray, Zenit Saint Petersburg</td></tr></tbody></table>]"
      ]
     },
     "execution_count": 4,
     "metadata": {},
     "output_type": "execute_result"
    }
   ],
   "source": [
    "# use the 'find_all' function to bring back all instances of the 'table' tag in the HTML and store in 'all_tables' variable\n",
    "all_tables=soup.find_all(\"table\")\n",
    "all_tables"
   ]
  },
  {
   "cell_type": "code",
   "execution_count": 5,
   "metadata": {},
   "outputs": [
    {
     "data": {
      "text/plain": [
       "<table><tbody><tr><td><strong>Team</strong></td><td><strong>Managing Period</strong></td><td><strong>Match</strong></td><td><strong>Wins</strong></td><td><strong>Draw</strong></td><td><strong>Loss</strong></td><td><strong>Win Percentage</strong></td></tr><tr><td>Fiorentina</td><td>February 2001 to January 2002</td><td>44</td><td>16</td><td>14</td><td>14</td><td>36.36%</td></tr><tr><td>Lazio</td><td>May 2002 to July 2004</td><td>102</td><td>49</td><td>32</td><td>21</td><td>48.04%</td></tr><tr><td>Inter Milan</td><td>July 2004 to May 2008</td><td>226</td><td>140</td><td>60</td><td>26</td><td>61.95%</td></tr><tr><td>Manchester City</td><td>December 2009 to May 2013</td><td>191</td><td>113</td><td>38</td><td>40</td><td>59.16%</td></tr><tr><td>Galatasaray</td><td>September 2013 to June 2014</td><td>46</td><td>24</td><td>13</td><td>9</td><td>52.17%</td></tr><tr><td>Inter Milan</td><td>November 2014 to August 2016</td><td>76</td><td>36</td><td>16</td><td>24</td><td>47.37%</td></tr><tr><td>Zenit Saint Petersburg</td><td>June 2017 to present</td><td>41</td><td>21</td><td>12</td><td>8</td><td>51.22%</td></tr></tbody></table>"
      ]
     },
     "execution_count": 5,
     "metadata": {},
     "output_type": "execute_result"
    }
   ],
   "source": [
    "robert_mancini = soup.find_all(\"table\")[0]\n",
    "robert_mancini"
   ]
  },
  {
   "cell_type": "code",
   "execution_count": 6,
   "metadata": {},
   "outputs": [],
   "source": [
    "A=[]\n",
    "B=[]\n",
    "C=[]\n",
    "D=[]\n",
    "E=[]\n",
    "F=[]\n",
    "G=[]\n",
    "for row in robert_mancini.findAll('tr'):\n",
    "    cells=row.findAll('td')\n",
    "    if len(cells)==7:\n",
    "        A.append(cells[0].find(text=True))\n",
    "        B.append(cells[1].find(text=True))\n",
    "        C.append(cells[2].find(text=True))\n",
    "        D.append(cells[3].find(text=True))\n",
    "        E.append(cells[4].find(text=True))\n",
    "        F.append(cells[5].find(text=True))\n",
    "        G.append(cells[6].find(text=True))"
   ]
  },
  {
   "cell_type": "code",
   "execution_count": 7,
   "metadata": {},
   "outputs": [
    {
     "data": {
      "text/html": [
       "<div>\n",
       "<style scoped>\n",
       "    .dataframe tbody tr th:only-of-type {\n",
       "        vertical-align: middle;\n",
       "    }\n",
       "\n",
       "    .dataframe tbody tr th {\n",
       "        vertical-align: top;\n",
       "    }\n",
       "\n",
       "    .dataframe thead th {\n",
       "        text-align: right;\n",
       "    }\n",
       "</style>\n",
       "<table border=\"1\" class=\"dataframe\">\n",
       "  <thead>\n",
       "    <tr style=\"text-align: right;\">\n",
       "      <th></th>\n",
       "      <th>Team</th>\n",
       "      <th>Managing Period</th>\n",
       "      <th>Match</th>\n",
       "      <th>Wins</th>\n",
       "      <th>Draw</th>\n",
       "      <th>Loss</th>\n",
       "      <th>Win Percentage</th>\n",
       "    </tr>\n",
       "  </thead>\n",
       "  <tbody>\n",
       "    <tr>\n",
       "      <th>0</th>\n",
       "      <td>Team</td>\n",
       "      <td>Managing Period</td>\n",
       "      <td>Match</td>\n",
       "      <td>Wins</td>\n",
       "      <td>Draw</td>\n",
       "      <td>Loss</td>\n",
       "      <td>Win Percentage</td>\n",
       "    </tr>\n",
       "    <tr>\n",
       "      <th>1</th>\n",
       "      <td>Fiorentina</td>\n",
       "      <td>February 2001 to January 2002</td>\n",
       "      <td>44</td>\n",
       "      <td>16</td>\n",
       "      <td>14</td>\n",
       "      <td>14</td>\n",
       "      <td>36.36%</td>\n",
       "    </tr>\n",
       "    <tr>\n",
       "      <th>2</th>\n",
       "      <td>Lazio</td>\n",
       "      <td>May 2002 to July 2004</td>\n",
       "      <td>102</td>\n",
       "      <td>49</td>\n",
       "      <td>32</td>\n",
       "      <td>21</td>\n",
       "      <td>48.04%</td>\n",
       "    </tr>\n",
       "    <tr>\n",
       "      <th>3</th>\n",
       "      <td>Inter Milan</td>\n",
       "      <td>July 2004 to May 2008</td>\n",
       "      <td>226</td>\n",
       "      <td>140</td>\n",
       "      <td>60</td>\n",
       "      <td>26</td>\n",
       "      <td>61.95%</td>\n",
       "    </tr>\n",
       "    <tr>\n",
       "      <th>4</th>\n",
       "      <td>Manchester City</td>\n",
       "      <td>December 2009 to May 2013</td>\n",
       "      <td>191</td>\n",
       "      <td>113</td>\n",
       "      <td>38</td>\n",
       "      <td>40</td>\n",
       "      <td>59.16%</td>\n",
       "    </tr>\n",
       "    <tr>\n",
       "      <th>5</th>\n",
       "      <td>Galatasaray</td>\n",
       "      <td>September 2013 to June 2014</td>\n",
       "      <td>46</td>\n",
       "      <td>24</td>\n",
       "      <td>13</td>\n",
       "      <td>9</td>\n",
       "      <td>52.17%</td>\n",
       "    </tr>\n",
       "    <tr>\n",
       "      <th>6</th>\n",
       "      <td>Inter Milan</td>\n",
       "      <td>November 2014 to August 2016</td>\n",
       "      <td>76</td>\n",
       "      <td>36</td>\n",
       "      <td>16</td>\n",
       "      <td>24</td>\n",
       "      <td>47.37%</td>\n",
       "    </tr>\n",
       "    <tr>\n",
       "      <th>7</th>\n",
       "      <td>Zenit Saint Petersburg</td>\n",
       "      <td>June 2017 to present</td>\n",
       "      <td>41</td>\n",
       "      <td>21</td>\n",
       "      <td>12</td>\n",
       "      <td>8</td>\n",
       "      <td>51.22%</td>\n",
       "    </tr>\n",
       "  </tbody>\n",
       "</table>\n",
       "</div>"
      ],
      "text/plain": [
       "                     Team                Managing Period  Match  Wins  Draw  \\\n",
       "0                    Team                Managing Period  Match  Wins  Draw   \n",
       "1              Fiorentina  February 2001 to January 2002     44    16    14   \n",
       "2                   Lazio          May 2002 to July 2004    102    49    32   \n",
       "3             Inter Milan          July 2004 to May 2008    226   140    60   \n",
       "4         Manchester City      December 2009 to May 2013    191   113    38   \n",
       "5             Galatasaray    September 2013 to June 2014     46    24    13   \n",
       "6             Inter Milan   November 2014 to August 2016     76    36    16   \n",
       "7  Zenit Saint Petersburg           June 2017 to present     41    21    12   \n",
       "\n",
       "   Loss  Win Percentage  \n",
       "0  Loss  Win Percentage  \n",
       "1    14          36.36%  \n",
       "2    21          48.04%  \n",
       "3    26          61.95%  \n",
       "4    40          59.16%  \n",
       "5     9          52.17%  \n",
       "6    24          47.37%  \n",
       "7     8          51.22%  "
      ]
     },
     "execution_count": 7,
     "metadata": {},
     "output_type": "execute_result"
    }
   ],
   "source": [
    "import pandas as pd\n",
    "df=pd.DataFrame(A,columns=['Team'])\n",
    "df['Managing Period']=B\n",
    "df['Match']=C\n",
    "df['Wins']=D\n",
    "df['Draw']=E\n",
    "df['Loss']=F\n",
    "df['Win Percentage']=G\n",
    "df"
   ]
  },
  {
   "cell_type": "code",
   "execution_count": 8,
   "metadata": {},
   "outputs": [
    {
     "data": {
      "text/html": [
       "<div>\n",
       "<style scoped>\n",
       "    .dataframe tbody tr th:only-of-type {\n",
       "        vertical-align: middle;\n",
       "    }\n",
       "\n",
       "    .dataframe tbody tr th {\n",
       "        vertical-align: top;\n",
       "    }\n",
       "\n",
       "    .dataframe thead th {\n",
       "        text-align: right;\n",
       "    }\n",
       "</style>\n",
       "<table border=\"1\" class=\"dataframe\">\n",
       "  <thead>\n",
       "    <tr style=\"text-align: right;\">\n",
       "      <th></th>\n",
       "      <th>Team</th>\n",
       "      <th>Managing Period</th>\n",
       "      <th>Match</th>\n",
       "      <th>Wins</th>\n",
       "      <th>Draw</th>\n",
       "      <th>Loss</th>\n",
       "      <th>Win Percentage</th>\n",
       "    </tr>\n",
       "  </thead>\n",
       "  <tbody>\n",
       "    <tr>\n",
       "      <th>1</th>\n",
       "      <td>Fiorentina</td>\n",
       "      <td>February 2001 to January 2002</td>\n",
       "      <td>44</td>\n",
       "      <td>16</td>\n",
       "      <td>14</td>\n",
       "      <td>14</td>\n",
       "      <td>36.36%</td>\n",
       "    </tr>\n",
       "    <tr>\n",
       "      <th>2</th>\n",
       "      <td>Lazio</td>\n",
       "      <td>May 2002 to July 2004</td>\n",
       "      <td>102</td>\n",
       "      <td>49</td>\n",
       "      <td>32</td>\n",
       "      <td>21</td>\n",
       "      <td>48.04%</td>\n",
       "    </tr>\n",
       "    <tr>\n",
       "      <th>3</th>\n",
       "      <td>Inter Milan</td>\n",
       "      <td>July 2004 to May 2008</td>\n",
       "      <td>226</td>\n",
       "      <td>140</td>\n",
       "      <td>60</td>\n",
       "      <td>26</td>\n",
       "      <td>61.95%</td>\n",
       "    </tr>\n",
       "    <tr>\n",
       "      <th>4</th>\n",
       "      <td>Manchester City</td>\n",
       "      <td>December 2009 to May 2013</td>\n",
       "      <td>191</td>\n",
       "      <td>113</td>\n",
       "      <td>38</td>\n",
       "      <td>40</td>\n",
       "      <td>59.16%</td>\n",
       "    </tr>\n",
       "    <tr>\n",
       "      <th>5</th>\n",
       "      <td>Galatasaray</td>\n",
       "      <td>September 2013 to June 2014</td>\n",
       "      <td>46</td>\n",
       "      <td>24</td>\n",
       "      <td>13</td>\n",
       "      <td>9</td>\n",
       "      <td>52.17%</td>\n",
       "    </tr>\n",
       "    <tr>\n",
       "      <th>6</th>\n",
       "      <td>Inter Milan</td>\n",
       "      <td>November 2014 to August 2016</td>\n",
       "      <td>76</td>\n",
       "      <td>36</td>\n",
       "      <td>16</td>\n",
       "      <td>24</td>\n",
       "      <td>47.37%</td>\n",
       "    </tr>\n",
       "    <tr>\n",
       "      <th>7</th>\n",
       "      <td>Zenit Saint Petersburg</td>\n",
       "      <td>June 2017 to present</td>\n",
       "      <td>41</td>\n",
       "      <td>21</td>\n",
       "      <td>12</td>\n",
       "      <td>8</td>\n",
       "      <td>51.22%</td>\n",
       "    </tr>\n",
       "  </tbody>\n",
       "</table>\n",
       "</div>"
      ],
      "text/plain": [
       "                     Team                Managing Period Match Wins Draw Loss  \\\n",
       "1              Fiorentina  February 2001 to January 2002    44   16   14   14   \n",
       "2                   Lazio          May 2002 to July 2004   102   49   32   21   \n",
       "3             Inter Milan          July 2004 to May 2008   226  140   60   26   \n",
       "4         Manchester City      December 2009 to May 2013   191  113   38   40   \n",
       "5             Galatasaray    September 2013 to June 2014    46   24   13    9   \n",
       "6             Inter Milan   November 2014 to August 2016    76   36   16   24   \n",
       "7  Zenit Saint Petersburg           June 2017 to present    41   21   12    8   \n",
       "\n",
       "  Win Percentage  \n",
       "1         36.36%  \n",
       "2         48.04%  \n",
       "3         61.95%  \n",
       "4         59.16%  \n",
       "5         52.17%  \n",
       "6         47.37%  \n",
       "7         51.22%  "
      ]
     },
     "execution_count": 8,
     "metadata": {},
     "output_type": "execute_result"
    }
   ],
   "source": [
    "robert_mancini = df[df.Team != 'Team']\n",
    "robert_mancini"
   ]
  },
  {
   "cell_type": "code",
   "execution_count": 9,
   "metadata": {},
   "outputs": [],
   "source": [
    "jurgen_klopp = soup.find_all(\"table\")[1]\n",
    "A=[]\n",
    "B=[]\n",
    "C=[]\n",
    "D=[]\n",
    "E=[]\n",
    "F=[]\n",
    "G=[]\n",
    "for row in jurgen_klopp.findAll('tr'):\n",
    "    cells=row.findAll('td')\n",
    "    if len(cells)==7:\n",
    "        A.append(cells[0].find(text=True))\n",
    "        B.append(cells[1].find(text=True))\n",
    "        C.append(cells[2].find(text=True))\n",
    "        D.append(cells[3].find(text=True))\n",
    "        E.append(cells[4].find(text=True))\n",
    "        F.append(cells[5].find(text=True))\n",
    "        G.append(cells[6].find(text=True))"
   ]
  },
  {
   "cell_type": "code",
   "execution_count": 10,
   "metadata": {},
   "outputs": [
    {
     "data": {
      "text/html": [
       "<div>\n",
       "<style scoped>\n",
       "    .dataframe tbody tr th:only-of-type {\n",
       "        vertical-align: middle;\n",
       "    }\n",
       "\n",
       "    .dataframe tbody tr th {\n",
       "        vertical-align: top;\n",
       "    }\n",
       "\n",
       "    .dataframe thead th {\n",
       "        text-align: right;\n",
       "    }\n",
       "</style>\n",
       "<table border=\"1\" class=\"dataframe\">\n",
       "  <thead>\n",
       "    <tr style=\"text-align: right;\">\n",
       "      <th></th>\n",
       "      <th>Team</th>\n",
       "      <th>Managing Period</th>\n",
       "      <th>Match</th>\n",
       "      <th>Wins</th>\n",
       "      <th>Draw</th>\n",
       "      <th>Loss</th>\n",
       "      <th>Win Percentage</th>\n",
       "    </tr>\n",
       "  </thead>\n",
       "  <tbody>\n",
       "    <tr>\n",
       "      <th>0</th>\n",
       "      <td>Team</td>\n",
       "      <td>Managing Period</td>\n",
       "      <td>Match</td>\n",
       "      <td>Wins</td>\n",
       "      <td>Draw</td>\n",
       "      <td>Loss</td>\n",
       "      <td>Win Percentage</td>\n",
       "    </tr>\n",
       "    <tr>\n",
       "      <th>1</th>\n",
       "      <td>Mainz 05</td>\n",
       "      <td>February 2001 to June 2008</td>\n",
       "      <td>270</td>\n",
       "      <td>109</td>\n",
       "      <td>78</td>\n",
       "      <td>83</td>\n",
       "      <td>40.4%</td>\n",
       "    </tr>\n",
       "    <tr>\n",
       "      <th>2</th>\n",
       "      <td>Borussia Dortmund</td>\n",
       "      <td>July 2008 to June 2015</td>\n",
       "      <td>318</td>\n",
       "      <td>179</td>\n",
       "      <td>69</td>\n",
       "      <td>70</td>\n",
       "      <td>56.3%</td>\n",
       "    </tr>\n",
       "    <tr>\n",
       "      <th>3</th>\n",
       "      <td>Liverpool</td>\n",
       "      <td>October 2015 to present</td>\n",
       "      <td>150</td>\n",
       "      <td>80</td>\n",
       "      <td>43</td>\n",
       "      <td>27</td>\n",
       "      <td>53.3%</td>\n",
       "    </tr>\n",
       "  </tbody>\n",
       "</table>\n",
       "</div>"
      ],
      "text/plain": [
       "                Team             Managing Period  Match  Wins  Draw  Loss  \\\n",
       "0               Team             Managing Period  Match  Wins  Draw  Loss   \n",
       "1           Mainz 05  February 2001 to June 2008    270   109    78    83   \n",
       "2  Borussia Dortmund      July 2008 to June 2015    318   179    69    70   \n",
       "3          Liverpool     October 2015 to present    150    80    43    27   \n",
       "\n",
       "   Win Percentage  \n",
       "0  Win Percentage  \n",
       "1           40.4%  \n",
       "2           56.3%  \n",
       "3           53.3%  "
      ]
     },
     "execution_count": 10,
     "metadata": {},
     "output_type": "execute_result"
    }
   ],
   "source": [
    "import pandas as pd\n",
    "df=pd.DataFrame(A,columns=['Team'])\n",
    "df['Managing Period']=B\n",
    "df['Match']=C\n",
    "df['Wins']=D\n",
    "df['Draw']=E\n",
    "df['Loss']=F\n",
    "df['Win Percentage']=G\n",
    "df"
   ]
  },
  {
   "cell_type": "code",
   "execution_count": 11,
   "metadata": {},
   "outputs": [
    {
     "data": {
      "text/html": [
       "<div>\n",
       "<style scoped>\n",
       "    .dataframe tbody tr th:only-of-type {\n",
       "        vertical-align: middle;\n",
       "    }\n",
       "\n",
       "    .dataframe tbody tr th {\n",
       "        vertical-align: top;\n",
       "    }\n",
       "\n",
       "    .dataframe thead th {\n",
       "        text-align: right;\n",
       "    }\n",
       "</style>\n",
       "<table border=\"1\" class=\"dataframe\">\n",
       "  <thead>\n",
       "    <tr style=\"text-align: right;\">\n",
       "      <th></th>\n",
       "      <th>Team</th>\n",
       "      <th>Managing Period</th>\n",
       "      <th>Match</th>\n",
       "      <th>Wins</th>\n",
       "      <th>Draw</th>\n",
       "      <th>Loss</th>\n",
       "      <th>Win Percentage</th>\n",
       "    </tr>\n",
       "  </thead>\n",
       "  <tbody>\n",
       "    <tr>\n",
       "      <th>1</th>\n",
       "      <td>Mainz 05</td>\n",
       "      <td>February 2001 to June 2008</td>\n",
       "      <td>270</td>\n",
       "      <td>109</td>\n",
       "      <td>78</td>\n",
       "      <td>83</td>\n",
       "      <td>40.4%</td>\n",
       "    </tr>\n",
       "    <tr>\n",
       "      <th>2</th>\n",
       "      <td>Borussia Dortmund</td>\n",
       "      <td>July 2008 to June 2015</td>\n",
       "      <td>318</td>\n",
       "      <td>179</td>\n",
       "      <td>69</td>\n",
       "      <td>70</td>\n",
       "      <td>56.3%</td>\n",
       "    </tr>\n",
       "    <tr>\n",
       "      <th>3</th>\n",
       "      <td>Liverpool</td>\n",
       "      <td>October 2015 to present</td>\n",
       "      <td>150</td>\n",
       "      <td>80</td>\n",
       "      <td>43</td>\n",
       "      <td>27</td>\n",
       "      <td>53.3%</td>\n",
       "    </tr>\n",
       "  </tbody>\n",
       "</table>\n",
       "</div>"
      ],
      "text/plain": [
       "                Team             Managing Period Match Wins Draw Loss  \\\n",
       "1           Mainz 05  February 2001 to June 2008   270  109   78   83   \n",
       "2  Borussia Dortmund      July 2008 to June 2015   318  179   69   70   \n",
       "3          Liverpool     October 2015 to present   150   80   43   27   \n",
       "\n",
       "  Win Percentage  \n",
       "1          40.4%  \n",
       "2          56.3%  \n",
       "3          53.3%  "
      ]
     },
     "execution_count": 11,
     "metadata": {},
     "output_type": "execute_result"
    }
   ],
   "source": [
    "jurgen_klopp = df[df.Team != 'Team']\n",
    "jurgen_klopp"
   ]
  },
  {
   "cell_type": "code",
   "execution_count": 12,
   "metadata": {},
   "outputs": [],
   "source": [
    "manuel_pellegrini = soup.find_all(\"table\")[2]\n",
    "A=[]\n",
    "B=[]\n",
    "C=[]\n",
    "D=[]\n",
    "E=[]\n",
    "F=[]\n",
    "G=[]\n",
    "for row in manuel_pellegrini.findAll('tr'):\n",
    "    cells=row.findAll('td')\n",
    "    if len(cells)==7:\n",
    "        A.append(cells[0].find(text=True))\n",
    "        B.append(cells[1].find(text=True))\n",
    "        C.append(cells[2].find(text=True))\n",
    "        D.append(cells[3].find(text=True))\n",
    "        E.append(cells[4].find(text=True))\n",
    "        F.append(cells[5].find(text=True))\n",
    "        G.append(cells[6].find(text=True))"
   ]
  },
  {
   "cell_type": "code",
   "execution_count": 13,
   "metadata": {},
   "outputs": [
    {
     "data": {
      "text/html": [
       "<div>\n",
       "<style scoped>\n",
       "    .dataframe tbody tr th:only-of-type {\n",
       "        vertical-align: middle;\n",
       "    }\n",
       "\n",
       "    .dataframe tbody tr th {\n",
       "        vertical-align: top;\n",
       "    }\n",
       "\n",
       "    .dataframe thead th {\n",
       "        text-align: right;\n",
       "    }\n",
       "</style>\n",
       "<table border=\"1\" class=\"dataframe\">\n",
       "  <thead>\n",
       "    <tr style=\"text-align: right;\">\n",
       "      <th></th>\n",
       "      <th>Team</th>\n",
       "      <th>Managing Period</th>\n",
       "      <th>Match</th>\n",
       "      <th>Wins</th>\n",
       "      <th>Draw</th>\n",
       "      <th>Loss</th>\n",
       "      <th>Win Percentage</th>\n",
       "    </tr>\n",
       "  </thead>\n",
       "  <tbody>\n",
       "    <tr>\n",
       "      <th>0</th>\n",
       "      <td>Team</td>\n",
       "      <td>Managing Period</td>\n",
       "      <td>Match</td>\n",
       "      <td>Wins</td>\n",
       "      <td>Draw</td>\n",
       "      <td>Loss</td>\n",
       "      <td>Win Percentage</td>\n",
       "    </tr>\n",
       "    <tr>\n",
       "      <th>1</th>\n",
       "      <td>Villarreal</td>\n",
       "      <td>July 2004 to June 2009</td>\n",
       "      <td>259</td>\n",
       "      <td>123</td>\n",
       "      <td>72</td>\n",
       "      <td>64</td>\n",
       "      <td>47.5%</td>\n",
       "    </tr>\n",
       "    <tr>\n",
       "      <th>2</th>\n",
       "      <td>Real Madrid</td>\n",
       "      <td>June 2009 to May 2010</td>\n",
       "      <td>48</td>\n",
       "      <td>36</td>\n",
       "      <td>5</td>\n",
       "      <td>7</td>\n",
       "      <td>75.0%</td>\n",
       "    </tr>\n",
       "    <tr>\n",
       "      <th>3</th>\n",
       "      <td>Málaga</td>\n",
       "      <td>November 2010 to June 2013</td>\n",
       "      <td>129</td>\n",
       "      <td>53</td>\n",
       "      <td>30</td>\n",
       "      <td>46</td>\n",
       "      <td>41.1%</td>\n",
       "    </tr>\n",
       "    <tr>\n",
       "      <th>4</th>\n",
       "      <td>Manchester City</td>\n",
       "      <td>June 2013 to June 2016</td>\n",
       "      <td>167</td>\n",
       "      <td>100</td>\n",
       "      <td>28</td>\n",
       "      <td>39</td>\n",
       "      <td>59.9%</td>\n",
       "    </tr>\n",
       "    <tr>\n",
       "      <th>5</th>\n",
       "      <td>Hebei China Fortune</td>\n",
       "      <td>August 2016 to present</td>\n",
       "      <td>37</td>\n",
       "      <td>16</td>\n",
       "      <td>9</td>\n",
       "      <td>12</td>\n",
       "      <td>43.2%</td>\n",
       "    </tr>\n",
       "  </tbody>\n",
       "</table>\n",
       "</div>"
      ],
      "text/plain": [
       "                  Team             Managing Period  Match  Wins  Draw  Loss  \\\n",
       "0                 Team             Managing Period  Match  Wins  Draw  Loss   \n",
       "1           Villarreal      July 2004 to June 2009    259   123    72    64   \n",
       "2          Real Madrid       June 2009 to May 2010     48    36     5     7   \n",
       "3               Málaga  November 2010 to June 2013    129    53    30    46   \n",
       "4      Manchester City      June 2013 to June 2016    167   100    28    39   \n",
       "5  Hebei China Fortune      August 2016 to present     37    16     9    12   \n",
       "\n",
       "   Win Percentage  \n",
       "0  Win Percentage  \n",
       "1           47.5%  \n",
       "2           75.0%  \n",
       "3           41.1%  \n",
       "4           59.9%  \n",
       "5           43.2%  "
      ]
     },
     "execution_count": 13,
     "metadata": {},
     "output_type": "execute_result"
    }
   ],
   "source": [
    "import pandas as pd\n",
    "df=pd.DataFrame(A,columns=['Team'])\n",
    "df['Managing Period']=B\n",
    "df['Match']=C\n",
    "df['Wins']=D\n",
    "df['Draw']=E\n",
    "df['Loss']=F\n",
    "df['Win Percentage']=G\n",
    "df"
   ]
  },
  {
   "cell_type": "code",
   "execution_count": 14,
   "metadata": {},
   "outputs": [
    {
     "data": {
      "text/html": [
       "<div>\n",
       "<style scoped>\n",
       "    .dataframe tbody tr th:only-of-type {\n",
       "        vertical-align: middle;\n",
       "    }\n",
       "\n",
       "    .dataframe tbody tr th {\n",
       "        vertical-align: top;\n",
       "    }\n",
       "\n",
       "    .dataframe thead th {\n",
       "        text-align: right;\n",
       "    }\n",
       "</style>\n",
       "<table border=\"1\" class=\"dataframe\">\n",
       "  <thead>\n",
       "    <tr style=\"text-align: right;\">\n",
       "      <th></th>\n",
       "      <th>Team</th>\n",
       "      <th>Managing Period</th>\n",
       "      <th>Match</th>\n",
       "      <th>Wins</th>\n",
       "      <th>Draw</th>\n",
       "      <th>Loss</th>\n",
       "      <th>Win Percentage</th>\n",
       "    </tr>\n",
       "  </thead>\n",
       "  <tbody>\n",
       "    <tr>\n",
       "      <th>1</th>\n",
       "      <td>Villarreal</td>\n",
       "      <td>July 2004 to June 2009</td>\n",
       "      <td>259</td>\n",
       "      <td>123</td>\n",
       "      <td>72</td>\n",
       "      <td>64</td>\n",
       "      <td>47.5%</td>\n",
       "    </tr>\n",
       "    <tr>\n",
       "      <th>2</th>\n",
       "      <td>Real Madrid</td>\n",
       "      <td>June 2009 to May 2010</td>\n",
       "      <td>48</td>\n",
       "      <td>36</td>\n",
       "      <td>5</td>\n",
       "      <td>7</td>\n",
       "      <td>75.0%</td>\n",
       "    </tr>\n",
       "    <tr>\n",
       "      <th>3</th>\n",
       "      <td>Málaga</td>\n",
       "      <td>November 2010 to June 2013</td>\n",
       "      <td>129</td>\n",
       "      <td>53</td>\n",
       "      <td>30</td>\n",
       "      <td>46</td>\n",
       "      <td>41.1%</td>\n",
       "    </tr>\n",
       "    <tr>\n",
       "      <th>4</th>\n",
       "      <td>Manchester City</td>\n",
       "      <td>June 2013 to June 2016</td>\n",
       "      <td>167</td>\n",
       "      <td>100</td>\n",
       "      <td>28</td>\n",
       "      <td>39</td>\n",
       "      <td>59.9%</td>\n",
       "    </tr>\n",
       "    <tr>\n",
       "      <th>5</th>\n",
       "      <td>Hebei China Fortune</td>\n",
       "      <td>August 2016 to present</td>\n",
       "      <td>37</td>\n",
       "      <td>16</td>\n",
       "      <td>9</td>\n",
       "      <td>12</td>\n",
       "      <td>43.2%</td>\n",
       "    </tr>\n",
       "  </tbody>\n",
       "</table>\n",
       "</div>"
      ],
      "text/plain": [
       "                  Team             Managing Period Match Wins Draw Loss  \\\n",
       "1           Villarreal      July 2004 to June 2009   259  123   72   64   \n",
       "2          Real Madrid       June 2009 to May 2010    48   36    5    7   \n",
       "3               Málaga  November 2010 to June 2013   129   53   30   46   \n",
       "4      Manchester City      June 2013 to June 2016   167  100   28   39   \n",
       "5  Hebei China Fortune      August 2016 to present    37   16    9   12   \n",
       "\n",
       "  Win Percentage  \n",
       "1          47.5%  \n",
       "2          75.0%  \n",
       "3          41.1%  \n",
       "4          59.9%  \n",
       "5          43.2%  "
      ]
     },
     "execution_count": 14,
     "metadata": {},
     "output_type": "execute_result"
    }
   ],
   "source": [
    "manuel_pellegrini = df[df.Team != 'Team']\n",
    "manuel_pellegrini"
   ]
  },
  {
   "cell_type": "code",
   "execution_count": 15,
   "metadata": {},
   "outputs": [],
   "source": [
    "antonio_conte = soup.find_all(\"table\")[3]\n",
    "A=[]\n",
    "B=[]\n",
    "C=[]\n",
    "D=[]\n",
    "E=[]\n",
    "F=[]\n",
    "G=[]\n",
    "for row in antonio_conte.findAll('tr'):\n",
    "    cells=row.findAll('td')\n",
    "    if len(cells)==7:\n",
    "        A.append(cells[0].find(text=True))\n",
    "        B.append(cells[1].find(text=True))\n",
    "        C.append(cells[2].find(text=True))\n",
    "        D.append(cells[3].find(text=True))\n",
    "        E.append(cells[4].find(text=True))\n",
    "        F.append(cells[5].find(text=True))\n",
    "        G.append(cells[6].find(text=True))"
   ]
  },
  {
   "cell_type": "code",
   "execution_count": 16,
   "metadata": {},
   "outputs": [
    {
     "data": {
      "text/html": [
       "<div>\n",
       "<style scoped>\n",
       "    .dataframe tbody tr th:only-of-type {\n",
       "        vertical-align: middle;\n",
       "    }\n",
       "\n",
       "    .dataframe tbody tr th {\n",
       "        vertical-align: top;\n",
       "    }\n",
       "\n",
       "    .dataframe thead th {\n",
       "        text-align: right;\n",
       "    }\n",
       "</style>\n",
       "<table border=\"1\" class=\"dataframe\">\n",
       "  <thead>\n",
       "    <tr style=\"text-align: right;\">\n",
       "      <th></th>\n",
       "      <th>Team</th>\n",
       "      <th>Managing Period</th>\n",
       "      <th>Match</th>\n",
       "      <th>Wins</th>\n",
       "      <th>Draw</th>\n",
       "      <th>Loss</th>\n",
       "      <th>Win Percentage</th>\n",
       "    </tr>\n",
       "  </thead>\n",
       "  <tbody>\n",
       "    <tr>\n",
       "      <th>0</th>\n",
       "      <td>Team</td>\n",
       "      <td>Managing Period</td>\n",
       "      <td>Match</td>\n",
       "      <td>Wins</td>\n",
       "      <td>Draw</td>\n",
       "      <td>Loss</td>\n",
       "      <td>Win Percentage</td>\n",
       "    </tr>\n",
       "    <tr>\n",
       "      <th>1</th>\n",
       "      <td>Arezzo</td>\n",
       "      <td>July 2006 to June 2007</td>\n",
       "      <td>12</td>\n",
       "      <td>3</td>\n",
       "      <td>5</td>\n",
       "      <td>4</td>\n",
       "      <td>25.0%</td>\n",
       "    </tr>\n",
       "    <tr>\n",
       "      <th>2</th>\n",
       "      <td>Bari</td>\n",
       "      <td>December 2007 to June 2009</td>\n",
       "      <td>67</td>\n",
       "      <td>32</td>\n",
       "      <td>20</td>\n",
       "      <td>15</td>\n",
       "      <td>47.8%</td>\n",
       "    </tr>\n",
       "    <tr>\n",
       "      <th>3</th>\n",
       "      <td>Atalanta</td>\n",
       "      <td>September 2009 to January 2010</td>\n",
       "      <td>14</td>\n",
       "      <td>3</td>\n",
       "      <td>4</td>\n",
       "      <td>7</td>\n",
       "      <td>21.4%</td>\n",
       "    </tr>\n",
       "    <tr>\n",
       "      <th>4</th>\n",
       "      <td>Siena</td>\n",
       "      <td>July 2010 to May 2011</td>\n",
       "      <td>44</td>\n",
       "      <td>22</td>\n",
       "      <td>14</td>\n",
       "      <td>8</td>\n",
       "      <td>50.0%</td>\n",
       "    </tr>\n",
       "    <tr>\n",
       "      <th>5</th>\n",
       "      <td>Juventus</td>\n",
       "      <td>May 2011 to July 2014</td>\n",
       "      <td>152</td>\n",
       "      <td>102</td>\n",
       "      <td>35</td>\n",
       "      <td>15</td>\n",
       "      <td>67.1%</td>\n",
       "    </tr>\n",
       "    <tr>\n",
       "      <th>6</th>\n",
       "      <td>Italy</td>\n",
       "      <td>August 2014 to July 2016</td>\n",
       "      <td>25</td>\n",
       "      <td>14</td>\n",
       "      <td>7</td>\n",
       "      <td>4</td>\n",
       "      <td>56.0%</td>\n",
       "    </tr>\n",
       "    <tr>\n",
       "      <th>7</th>\n",
       "      <td>Chelsea</td>\n",
       "      <td>July 2016 to present</td>\n",
       "      <td>101</td>\n",
       "      <td>66</td>\n",
       "      <td>16</td>\n",
       "      <td>19</td>\n",
       "      <td>65.3%</td>\n",
       "    </tr>\n",
       "  </tbody>\n",
       "</table>\n",
       "</div>"
      ],
      "text/plain": [
       "       Team                 Managing Period  Match  Wins  Draw  Loss  \\\n",
       "0      Team                 Managing Period  Match  Wins  Draw  Loss   \n",
       "1    Arezzo          July 2006 to June 2007     12     3     5     4   \n",
       "2      Bari      December 2007 to June 2009     67    32    20    15   \n",
       "3  Atalanta  September 2009 to January 2010     14     3     4     7   \n",
       "4     Siena           July 2010 to May 2011     44    22    14     8   \n",
       "5  Juventus           May 2011 to July 2014    152   102    35    15   \n",
       "6     Italy        August 2014 to July 2016     25    14     7     4   \n",
       "7   Chelsea            July 2016 to present    101    66    16    19   \n",
       "\n",
       "   Win Percentage  \n",
       "0  Win Percentage  \n",
       "1           25.0%  \n",
       "2           47.8%  \n",
       "3           21.4%  \n",
       "4           50.0%  \n",
       "5           67.1%  \n",
       "6           56.0%  \n",
       "7           65.3%  "
      ]
     },
     "execution_count": 16,
     "metadata": {},
     "output_type": "execute_result"
    }
   ],
   "source": [
    "import pandas as pd\n",
    "df=pd.DataFrame(A,columns=['Team'])\n",
    "df['Managing Period']=B\n",
    "df['Match']=C\n",
    "df['Wins']=D\n",
    "df['Draw']=E\n",
    "df['Loss']=F\n",
    "df['Win Percentage']=G\n",
    "df"
   ]
  },
  {
   "cell_type": "code",
   "execution_count": 17,
   "metadata": {},
   "outputs": [
    {
     "data": {
      "text/html": [
       "<div>\n",
       "<style scoped>\n",
       "    .dataframe tbody tr th:only-of-type {\n",
       "        vertical-align: middle;\n",
       "    }\n",
       "\n",
       "    .dataframe tbody tr th {\n",
       "        vertical-align: top;\n",
       "    }\n",
       "\n",
       "    .dataframe thead th {\n",
       "        text-align: right;\n",
       "    }\n",
       "</style>\n",
       "<table border=\"1\" class=\"dataframe\">\n",
       "  <thead>\n",
       "    <tr style=\"text-align: right;\">\n",
       "      <th></th>\n",
       "      <th>Team</th>\n",
       "      <th>Managing Period</th>\n",
       "      <th>Match</th>\n",
       "      <th>Wins</th>\n",
       "      <th>Draw</th>\n",
       "      <th>Loss</th>\n",
       "      <th>Win Percentage</th>\n",
       "    </tr>\n",
       "  </thead>\n",
       "  <tbody>\n",
       "    <tr>\n",
       "      <th>1</th>\n",
       "      <td>Arezzo</td>\n",
       "      <td>July 2006 to June 2007</td>\n",
       "      <td>12</td>\n",
       "      <td>3</td>\n",
       "      <td>5</td>\n",
       "      <td>4</td>\n",
       "      <td>25.0%</td>\n",
       "    </tr>\n",
       "    <tr>\n",
       "      <th>2</th>\n",
       "      <td>Bari</td>\n",
       "      <td>December 2007 to June 2009</td>\n",
       "      <td>67</td>\n",
       "      <td>32</td>\n",
       "      <td>20</td>\n",
       "      <td>15</td>\n",
       "      <td>47.8%</td>\n",
       "    </tr>\n",
       "    <tr>\n",
       "      <th>3</th>\n",
       "      <td>Atalanta</td>\n",
       "      <td>September 2009 to January 2010</td>\n",
       "      <td>14</td>\n",
       "      <td>3</td>\n",
       "      <td>4</td>\n",
       "      <td>7</td>\n",
       "      <td>21.4%</td>\n",
       "    </tr>\n",
       "    <tr>\n",
       "      <th>4</th>\n",
       "      <td>Siena</td>\n",
       "      <td>July 2010 to May 2011</td>\n",
       "      <td>44</td>\n",
       "      <td>22</td>\n",
       "      <td>14</td>\n",
       "      <td>8</td>\n",
       "      <td>50.0%</td>\n",
       "    </tr>\n",
       "    <tr>\n",
       "      <th>5</th>\n",
       "      <td>Juventus</td>\n",
       "      <td>May 2011 to July 2014</td>\n",
       "      <td>152</td>\n",
       "      <td>102</td>\n",
       "      <td>35</td>\n",
       "      <td>15</td>\n",
       "      <td>67.1%</td>\n",
       "    </tr>\n",
       "    <tr>\n",
       "      <th>6</th>\n",
       "      <td>Italy</td>\n",
       "      <td>August 2014 to July 2016</td>\n",
       "      <td>25</td>\n",
       "      <td>14</td>\n",
       "      <td>7</td>\n",
       "      <td>4</td>\n",
       "      <td>56.0%</td>\n",
       "    </tr>\n",
       "    <tr>\n",
       "      <th>7</th>\n",
       "      <td>Chelsea</td>\n",
       "      <td>July 2016 to present</td>\n",
       "      <td>101</td>\n",
       "      <td>66</td>\n",
       "      <td>16</td>\n",
       "      <td>19</td>\n",
       "      <td>65.3%</td>\n",
       "    </tr>\n",
       "  </tbody>\n",
       "</table>\n",
       "</div>"
      ],
      "text/plain": [
       "       Team                 Managing Period Match Wins Draw Loss  \\\n",
       "1    Arezzo          July 2006 to June 2007    12    3    5    4   \n",
       "2      Bari      December 2007 to June 2009    67   32   20   15   \n",
       "3  Atalanta  September 2009 to January 2010    14    3    4    7   \n",
       "4     Siena           July 2010 to May 2011    44   22   14    8   \n",
       "5  Juventus           May 2011 to July 2014   152  102   35   15   \n",
       "6     Italy        August 2014 to July 2016    25   14    7    4   \n",
       "7   Chelsea            July 2016 to present   101   66   16   19   \n",
       "\n",
       "  Win Percentage  \n",
       "1          25.0%  \n",
       "2          47.8%  \n",
       "3          21.4%  \n",
       "4          50.0%  \n",
       "5          67.1%  \n",
       "6          56.0%  \n",
       "7          65.3%  "
      ]
     },
     "execution_count": 17,
     "metadata": {},
     "output_type": "execute_result"
    }
   ],
   "source": [
    "antonio_conte = df[df.Team != 'Team']\n",
    "antonio_conte"
   ]
  },
  {
   "cell_type": "code",
   "execution_count": 18,
   "metadata": {},
   "outputs": [],
   "source": [
    "giovanni_trapattoni = soup.find_all(\"table\")[4]\n",
    "A=[]\n",
    "B=[]\n",
    "C=[]\n",
    "D=[]\n",
    "E=[]\n",
    "F=[]\n",
    "G=[]\n",
    "for row in giovanni_trapattoni.findAll('tr'):\n",
    "    cells=row.findAll('td')\n",
    "    if len(cells)==7:\n",
    "        A.append(cells[0].find(text=True))\n",
    "        B.append(cells[1].find(text=True))\n",
    "        C.append(cells[2].find(text=True))\n",
    "        D.append(cells[3].find(text=True))\n",
    "        E.append(cells[4].find(text=True))\n",
    "        F.append(cells[5].find(text=True))\n",
    "        G.append(cells[6].find(text=True))"
   ]
  },
  {
   "cell_type": "code",
   "execution_count": 19,
   "metadata": {},
   "outputs": [
    {
     "data": {
      "text/html": [
       "<div>\n",
       "<style scoped>\n",
       "    .dataframe tbody tr th:only-of-type {\n",
       "        vertical-align: middle;\n",
       "    }\n",
       "\n",
       "    .dataframe tbody tr th {\n",
       "        vertical-align: top;\n",
       "    }\n",
       "\n",
       "    .dataframe thead th {\n",
       "        text-align: right;\n",
       "    }\n",
       "</style>\n",
       "<table border=\"1\" class=\"dataframe\">\n",
       "  <thead>\n",
       "    <tr style=\"text-align: right;\">\n",
       "      <th></th>\n",
       "      <th>Team</th>\n",
       "      <th>Managing Period</th>\n",
       "      <th>Match</th>\n",
       "      <th>Wins</th>\n",
       "      <th>Draw</th>\n",
       "      <th>Loss</th>\n",
       "      <th>Win Percentage</th>\n",
       "    </tr>\n",
       "  </thead>\n",
       "  <tbody>\n",
       "    <tr>\n",
       "      <th>0</th>\n",
       "      <td>Team</td>\n",
       "      <td>Managing Period</td>\n",
       "      <td>Match</td>\n",
       "      <td>Wins</td>\n",
       "      <td>Draw</td>\n",
       "      <td>Loss</td>\n",
       "      <td>Win Percentage</td>\n",
       "    </tr>\n",
       "    <tr>\n",
       "      <th>1</th>\n",
       "      <td>AC Milan</td>\n",
       "      <td>April 1974 to June 1974</td>\n",
       "      <td>11</td>\n",
       "      <td>4</td>\n",
       "      <td>5</td>\n",
       "      <td>2</td>\n",
       "      <td>36.36%</td>\n",
       "    </tr>\n",
       "    <tr>\n",
       "      <th>2</th>\n",
       "      <td>Juventus</td>\n",
       "      <td>July 1976 to June 1986</td>\n",
       "      <td>450</td>\n",
       "      <td>244</td>\n",
       "      <td>136</td>\n",
       "      <td>70</td>\n",
       "      <td>54.22%</td>\n",
       "    </tr>\n",
       "    <tr>\n",
       "      <th>3</th>\n",
       "      <td>Inter Milan</td>\n",
       "      <td>July 1986 to June 1991</td>\n",
       "      <td>233</td>\n",
       "      <td>126</td>\n",
       "      <td>61</td>\n",
       "      <td>46</td>\n",
       "      <td>54.08%</td>\n",
       "    </tr>\n",
       "    <tr>\n",
       "      <th>4</th>\n",
       "      <td>Juventus</td>\n",
       "      <td>July 1991 to June 1994</td>\n",
       "      <td>140</td>\n",
       "      <td>74</td>\n",
       "      <td>42</td>\n",
       "      <td>24</td>\n",
       "      <td>52.86%</td>\n",
       "    </tr>\n",
       "    <tr>\n",
       "      <th>5</th>\n",
       "      <td>Bayern Munich</td>\n",
       "      <td>July 1994 to June 1995</td>\n",
       "      <td>46</td>\n",
       "      <td>17</td>\n",
       "      <td>18</td>\n",
       "      <td>11</td>\n",
       "      <td>36.96%</td>\n",
       "    </tr>\n",
       "    <tr>\n",
       "      <th>6</th>\n",
       "      <td>Cagliari</td>\n",
       "      <td>July 1995 to June 1996</td>\n",
       "      <td>37</td>\n",
       "      <td>13</td>\n",
       "      <td>8</td>\n",
       "      <td>16</td>\n",
       "      <td>35.14%</td>\n",
       "    </tr>\n",
       "    <tr>\n",
       "      <th>7</th>\n",
       "      <td>Bayern Munich</td>\n",
       "      <td>July 1996 to June 1998</td>\n",
       "      <td>90</td>\n",
       "      <td>55</td>\n",
       "      <td>22</td>\n",
       "      <td>13</td>\n",
       "      <td>61.11%</td>\n",
       "    </tr>\n",
       "    <tr>\n",
       "      <th>8</th>\n",
       "      <td>Fiorentina</td>\n",
       "      <td>July 1998 to June 2000</td>\n",
       "      <td>99</td>\n",
       "      <td>44</td>\n",
       "      <td>31</td>\n",
       "      <td>24</td>\n",
       "      <td>44.44%</td>\n",
       "    </tr>\n",
       "    <tr>\n",
       "      <th>9</th>\n",
       "      <td>Italy</td>\n",
       "      <td>July 2000 to July 2004</td>\n",
       "      <td>44</td>\n",
       "      <td>25</td>\n",
       "      <td>12</td>\n",
       "      <td>7</td>\n",
       "      <td>56.82%</td>\n",
       "    </tr>\n",
       "    <tr>\n",
       "      <th>10</th>\n",
       "      <td>Benfica</td>\n",
       "      <td>July 2004 to May 2005</td>\n",
       "      <td>51</td>\n",
       "      <td>29</td>\n",
       "      <td>10</td>\n",
       "      <td>12</td>\n",
       "      <td>56.86%</td>\n",
       "    </tr>\n",
       "    <tr>\n",
       "      <th>11</th>\n",
       "      <td>VfB Stuttgart</td>\n",
       "      <td>June 2005 to February 2006</td>\n",
       "      <td>31</td>\n",
       "      <td>11</td>\n",
       "      <td>13</td>\n",
       "      <td>7</td>\n",
       "      <td>35.48%</td>\n",
       "    </tr>\n",
       "    <tr>\n",
       "      <th>12</th>\n",
       "      <td>Red Bull Salzburg</td>\n",
       "      <td>May 2006 to April 2008</td>\n",
       "      <td>87</td>\n",
       "      <td>48</td>\n",
       "      <td>19</td>\n",
       "      <td>20</td>\n",
       "      <td>55.17%</td>\n",
       "    </tr>\n",
       "    <tr>\n",
       "      <th>13</th>\n",
       "      <td>Republic of Ireland</td>\n",
       "      <td>May 2008 to September 2013</td>\n",
       "      <td>64</td>\n",
       "      <td>26</td>\n",
       "      <td>22</td>\n",
       "      <td>16</td>\n",
       "      <td>40.63%</td>\n",
       "    </tr>\n",
       "  </tbody>\n",
       "</table>\n",
       "</div>"
      ],
      "text/plain": [
       "                   Team             Managing Period  Match  Wins  Draw  Loss  \\\n",
       "0                  Team             Managing Period  Match  Wins  Draw  Loss   \n",
       "1              AC Milan     April 1974 to June 1974     11     4     5     2   \n",
       "2              Juventus      July 1976 to June 1986    450   244   136    70   \n",
       "3           Inter Milan      July 1986 to June 1991    233   126    61    46   \n",
       "4              Juventus      July 1991 to June 1994    140    74    42    24   \n",
       "5         Bayern Munich      July 1994 to June 1995     46    17    18    11   \n",
       "6              Cagliari      July 1995 to June 1996     37    13     8    16   \n",
       "7         Bayern Munich      July 1996 to June 1998     90    55    22    13   \n",
       "8            Fiorentina      July 1998 to June 2000     99    44    31    24   \n",
       "9                 Italy      July 2000 to July 2004     44    25    12     7   \n",
       "10              Benfica       July 2004 to May 2005     51    29    10    12   \n",
       "11        VfB Stuttgart  June 2005 to February 2006     31    11    13     7   \n",
       "12    Red Bull Salzburg      May 2006 to April 2008     87    48    19    20   \n",
       "13  Republic of Ireland  May 2008 to September 2013     64    26    22    16   \n",
       "\n",
       "    Win Percentage  \n",
       "0   Win Percentage  \n",
       "1           36.36%  \n",
       "2           54.22%  \n",
       "3           54.08%  \n",
       "4           52.86%  \n",
       "5           36.96%  \n",
       "6           35.14%  \n",
       "7           61.11%  \n",
       "8           44.44%  \n",
       "9           56.82%  \n",
       "10          56.86%  \n",
       "11          35.48%  \n",
       "12          55.17%  \n",
       "13          40.63%  "
      ]
     },
     "execution_count": 19,
     "metadata": {},
     "output_type": "execute_result"
    }
   ],
   "source": [
    "import pandas as pd\n",
    "df=pd.DataFrame(A,columns=['Team'])\n",
    "df['Managing Period']=B\n",
    "df['Match']=C\n",
    "df['Wins']=D\n",
    "df['Draw']=E\n",
    "df['Loss']=F\n",
    "df['Win Percentage']=G\n",
    "df"
   ]
  },
  {
   "cell_type": "code",
   "execution_count": 20,
   "metadata": {},
   "outputs": [
    {
     "data": {
      "text/html": [
       "<div>\n",
       "<style scoped>\n",
       "    .dataframe tbody tr th:only-of-type {\n",
       "        vertical-align: middle;\n",
       "    }\n",
       "\n",
       "    .dataframe tbody tr th {\n",
       "        vertical-align: top;\n",
       "    }\n",
       "\n",
       "    .dataframe thead th {\n",
       "        text-align: right;\n",
       "    }\n",
       "</style>\n",
       "<table border=\"1\" class=\"dataframe\">\n",
       "  <thead>\n",
       "    <tr style=\"text-align: right;\">\n",
       "      <th></th>\n",
       "      <th>Team</th>\n",
       "      <th>Managing Period</th>\n",
       "      <th>Match</th>\n",
       "      <th>Wins</th>\n",
       "      <th>Draw</th>\n",
       "      <th>Loss</th>\n",
       "      <th>Win Percentage</th>\n",
       "    </tr>\n",
       "  </thead>\n",
       "  <tbody>\n",
       "    <tr>\n",
       "      <th>1</th>\n",
       "      <td>AC Milan</td>\n",
       "      <td>April 1974 to June 1974</td>\n",
       "      <td>11</td>\n",
       "      <td>4</td>\n",
       "      <td>5</td>\n",
       "      <td>2</td>\n",
       "      <td>36.36%</td>\n",
       "    </tr>\n",
       "    <tr>\n",
       "      <th>2</th>\n",
       "      <td>Juventus</td>\n",
       "      <td>July 1976 to June 1986</td>\n",
       "      <td>450</td>\n",
       "      <td>244</td>\n",
       "      <td>136</td>\n",
       "      <td>70</td>\n",
       "      <td>54.22%</td>\n",
       "    </tr>\n",
       "    <tr>\n",
       "      <th>3</th>\n",
       "      <td>Inter Milan</td>\n",
       "      <td>July 1986 to June 1991</td>\n",
       "      <td>233</td>\n",
       "      <td>126</td>\n",
       "      <td>61</td>\n",
       "      <td>46</td>\n",
       "      <td>54.08%</td>\n",
       "    </tr>\n",
       "    <tr>\n",
       "      <th>4</th>\n",
       "      <td>Juventus</td>\n",
       "      <td>July 1991 to June 1994</td>\n",
       "      <td>140</td>\n",
       "      <td>74</td>\n",
       "      <td>42</td>\n",
       "      <td>24</td>\n",
       "      <td>52.86%</td>\n",
       "    </tr>\n",
       "    <tr>\n",
       "      <th>5</th>\n",
       "      <td>Bayern Munich</td>\n",
       "      <td>July 1994 to June 1995</td>\n",
       "      <td>46</td>\n",
       "      <td>17</td>\n",
       "      <td>18</td>\n",
       "      <td>11</td>\n",
       "      <td>36.96%</td>\n",
       "    </tr>\n",
       "    <tr>\n",
       "      <th>6</th>\n",
       "      <td>Cagliari</td>\n",
       "      <td>July 1995 to June 1996</td>\n",
       "      <td>37</td>\n",
       "      <td>13</td>\n",
       "      <td>8</td>\n",
       "      <td>16</td>\n",
       "      <td>35.14%</td>\n",
       "    </tr>\n",
       "    <tr>\n",
       "      <th>7</th>\n",
       "      <td>Bayern Munich</td>\n",
       "      <td>July 1996 to June 1998</td>\n",
       "      <td>90</td>\n",
       "      <td>55</td>\n",
       "      <td>22</td>\n",
       "      <td>13</td>\n",
       "      <td>61.11%</td>\n",
       "    </tr>\n",
       "    <tr>\n",
       "      <th>8</th>\n",
       "      <td>Fiorentina</td>\n",
       "      <td>July 1998 to June 2000</td>\n",
       "      <td>99</td>\n",
       "      <td>44</td>\n",
       "      <td>31</td>\n",
       "      <td>24</td>\n",
       "      <td>44.44%</td>\n",
       "    </tr>\n",
       "    <tr>\n",
       "      <th>9</th>\n",
       "      <td>Italy</td>\n",
       "      <td>July 2000 to July 2004</td>\n",
       "      <td>44</td>\n",
       "      <td>25</td>\n",
       "      <td>12</td>\n",
       "      <td>7</td>\n",
       "      <td>56.82%</td>\n",
       "    </tr>\n",
       "    <tr>\n",
       "      <th>10</th>\n",
       "      <td>Benfica</td>\n",
       "      <td>July 2004 to May 2005</td>\n",
       "      <td>51</td>\n",
       "      <td>29</td>\n",
       "      <td>10</td>\n",
       "      <td>12</td>\n",
       "      <td>56.86%</td>\n",
       "    </tr>\n",
       "    <tr>\n",
       "      <th>11</th>\n",
       "      <td>VfB Stuttgart</td>\n",
       "      <td>June 2005 to February 2006</td>\n",
       "      <td>31</td>\n",
       "      <td>11</td>\n",
       "      <td>13</td>\n",
       "      <td>7</td>\n",
       "      <td>35.48%</td>\n",
       "    </tr>\n",
       "    <tr>\n",
       "      <th>12</th>\n",
       "      <td>Red Bull Salzburg</td>\n",
       "      <td>May 2006 to April 2008</td>\n",
       "      <td>87</td>\n",
       "      <td>48</td>\n",
       "      <td>19</td>\n",
       "      <td>20</td>\n",
       "      <td>55.17%</td>\n",
       "    </tr>\n",
       "    <tr>\n",
       "      <th>13</th>\n",
       "      <td>Republic of Ireland</td>\n",
       "      <td>May 2008 to September 2013</td>\n",
       "      <td>64</td>\n",
       "      <td>26</td>\n",
       "      <td>22</td>\n",
       "      <td>16</td>\n",
       "      <td>40.63%</td>\n",
       "    </tr>\n",
       "  </tbody>\n",
       "</table>\n",
       "</div>"
      ],
      "text/plain": [
       "                   Team             Managing Period Match Wins Draw Loss  \\\n",
       "1              AC Milan     April 1974 to June 1974    11    4    5    2   \n",
       "2              Juventus      July 1976 to June 1986   450  244  136   70   \n",
       "3           Inter Milan      July 1986 to June 1991   233  126   61   46   \n",
       "4              Juventus      July 1991 to June 1994   140   74   42   24   \n",
       "5         Bayern Munich      July 1994 to June 1995    46   17   18   11   \n",
       "6              Cagliari      July 1995 to June 1996    37   13    8   16   \n",
       "7         Bayern Munich      July 1996 to June 1998    90   55   22   13   \n",
       "8            Fiorentina      July 1998 to June 2000    99   44   31   24   \n",
       "9                 Italy      July 2000 to July 2004    44   25   12    7   \n",
       "10              Benfica       July 2004 to May 2005    51   29   10   12   \n",
       "11        VfB Stuttgart  June 2005 to February 2006    31   11   13    7   \n",
       "12    Red Bull Salzburg      May 2006 to April 2008    87   48   19   20   \n",
       "13  Republic of Ireland  May 2008 to September 2013    64   26   22   16   \n",
       "\n",
       "   Win Percentage  \n",
       "1          36.36%  \n",
       "2          54.22%  \n",
       "3          54.08%  \n",
       "4          52.86%  \n",
       "5          36.96%  \n",
       "6          35.14%  \n",
       "7          61.11%  \n",
       "8          44.44%  \n",
       "9          56.82%  \n",
       "10         56.86%  \n",
       "11         35.48%  \n",
       "12         55.17%  \n",
       "13         40.63%  "
      ]
     },
     "execution_count": 20,
     "metadata": {},
     "output_type": "execute_result"
    }
   ],
   "source": [
    "giovanni_trapattoni = df[df.Team != 'Team']\n",
    "giovanni_trapattoni"
   ]
  },
  {
   "cell_type": "code",
   "execution_count": 21,
   "metadata": {},
   "outputs": [],
   "source": [
    "pep_guardiola = soup.find_all(\"table\")[5]\n",
    "A=[]\n",
    "B=[]\n",
    "C=[]\n",
    "D=[]\n",
    "E=[]\n",
    "F=[]\n",
    "G=[]\n",
    "for row in pep_guardiola.findAll('tr'):\n",
    "    cells=row.findAll('td')\n",
    "    if len(cells)==7:\n",
    "        A.append(cells[0].find(text=True))\n",
    "        B.append(cells[1].find(text=True))\n",
    "        C.append(cells[2].find(text=True))\n",
    "        D.append(cells[3].find(text=True))\n",
    "        E.append(cells[4].find(text=True))\n",
    "        F.append(cells[5].find(text=True))\n",
    "        G.append(cells[6].find(text=True))"
   ]
  },
  {
   "cell_type": "code",
   "execution_count": 22,
   "metadata": {},
   "outputs": [
    {
     "data": {
      "text/html": [
       "<div>\n",
       "<style scoped>\n",
       "    .dataframe tbody tr th:only-of-type {\n",
       "        vertical-align: middle;\n",
       "    }\n",
       "\n",
       "    .dataframe tbody tr th {\n",
       "        vertical-align: top;\n",
       "    }\n",
       "\n",
       "    .dataframe thead th {\n",
       "        text-align: right;\n",
       "    }\n",
       "</style>\n",
       "<table border=\"1\" class=\"dataframe\">\n",
       "  <thead>\n",
       "    <tr style=\"text-align: right;\">\n",
       "      <th></th>\n",
       "      <th>Team</th>\n",
       "      <th>Managing Period</th>\n",
       "      <th>Match</th>\n",
       "      <th>Wins</th>\n",
       "      <th>Draw</th>\n",
       "      <th>Loss</th>\n",
       "      <th>Win Percentage</th>\n",
       "    </tr>\n",
       "  </thead>\n",
       "  <tbody>\n",
       "    <tr>\n",
       "      <th>0</th>\n",
       "      <td>Team</td>\n",
       "      <td>Managing Period</td>\n",
       "      <td>Match</td>\n",
       "      <td>Wins</td>\n",
       "      <td>Draw</td>\n",
       "      <td>Loss</td>\n",
       "      <td>Win Percentage</td>\n",
       "    </tr>\n",
       "    <tr>\n",
       "      <th>1</th>\n",
       "      <td>Barcelona B</td>\n",
       "      <td>June 2007 to June 2008</td>\n",
       "      <td>38</td>\n",
       "      <td>25</td>\n",
       "      <td>8</td>\n",
       "      <td>5</td>\n",
       "      <td>65.8%</td>\n",
       "    </tr>\n",
       "    <tr>\n",
       "      <th>2</th>\n",
       "      <td>Barcelona</td>\n",
       "      <td>July 2008 to June 2012</td>\n",
       "      <td>247</td>\n",
       "      <td>179</td>\n",
       "      <td>47</td>\n",
       "      <td>21</td>\n",
       "      <td>72.5%</td>\n",
       "    </tr>\n",
       "    <tr>\n",
       "      <th>3</th>\n",
       "      <td>Bayern Munich</td>\n",
       "      <td>June 2013 to June 2016</td>\n",
       "      <td>161</td>\n",
       "      <td>121</td>\n",
       "      <td>21</td>\n",
       "      <td>19</td>\n",
       "      <td>75.2%</td>\n",
       "    </tr>\n",
       "    <tr>\n",
       "      <th>4</th>\n",
       "      <td>Manchester City</td>\n",
       "      <td>July 2016 to present</td>\n",
       "      <td>109</td>\n",
       "      <td>74</td>\n",
       "      <td>18</td>\n",
       "      <td>17</td>\n",
       "      <td>67.9%</td>\n",
       "    </tr>\n",
       "  </tbody>\n",
       "</table>\n",
       "</div>"
      ],
      "text/plain": [
       "              Team         Managing Period  Match  Wins  Draw  Loss  \\\n",
       "0             Team         Managing Period  Match  Wins  Draw  Loss   \n",
       "1      Barcelona B  June 2007 to June 2008     38    25     8     5   \n",
       "2        Barcelona  July 2008 to June 2012    247   179    47    21   \n",
       "3    Bayern Munich  June 2013 to June 2016    161   121    21    19   \n",
       "4  Manchester City    July 2016 to present    109    74    18    17   \n",
       "\n",
       "   Win Percentage  \n",
       "0  Win Percentage  \n",
       "1           65.8%  \n",
       "2           72.5%  \n",
       "3           75.2%  \n",
       "4           67.9%  "
      ]
     },
     "execution_count": 22,
     "metadata": {},
     "output_type": "execute_result"
    }
   ],
   "source": [
    "import pandas as pd\n",
    "df=pd.DataFrame(A,columns=['Team'])\n",
    "df['Managing Period']=B\n",
    "df['Match']=C\n",
    "df['Wins']=D\n",
    "df['Draw']=E\n",
    "df['Loss']=F\n",
    "df['Win Percentage']=G\n",
    "df"
   ]
  },
  {
   "cell_type": "code",
   "execution_count": 23,
   "metadata": {},
   "outputs": [
    {
     "data": {
      "text/html": [
       "<div>\n",
       "<style scoped>\n",
       "    .dataframe tbody tr th:only-of-type {\n",
       "        vertical-align: middle;\n",
       "    }\n",
       "\n",
       "    .dataframe tbody tr th {\n",
       "        vertical-align: top;\n",
       "    }\n",
       "\n",
       "    .dataframe thead th {\n",
       "        text-align: right;\n",
       "    }\n",
       "</style>\n",
       "<table border=\"1\" class=\"dataframe\">\n",
       "  <thead>\n",
       "    <tr style=\"text-align: right;\">\n",
       "      <th></th>\n",
       "      <th>Team</th>\n",
       "      <th>Managing Period</th>\n",
       "      <th>Match</th>\n",
       "      <th>Wins</th>\n",
       "      <th>Draw</th>\n",
       "      <th>Loss</th>\n",
       "      <th>Win Percentage</th>\n",
       "    </tr>\n",
       "  </thead>\n",
       "  <tbody>\n",
       "    <tr>\n",
       "      <th>1</th>\n",
       "      <td>Barcelona B</td>\n",
       "      <td>June 2007 to June 2008</td>\n",
       "      <td>38</td>\n",
       "      <td>25</td>\n",
       "      <td>8</td>\n",
       "      <td>5</td>\n",
       "      <td>65.8%</td>\n",
       "    </tr>\n",
       "    <tr>\n",
       "      <th>2</th>\n",
       "      <td>Barcelona</td>\n",
       "      <td>July 2008 to June 2012</td>\n",
       "      <td>247</td>\n",
       "      <td>179</td>\n",
       "      <td>47</td>\n",
       "      <td>21</td>\n",
       "      <td>72.5%</td>\n",
       "    </tr>\n",
       "    <tr>\n",
       "      <th>3</th>\n",
       "      <td>Bayern Munich</td>\n",
       "      <td>June 2013 to June 2016</td>\n",
       "      <td>161</td>\n",
       "      <td>121</td>\n",
       "      <td>21</td>\n",
       "      <td>19</td>\n",
       "      <td>75.2%</td>\n",
       "    </tr>\n",
       "    <tr>\n",
       "      <th>4</th>\n",
       "      <td>Manchester City</td>\n",
       "      <td>July 2016 to present</td>\n",
       "      <td>109</td>\n",
       "      <td>74</td>\n",
       "      <td>18</td>\n",
       "      <td>17</td>\n",
       "      <td>67.9%</td>\n",
       "    </tr>\n",
       "  </tbody>\n",
       "</table>\n",
       "</div>"
      ],
      "text/plain": [
       "              Team         Managing Period Match Wins Draw Loss Win Percentage\n",
       "1      Barcelona B  June 2007 to June 2008    38   25    8    5          65.8%\n",
       "2        Barcelona  July 2008 to June 2012   247  179   47   21          72.5%\n",
       "3    Bayern Munich  June 2013 to June 2016   161  121   21   19          75.2%\n",
       "4  Manchester City    July 2016 to present   109   74   18   17          67.9%"
      ]
     },
     "execution_count": 23,
     "metadata": {},
     "output_type": "execute_result"
    }
   ],
   "source": [
    "pep_guardiola = df[df.Team != 'Team']\n",
    "pep_guardiola"
   ]
  },
  {
   "cell_type": "code",
   "execution_count": 24,
   "metadata": {},
   "outputs": [],
   "source": [
    "arsene_wenger = soup.find_all(\"table\")[6]\n",
    "A=[]\n",
    "B=[]\n",
    "C=[]\n",
    "D=[]\n",
    "E=[]\n",
    "F=[]\n",
    "G=[]\n",
    "for row in arsene_wenger.findAll('tr'):\n",
    "    cells=row.findAll('td')\n",
    "    if len(cells)==7:\n",
    "        A.append(cells[0].find(text=True))\n",
    "        B.append(cells[1].find(text=True))\n",
    "        C.append(cells[2].find(text=True))\n",
    "        D.append(cells[3].find(text=True))\n",
    "        E.append(cells[4].find(text=True))\n",
    "        F.append(cells[5].find(text=True))\n",
    "        G.append(cells[6].find(text=True))"
   ]
  },
  {
   "cell_type": "code",
   "execution_count": 25,
   "metadata": {},
   "outputs": [
    {
     "data": {
      "text/html": [
       "<div>\n",
       "<style scoped>\n",
       "    .dataframe tbody tr th:only-of-type {\n",
       "        vertical-align: middle;\n",
       "    }\n",
       "\n",
       "    .dataframe tbody tr th {\n",
       "        vertical-align: top;\n",
       "    }\n",
       "\n",
       "    .dataframe thead th {\n",
       "        text-align: right;\n",
       "    }\n",
       "</style>\n",
       "<table border=\"1\" class=\"dataframe\">\n",
       "  <thead>\n",
       "    <tr style=\"text-align: right;\">\n",
       "      <th></th>\n",
       "      <th>Team</th>\n",
       "      <th>Managing Period</th>\n",
       "      <th>Match</th>\n",
       "      <th>Wins</th>\n",
       "      <th>Draw</th>\n",
       "      <th>Loss</th>\n",
       "      <th>Win Percentage</th>\n",
       "    </tr>\n",
       "  </thead>\n",
       "  <tbody>\n",
       "    <tr>\n",
       "      <th>0</th>\n",
       "      <td>Team</td>\n",
       "      <td>Managing Period</td>\n",
       "      <td>Match</td>\n",
       "      <td>Wins</td>\n",
       "      <td>Draw</td>\n",
       "      <td>Loss</td>\n",
       "      <td>Win Percentage</td>\n",
       "    </tr>\n",
       "    <tr>\n",
       "      <th>1</th>\n",
       "      <td>AS Nancy</td>\n",
       "      <td>July 1984 to July 1987</td>\n",
       "      <td>114</td>\n",
       "      <td>33</td>\n",
       "      <td>30</td>\n",
       "      <td>51</td>\n",
       "      <td>28.9%</td>\n",
       "    </tr>\n",
       "    <tr>\n",
       "      <th>2</th>\n",
       "      <td>AS Monaco</td>\n",
       "      <td>July 1987 to September 1994</td>\n",
       "      <td>266</td>\n",
       "      <td>130</td>\n",
       "      <td>53</td>\n",
       "      <td>83</td>\n",
       "      <td>48.9%</td>\n",
       "    </tr>\n",
       "    <tr>\n",
       "      <th>3</th>\n",
       "      <td>Nagoya Grampus Eight</td>\n",
       "      <td>February 1995 to September 1996</td>\n",
       "      <td>87</td>\n",
       "      <td>49</td>\n",
       "      <td>4</td>\n",
       "      <td>34</td>\n",
       "      <td>56.3%</td>\n",
       "    </tr>\n",
       "    <tr>\n",
       "      <th>4</th>\n",
       "      <td>Arsenal</td>\n",
       "      <td>October 1996 to present</td>\n",
       "      <td>1,230</td>\n",
       "      <td>705</td>\n",
       "      <td>280</td>\n",
       "      <td>245</td>\n",
       "      <td>57.3%</td>\n",
       "    </tr>\n",
       "  </tbody>\n",
       "</table>\n",
       "</div>"
      ],
      "text/plain": [
       "                   Team                  Managing Period  Match  Wins  Draw  \\\n",
       "0                  Team                  Managing Period  Match  Wins  Draw   \n",
       "1              AS Nancy           July 1984 to July 1987    114    33    30   \n",
       "2             AS Monaco      July 1987 to September 1994    266   130    53   \n",
       "3  Nagoya Grampus Eight  February 1995 to September 1996     87    49     4   \n",
       "4               Arsenal          October 1996 to present  1,230   705   280   \n",
       "\n",
       "   Loss  Win Percentage  \n",
       "0  Loss  Win Percentage  \n",
       "1    51           28.9%  \n",
       "2    83           48.9%  \n",
       "3    34           56.3%  \n",
       "4   245           57.3%  "
      ]
     },
     "execution_count": 25,
     "metadata": {},
     "output_type": "execute_result"
    }
   ],
   "source": [
    "import pandas as pd\n",
    "df=pd.DataFrame(A,columns=['Team'])\n",
    "df['Managing Period']=B\n",
    "df['Match']=C\n",
    "df['Wins']=D\n",
    "df['Draw']=E\n",
    "df['Loss']=F\n",
    "df['Win Percentage']=G\n",
    "df"
   ]
  },
  {
   "cell_type": "code",
   "execution_count": 26,
   "metadata": {},
   "outputs": [
    {
     "data": {
      "text/html": [
       "<div>\n",
       "<style scoped>\n",
       "    .dataframe tbody tr th:only-of-type {\n",
       "        vertical-align: middle;\n",
       "    }\n",
       "\n",
       "    .dataframe tbody tr th {\n",
       "        vertical-align: top;\n",
       "    }\n",
       "\n",
       "    .dataframe thead th {\n",
       "        text-align: right;\n",
       "    }\n",
       "</style>\n",
       "<table border=\"1\" class=\"dataframe\">\n",
       "  <thead>\n",
       "    <tr style=\"text-align: right;\">\n",
       "      <th></th>\n",
       "      <th>Team</th>\n",
       "      <th>Managing Period</th>\n",
       "      <th>Match</th>\n",
       "      <th>Wins</th>\n",
       "      <th>Draw</th>\n",
       "      <th>Loss</th>\n",
       "      <th>Win Percentage</th>\n",
       "    </tr>\n",
       "  </thead>\n",
       "  <tbody>\n",
       "    <tr>\n",
       "      <th>1</th>\n",
       "      <td>AS Nancy</td>\n",
       "      <td>July 1984 to July 1987</td>\n",
       "      <td>114</td>\n",
       "      <td>33</td>\n",
       "      <td>30</td>\n",
       "      <td>51</td>\n",
       "      <td>28.9%</td>\n",
       "    </tr>\n",
       "    <tr>\n",
       "      <th>2</th>\n",
       "      <td>AS Monaco</td>\n",
       "      <td>July 1987 to September 1994</td>\n",
       "      <td>266</td>\n",
       "      <td>130</td>\n",
       "      <td>53</td>\n",
       "      <td>83</td>\n",
       "      <td>48.9%</td>\n",
       "    </tr>\n",
       "    <tr>\n",
       "      <th>3</th>\n",
       "      <td>Nagoya Grampus Eight</td>\n",
       "      <td>February 1995 to September 1996</td>\n",
       "      <td>87</td>\n",
       "      <td>49</td>\n",
       "      <td>4</td>\n",
       "      <td>34</td>\n",
       "      <td>56.3%</td>\n",
       "    </tr>\n",
       "    <tr>\n",
       "      <th>4</th>\n",
       "      <td>Arsenal</td>\n",
       "      <td>October 1996 to present</td>\n",
       "      <td>1,230</td>\n",
       "      <td>705</td>\n",
       "      <td>280</td>\n",
       "      <td>245</td>\n",
       "      <td>57.3%</td>\n",
       "    </tr>\n",
       "  </tbody>\n",
       "</table>\n",
       "</div>"
      ],
      "text/plain": [
       "                   Team                  Managing Period  Match Wins Draw  \\\n",
       "1              AS Nancy           July 1984 to July 1987    114   33   30   \n",
       "2             AS Monaco      July 1987 to September 1994    266  130   53   \n",
       "3  Nagoya Grampus Eight  February 1995 to September 1996     87   49    4   \n",
       "4               Arsenal          October 1996 to present  1,230  705  280   \n",
       "\n",
       "  Loss Win Percentage  \n",
       "1   51          28.9%  \n",
       "2   83          48.9%  \n",
       "3   34          56.3%  \n",
       "4  245          57.3%  "
      ]
     },
     "execution_count": 26,
     "metadata": {},
     "output_type": "execute_result"
    }
   ],
   "source": [
    "arsene_wenger = df[df.Team != 'Team']\n",
    "arsene_wenger"
   ]
  },
  {
   "cell_type": "code",
   "execution_count": 27,
   "metadata": {},
   "outputs": [],
   "source": [
    "jose_mourinho = soup.find_all(\"table\")[7]\n",
    "A=[]\n",
    "B=[]\n",
    "C=[]\n",
    "D=[]\n",
    "E=[]\n",
    "F=[]\n",
    "G=[]\n",
    "for row in jose_mourinho.findAll('tr'):\n",
    "    cells=row.findAll('td')\n",
    "    if len(cells)==7:\n",
    "        A.append(cells[0].find(text=True))\n",
    "        B.append(cells[1].find(text=True))\n",
    "        C.append(cells[2].find(text=True))\n",
    "        D.append(cells[3].find(text=True))\n",
    "        E.append(cells[4].find(text=True))\n",
    "        F.append(cells[5].find(text=True))\n",
    "        G.append(cells[6].find(text=True))"
   ]
  },
  {
   "cell_type": "code",
   "execution_count": 28,
   "metadata": {},
   "outputs": [
    {
     "data": {
      "text/html": [
       "<div>\n",
       "<style scoped>\n",
       "    .dataframe tbody tr th:only-of-type {\n",
       "        vertical-align: middle;\n",
       "    }\n",
       "\n",
       "    .dataframe tbody tr th {\n",
       "        vertical-align: top;\n",
       "    }\n",
       "\n",
       "    .dataframe thead th {\n",
       "        text-align: right;\n",
       "    }\n",
       "</style>\n",
       "<table border=\"1\" class=\"dataframe\">\n",
       "  <thead>\n",
       "    <tr style=\"text-align: right;\">\n",
       "      <th></th>\n",
       "      <th>Team</th>\n",
       "      <th>Managing Period</th>\n",
       "      <th>Match</th>\n",
       "      <th>Wins</th>\n",
       "      <th>Draw</th>\n",
       "      <th>Loss</th>\n",
       "      <th>Win Percentage</th>\n",
       "    </tr>\n",
       "  </thead>\n",
       "  <tbody>\n",
       "    <tr>\n",
       "      <th>0</th>\n",
       "      <td>Team</td>\n",
       "      <td>Managing Period</td>\n",
       "      <td>Match</td>\n",
       "      <td>Wins</td>\n",
       "      <td>Draw</td>\n",
       "      <td>Loss</td>\n",
       "      <td>Win Percentage</td>\n",
       "    </tr>\n",
       "    <tr>\n",
       "      <th>1</th>\n",
       "      <td>Benfica</td>\n",
       "      <td>September 2000 to December 2000</td>\n",
       "      <td>11</td>\n",
       "      <td>6</td>\n",
       "      <td>3</td>\n",
       "      <td>2</td>\n",
       "      <td>54.5%</td>\n",
       "    </tr>\n",
       "    <tr>\n",
       "      <th>2</th>\n",
       "      <td>União de Leiria</td>\n",
       "      <td>July 2001 to January 2002</td>\n",
       "      <td>20</td>\n",
       "      <td>9</td>\n",
       "      <td>7</td>\n",
       "      <td>4</td>\n",
       "      <td>45.0%</td>\n",
       "    </tr>\n",
       "    <tr>\n",
       "      <th>3</th>\n",
       "      <td>Porto</td>\n",
       "      <td>January 2002 to June 2004</td>\n",
       "      <td>127</td>\n",
       "      <td>91</td>\n",
       "      <td>21</td>\n",
       "      <td>15</td>\n",
       "      <td>71.7%</td>\n",
       "    </tr>\n",
       "    <tr>\n",
       "      <th>4</th>\n",
       "      <td>Chelsea</td>\n",
       "      <td>June 2004 to September 2007</td>\n",
       "      <td>185</td>\n",
       "      <td>124</td>\n",
       "      <td>40</td>\n",
       "      <td>21</td>\n",
       "      <td>67.0%</td>\n",
       "    </tr>\n",
       "    <tr>\n",
       "      <th>5</th>\n",
       "      <td>Inter Milan</td>\n",
       "      <td>June 2008 to May 2010</td>\n",
       "      <td>108</td>\n",
       "      <td>67</td>\n",
       "      <td>26</td>\n",
       "      <td>15</td>\n",
       "      <td>62.0%</td>\n",
       "    </tr>\n",
       "    <tr>\n",
       "      <th>6</th>\n",
       "      <td>Real Madrid</td>\n",
       "      <td>May 2010 to June 2013</td>\n",
       "      <td>178</td>\n",
       "      <td>128</td>\n",
       "      <td>28</td>\n",
       "      <td>22</td>\n",
       "      <td>71.9%</td>\n",
       "    </tr>\n",
       "    <tr>\n",
       "      <th>7</th>\n",
       "      <td>Chelsea</td>\n",
       "      <td>June 2013 to December 2015</td>\n",
       "      <td>136</td>\n",
       "      <td>80</td>\n",
       "      <td>29</td>\n",
       "      <td>27</td>\n",
       "      <td>58.8%</td>\n",
       "    </tr>\n",
       "    <tr>\n",
       "      <th>8</th>\n",
       "      <td>Manchester United</td>\n",
       "      <td>May 2016 to present</td>\n",
       "      <td>115</td>\n",
       "      <td>72</td>\n",
       "      <td>24</td>\n",
       "      <td>19</td>\n",
       "      <td>62.6%</td>\n",
       "    </tr>\n",
       "  </tbody>\n",
       "</table>\n",
       "</div>"
      ],
      "text/plain": [
       "                Team                  Managing Period  Match  Wins  Draw  \\\n",
       "0               Team                  Managing Period  Match  Wins  Draw   \n",
       "1            Benfica  September 2000 to December 2000     11     6     3   \n",
       "2    União de Leiria        July 2001 to January 2002     20     9     7   \n",
       "3              Porto        January 2002 to June 2004    127    91    21   \n",
       "4            Chelsea      June 2004 to September 2007    185   124    40   \n",
       "5        Inter Milan            June 2008 to May 2010    108    67    26   \n",
       "6        Real Madrid            May 2010 to June 2013    178   128    28   \n",
       "7            Chelsea       June 2013 to December 2015    136    80    29   \n",
       "8  Manchester United              May 2016 to present    115    72    24   \n",
       "\n",
       "   Loss  Win Percentage  \n",
       "0  Loss  Win Percentage  \n",
       "1     2           54.5%  \n",
       "2     4           45.0%  \n",
       "3    15           71.7%  \n",
       "4    21           67.0%  \n",
       "5    15           62.0%  \n",
       "6    22           71.9%  \n",
       "7    27           58.8%  \n",
       "8    19           62.6%  "
      ]
     },
     "execution_count": 28,
     "metadata": {},
     "output_type": "execute_result"
    }
   ],
   "source": [
    "import pandas as pd\n",
    "df=pd.DataFrame(A,columns=['Team'])\n",
    "df['Managing Period']=B\n",
    "df['Match']=C\n",
    "df['Wins']=D\n",
    "df['Draw']=E\n",
    "df['Loss']=F\n",
    "df['Win Percentage']=G\n",
    "df"
   ]
  },
  {
   "cell_type": "code",
   "execution_count": 29,
   "metadata": {},
   "outputs": [
    {
     "data": {
      "text/html": [
       "<div>\n",
       "<style scoped>\n",
       "    .dataframe tbody tr th:only-of-type {\n",
       "        vertical-align: middle;\n",
       "    }\n",
       "\n",
       "    .dataframe tbody tr th {\n",
       "        vertical-align: top;\n",
       "    }\n",
       "\n",
       "    .dataframe thead th {\n",
       "        text-align: right;\n",
       "    }\n",
       "</style>\n",
       "<table border=\"1\" class=\"dataframe\">\n",
       "  <thead>\n",
       "    <tr style=\"text-align: right;\">\n",
       "      <th></th>\n",
       "      <th>Team</th>\n",
       "      <th>Managing Period</th>\n",
       "      <th>Match</th>\n",
       "      <th>Wins</th>\n",
       "      <th>Draw</th>\n",
       "      <th>Loss</th>\n",
       "      <th>Win Percentage</th>\n",
       "    </tr>\n",
       "  </thead>\n",
       "  <tbody>\n",
       "    <tr>\n",
       "      <th>1</th>\n",
       "      <td>Benfica</td>\n",
       "      <td>September 2000 to December 2000</td>\n",
       "      <td>11</td>\n",
       "      <td>6</td>\n",
       "      <td>3</td>\n",
       "      <td>2</td>\n",
       "      <td>54.5%</td>\n",
       "    </tr>\n",
       "    <tr>\n",
       "      <th>2</th>\n",
       "      <td>União de Leiria</td>\n",
       "      <td>July 2001 to January 2002</td>\n",
       "      <td>20</td>\n",
       "      <td>9</td>\n",
       "      <td>7</td>\n",
       "      <td>4</td>\n",
       "      <td>45.0%</td>\n",
       "    </tr>\n",
       "    <tr>\n",
       "      <th>3</th>\n",
       "      <td>Porto</td>\n",
       "      <td>January 2002 to June 2004</td>\n",
       "      <td>127</td>\n",
       "      <td>91</td>\n",
       "      <td>21</td>\n",
       "      <td>15</td>\n",
       "      <td>71.7%</td>\n",
       "    </tr>\n",
       "    <tr>\n",
       "      <th>4</th>\n",
       "      <td>Chelsea</td>\n",
       "      <td>June 2004 to September 2007</td>\n",
       "      <td>185</td>\n",
       "      <td>124</td>\n",
       "      <td>40</td>\n",
       "      <td>21</td>\n",
       "      <td>67.0%</td>\n",
       "    </tr>\n",
       "    <tr>\n",
       "      <th>5</th>\n",
       "      <td>Inter Milan</td>\n",
       "      <td>June 2008 to May 2010</td>\n",
       "      <td>108</td>\n",
       "      <td>67</td>\n",
       "      <td>26</td>\n",
       "      <td>15</td>\n",
       "      <td>62.0%</td>\n",
       "    </tr>\n",
       "    <tr>\n",
       "      <th>6</th>\n",
       "      <td>Real Madrid</td>\n",
       "      <td>May 2010 to June 2013</td>\n",
       "      <td>178</td>\n",
       "      <td>128</td>\n",
       "      <td>28</td>\n",
       "      <td>22</td>\n",
       "      <td>71.9%</td>\n",
       "    </tr>\n",
       "    <tr>\n",
       "      <th>7</th>\n",
       "      <td>Chelsea</td>\n",
       "      <td>June 2013 to December 2015</td>\n",
       "      <td>136</td>\n",
       "      <td>80</td>\n",
       "      <td>29</td>\n",
       "      <td>27</td>\n",
       "      <td>58.8%</td>\n",
       "    </tr>\n",
       "    <tr>\n",
       "      <th>8</th>\n",
       "      <td>Manchester United</td>\n",
       "      <td>May 2016 to present</td>\n",
       "      <td>115</td>\n",
       "      <td>72</td>\n",
       "      <td>24</td>\n",
       "      <td>19</td>\n",
       "      <td>62.6%</td>\n",
       "    </tr>\n",
       "  </tbody>\n",
       "</table>\n",
       "</div>"
      ],
      "text/plain": [
       "                Team                  Managing Period Match Wins Draw Loss  \\\n",
       "1            Benfica  September 2000 to December 2000    11    6    3    2   \n",
       "2    União de Leiria        July 2001 to January 2002    20    9    7    4   \n",
       "3              Porto        January 2002 to June 2004   127   91   21   15   \n",
       "4            Chelsea      June 2004 to September 2007   185  124   40   21   \n",
       "5        Inter Milan            June 2008 to May 2010   108   67   26   15   \n",
       "6        Real Madrid            May 2010 to June 2013   178  128   28   22   \n",
       "7            Chelsea       June 2013 to December 2015   136   80   29   27   \n",
       "8  Manchester United              May 2016 to present   115   72   24   19   \n",
       "\n",
       "  Win Percentage  \n",
       "1          54.5%  \n",
       "2          45.0%  \n",
       "3          71.7%  \n",
       "4          67.0%  \n",
       "5          62.0%  \n",
       "6          71.9%  \n",
       "7          58.8%  \n",
       "8          62.6%  "
      ]
     },
     "execution_count": 29,
     "metadata": {},
     "output_type": "execute_result"
    }
   ],
   "source": [
    "jose_mourinho = df[df.Team != 'Team']\n",
    "jose_mourinho"
   ]
  },
  {
   "cell_type": "code",
   "execution_count": 30,
   "metadata": {},
   "outputs": [],
   "source": [
    "carlo_ancelotti = soup.find_all(\"table\")[8]\n",
    "A=[]\n",
    "B=[]\n",
    "C=[]\n",
    "D=[]\n",
    "E=[]\n",
    "F=[]\n",
    "G=[]\n",
    "for row in carlo_ancelotti.findAll('tr'):\n",
    "    cells=row.findAll('td')\n",
    "    if len(cells)==7:\n",
    "        A.append(cells[0].find(text=True))\n",
    "        B.append(cells[1].find(text=True))\n",
    "        C.append(cells[2].find(text=True))\n",
    "        D.append(cells[3].find(text=True))\n",
    "        E.append(cells[4].find(text=True))\n",
    "        F.append(cells[5].find(text=True))\n",
    "        G.append(cells[6].find(text=True))"
   ]
  },
  {
   "cell_type": "code",
   "execution_count": 31,
   "metadata": {},
   "outputs": [
    {
     "data": {
      "text/html": [
       "<div>\n",
       "<style scoped>\n",
       "    .dataframe tbody tr th:only-of-type {\n",
       "        vertical-align: middle;\n",
       "    }\n",
       "\n",
       "    .dataframe tbody tr th {\n",
       "        vertical-align: top;\n",
       "    }\n",
       "\n",
       "    .dataframe thead th {\n",
       "        text-align: right;\n",
       "    }\n",
       "</style>\n",
       "<table border=\"1\" class=\"dataframe\">\n",
       "  <thead>\n",
       "    <tr style=\"text-align: right;\">\n",
       "      <th></th>\n",
       "      <th>Team</th>\n",
       "      <th>Managing Period</th>\n",
       "      <th>Match</th>\n",
       "      <th>Wins</th>\n",
       "      <th>Draw</th>\n",
       "      <th>Loss</th>\n",
       "      <th>Win Percentage</th>\n",
       "    </tr>\n",
       "  </thead>\n",
       "  <tbody>\n",
       "    <tr>\n",
       "      <th>0</th>\n",
       "      <td>Team</td>\n",
       "      <td>Managing Period</td>\n",
       "      <td>Match</td>\n",
       "      <td>Wins</td>\n",
       "      <td>Draw</td>\n",
       "      <td>Loss</td>\n",
       "      <td>Win Percentage</td>\n",
       "    </tr>\n",
       "    <tr>\n",
       "      <th>1</th>\n",
       "      <td>Reggiana</td>\n",
       "      <td>July 1995 to June 1996</td>\n",
       "      <td>41</td>\n",
       "      <td>17</td>\n",
       "      <td>14</td>\n",
       "      <td>10</td>\n",
       "      <td>41.46%</td>\n",
       "    </tr>\n",
       "    <tr>\n",
       "      <th>2</th>\n",
       "      <td>Parma</td>\n",
       "      <td>July 1996 to June 1998</td>\n",
       "      <td>87</td>\n",
       "      <td>42</td>\n",
       "      <td>27</td>\n",
       "      <td>18</td>\n",
       "      <td>48.28%</td>\n",
       "    </tr>\n",
       "    <tr>\n",
       "      <th>3</th>\n",
       "      <td>Juventus</td>\n",
       "      <td>February 1999 to June 2001</td>\n",
       "      <td>114</td>\n",
       "      <td>63</td>\n",
       "      <td>33</td>\n",
       "      <td>18</td>\n",
       "      <td>55.26%</td>\n",
       "    </tr>\n",
       "    <tr>\n",
       "      <th>4</th>\n",
       "      <td>AC Milan</td>\n",
       "      <td>November 2001 to May 2009</td>\n",
       "      <td>423</td>\n",
       "      <td>238</td>\n",
       "      <td>101</td>\n",
       "      <td>84</td>\n",
       "      <td>56.26%</td>\n",
       "    </tr>\n",
       "    <tr>\n",
       "      <th>5</th>\n",
       "      <td>Chelsea</td>\n",
       "      <td>July 2009 to May 2011</td>\n",
       "      <td>109</td>\n",
       "      <td>67</td>\n",
       "      <td>20</td>\n",
       "      <td>22</td>\n",
       "      <td>61.47%</td>\n",
       "    </tr>\n",
       "    <tr>\n",
       "      <th>6</th>\n",
       "      <td>Paris St. Germain</td>\n",
       "      <td>December 2011 to June 2013</td>\n",
       "      <td>77</td>\n",
       "      <td>49</td>\n",
       "      <td>19</td>\n",
       "      <td>9</td>\n",
       "      <td>63.64%</td>\n",
       "    </tr>\n",
       "    <tr>\n",
       "      <th>7</th>\n",
       "      <td>Real Madrid</td>\n",
       "      <td>June 2013 to May 2015</td>\n",
       "      <td>119</td>\n",
       "      <td>89</td>\n",
       "      <td>14</td>\n",
       "      <td>16</td>\n",
       "      <td>74.79%</td>\n",
       "    </tr>\n",
       "    <tr>\n",
       "      <th>8</th>\n",
       "      <td>Bayern Munich</td>\n",
       "      <td>July 2016 to September 2017</td>\n",
       "      <td>60</td>\n",
       "      <td>42</td>\n",
       "      <td>9</td>\n",
       "      <td>9</td>\n",
       "      <td>70%</td>\n",
       "    </tr>\n",
       "  </tbody>\n",
       "</table>\n",
       "</div>"
      ],
      "text/plain": [
       "                Team              Managing Period  Match  Wins  Draw  Loss  \\\n",
       "0               Team              Managing Period  Match  Wins  Draw  Loss   \n",
       "1           Reggiana       July 1995 to June 1996     41    17    14    10   \n",
       "2              Parma       July 1996 to June 1998     87    42    27    18   \n",
       "3           Juventus   February 1999 to June 2001    114    63    33    18   \n",
       "4           AC Milan    November 2001 to May 2009    423   238   101    84   \n",
       "5            Chelsea        July 2009 to May 2011    109    67    20    22   \n",
       "6  Paris St. Germain   December 2011 to June 2013     77    49    19     9   \n",
       "7        Real Madrid        June 2013 to May 2015    119    89    14    16   \n",
       "8      Bayern Munich  July 2016 to September 2017     60    42     9     9   \n",
       "\n",
       "   Win Percentage  \n",
       "0  Win Percentage  \n",
       "1          41.46%  \n",
       "2          48.28%  \n",
       "3          55.26%  \n",
       "4          56.26%  \n",
       "5          61.47%  \n",
       "6          63.64%  \n",
       "7          74.79%  \n",
       "8             70%  "
      ]
     },
     "execution_count": 31,
     "metadata": {},
     "output_type": "execute_result"
    }
   ],
   "source": [
    "import pandas as pd\n",
    "df=pd.DataFrame(A,columns=['Team'])\n",
    "df['Managing Period']=B\n",
    "df['Match']=C\n",
    "df['Wins']=D\n",
    "df['Draw']=E\n",
    "df['Loss']=F\n",
    "df['Win Percentage']=G\n",
    "df"
   ]
  },
  {
   "cell_type": "code",
   "execution_count": 32,
   "metadata": {},
   "outputs": [
    {
     "data": {
      "text/html": [
       "<div>\n",
       "<style scoped>\n",
       "    .dataframe tbody tr th:only-of-type {\n",
       "        vertical-align: middle;\n",
       "    }\n",
       "\n",
       "    .dataframe tbody tr th {\n",
       "        vertical-align: top;\n",
       "    }\n",
       "\n",
       "    .dataframe thead th {\n",
       "        text-align: right;\n",
       "    }\n",
       "</style>\n",
       "<table border=\"1\" class=\"dataframe\">\n",
       "  <thead>\n",
       "    <tr style=\"text-align: right;\">\n",
       "      <th></th>\n",
       "      <th>Team</th>\n",
       "      <th>Managing Period</th>\n",
       "      <th>Match</th>\n",
       "      <th>Wins</th>\n",
       "      <th>Draw</th>\n",
       "      <th>Loss</th>\n",
       "      <th>Win Percentage</th>\n",
       "    </tr>\n",
       "  </thead>\n",
       "  <tbody>\n",
       "    <tr>\n",
       "      <th>1</th>\n",
       "      <td>Reggiana</td>\n",
       "      <td>July 1995 to June 1996</td>\n",
       "      <td>41</td>\n",
       "      <td>17</td>\n",
       "      <td>14</td>\n",
       "      <td>10</td>\n",
       "      <td>41.46%</td>\n",
       "    </tr>\n",
       "    <tr>\n",
       "      <th>2</th>\n",
       "      <td>Parma</td>\n",
       "      <td>July 1996 to June 1998</td>\n",
       "      <td>87</td>\n",
       "      <td>42</td>\n",
       "      <td>27</td>\n",
       "      <td>18</td>\n",
       "      <td>48.28%</td>\n",
       "    </tr>\n",
       "    <tr>\n",
       "      <th>3</th>\n",
       "      <td>Juventus</td>\n",
       "      <td>February 1999 to June 2001</td>\n",
       "      <td>114</td>\n",
       "      <td>63</td>\n",
       "      <td>33</td>\n",
       "      <td>18</td>\n",
       "      <td>55.26%</td>\n",
       "    </tr>\n",
       "    <tr>\n",
       "      <th>4</th>\n",
       "      <td>AC Milan</td>\n",
       "      <td>November 2001 to May 2009</td>\n",
       "      <td>423</td>\n",
       "      <td>238</td>\n",
       "      <td>101</td>\n",
       "      <td>84</td>\n",
       "      <td>56.26%</td>\n",
       "    </tr>\n",
       "    <tr>\n",
       "      <th>5</th>\n",
       "      <td>Chelsea</td>\n",
       "      <td>July 2009 to May 2011</td>\n",
       "      <td>109</td>\n",
       "      <td>67</td>\n",
       "      <td>20</td>\n",
       "      <td>22</td>\n",
       "      <td>61.47%</td>\n",
       "    </tr>\n",
       "    <tr>\n",
       "      <th>6</th>\n",
       "      <td>Paris St. Germain</td>\n",
       "      <td>December 2011 to June 2013</td>\n",
       "      <td>77</td>\n",
       "      <td>49</td>\n",
       "      <td>19</td>\n",
       "      <td>9</td>\n",
       "      <td>63.64%</td>\n",
       "    </tr>\n",
       "    <tr>\n",
       "      <th>7</th>\n",
       "      <td>Real Madrid</td>\n",
       "      <td>June 2013 to May 2015</td>\n",
       "      <td>119</td>\n",
       "      <td>89</td>\n",
       "      <td>14</td>\n",
       "      <td>16</td>\n",
       "      <td>74.79%</td>\n",
       "    </tr>\n",
       "    <tr>\n",
       "      <th>8</th>\n",
       "      <td>Bayern Munich</td>\n",
       "      <td>July 2016 to September 2017</td>\n",
       "      <td>60</td>\n",
       "      <td>42</td>\n",
       "      <td>9</td>\n",
       "      <td>9</td>\n",
       "      <td>70%</td>\n",
       "    </tr>\n",
       "  </tbody>\n",
       "</table>\n",
       "</div>"
      ],
      "text/plain": [
       "                Team              Managing Period Match Wins Draw Loss  \\\n",
       "1           Reggiana       July 1995 to June 1996    41   17   14   10   \n",
       "2              Parma       July 1996 to June 1998    87   42   27   18   \n",
       "3           Juventus   February 1999 to June 2001   114   63   33   18   \n",
       "4           AC Milan    November 2001 to May 2009   423  238  101   84   \n",
       "5            Chelsea        July 2009 to May 2011   109   67   20   22   \n",
       "6  Paris St. Germain   December 2011 to June 2013    77   49   19    9   \n",
       "7        Real Madrid        June 2013 to May 2015   119   89   14   16   \n",
       "8      Bayern Munich  July 2016 to September 2017    60   42    9    9   \n",
       "\n",
       "  Win Percentage  \n",
       "1         41.46%  \n",
       "2         48.28%  \n",
       "3         55.26%  \n",
       "4         56.26%  \n",
       "5         61.47%  \n",
       "6         63.64%  \n",
       "7         74.79%  \n",
       "8            70%  "
      ]
     },
     "execution_count": 32,
     "metadata": {},
     "output_type": "execute_result"
    }
   ],
   "source": [
    "carlo_ancelotti = df[df.Team != 'Team']\n",
    "carlo_ancelotti"
   ]
  },
  {
   "cell_type": "code",
   "execution_count": 33,
   "metadata": {},
   "outputs": [],
   "source": [
    "sir_alex_ferguson = soup.find_all(\"table\")[9]\n",
    "A=[]\n",
    "B=[]\n",
    "C=[]\n",
    "D=[]\n",
    "E=[]\n",
    "F=[]\n",
    "G=[]\n",
    "for row in sir_alex_ferguson.findAll('tr'):\n",
    "    cells=row.findAll('td')\n",
    "    if len(cells)==7:\n",
    "        A.append(cells[0].find(text=True))\n",
    "        B.append(cells[1].find(text=True))\n",
    "        C.append(cells[2].find(text=True))\n",
    "        D.append(cells[3].find(text=True))\n",
    "        E.append(cells[4].find(text=True))\n",
    "        F.append(cells[5].find(text=True))\n",
    "        G.append(cells[6].find(text=True))"
   ]
  },
  {
   "cell_type": "code",
   "execution_count": 34,
   "metadata": {},
   "outputs": [
    {
     "data": {
      "text/html": [
       "<div>\n",
       "<style scoped>\n",
       "    .dataframe tbody tr th:only-of-type {\n",
       "        vertical-align: middle;\n",
       "    }\n",
       "\n",
       "    .dataframe tbody tr th {\n",
       "        vertical-align: top;\n",
       "    }\n",
       "\n",
       "    .dataframe thead th {\n",
       "        text-align: right;\n",
       "    }\n",
       "</style>\n",
       "<table border=\"1\" class=\"dataframe\">\n",
       "  <thead>\n",
       "    <tr style=\"text-align: right;\">\n",
       "      <th></th>\n",
       "      <th>Team</th>\n",
       "      <th>Managing Period</th>\n",
       "      <th>Match</th>\n",
       "      <th>Wins</th>\n",
       "      <th>Draw</th>\n",
       "      <th>Loss</th>\n",
       "      <th>Win Percentage</th>\n",
       "    </tr>\n",
       "  </thead>\n",
       "  <tbody>\n",
       "    <tr>\n",
       "      <th>0</th>\n",
       "      <td>Team</td>\n",
       "      <td>Managing Period</td>\n",
       "      <td>Match</td>\n",
       "      <td>Wins</td>\n",
       "      <td>Draw</td>\n",
       "      <td>Loss</td>\n",
       "      <td>Win Percentage</td>\n",
       "    </tr>\n",
       "    <tr>\n",
       "      <th>1</th>\n",
       "      <td>East Stirlingshire</td>\n",
       "      <td>June 1974 to October 1974</td>\n",
       "      <td>17</td>\n",
       "      <td>9</td>\n",
       "      <td>2</td>\n",
       "      <td>6</td>\n",
       "      <td>52.9%</td>\n",
       "    </tr>\n",
       "    <tr>\n",
       "      <th>2</th>\n",
       "      <td>St Mirren</td>\n",
       "      <td>October 1974 to May 1978</td>\n",
       "      <td>169</td>\n",
       "      <td>74</td>\n",
       "      <td>41</td>\n",
       "      <td>54</td>\n",
       "      <td>43.8%</td>\n",
       "    </tr>\n",
       "    <tr>\n",
       "      <th>3</th>\n",
       "      <td>Aberdeen FC</td>\n",
       "      <td>June 1978 to November 1986</td>\n",
       "      <td>459</td>\n",
       "      <td>272</td>\n",
       "      <td>105</td>\n",
       "      <td>82</td>\n",
       "      <td>59.3%</td>\n",
       "    </tr>\n",
       "    <tr>\n",
       "      <th>4</th>\n",
       "      <td>Scotland</td>\n",
       "      <td>October 1985 to  June 1986</td>\n",
       "      <td>10</td>\n",
       "      <td>3</td>\n",
       "      <td>4</td>\n",
       "      <td>3</td>\n",
       "      <td>30%</td>\n",
       "    </tr>\n",
       "    <tr>\n",
       "      <th>5</th>\n",
       "      <td>Manchester United</td>\n",
       "      <td>November 1986 to May 2013</td>\n",
       "      <td>1500</td>\n",
       "      <td>895</td>\n",
       "      <td>338</td>\n",
       "      <td>267</td>\n",
       "      <td>59.7%</td>\n",
       "    </tr>\n",
       "  </tbody>\n",
       "</table>\n",
       "</div>"
      ],
      "text/plain": [
       "                 Team             Managing Period  Match  Wins  Draw  Loss  \\\n",
       "0                Team             Managing Period  Match  Wins  Draw  Loss   \n",
       "1  East Stirlingshire   June 1974 to October 1974     17     9     2     6   \n",
       "2           St Mirren    October 1974 to May 1978    169    74    41    54   \n",
       "3         Aberdeen FC  June 1978 to November 1986    459   272   105    82   \n",
       "4            Scotland  October 1985 to  June 1986     10     3     4     3   \n",
       "5   Manchester United   November 1986 to May 2013   1500   895   338   267   \n",
       "\n",
       "   Win Percentage  \n",
       "0  Win Percentage  \n",
       "1           52.9%  \n",
       "2           43.8%  \n",
       "3           59.3%  \n",
       "4             30%  \n",
       "5           59.7%  "
      ]
     },
     "execution_count": 34,
     "metadata": {},
     "output_type": "execute_result"
    }
   ],
   "source": [
    "import pandas as pd\n",
    "df=pd.DataFrame(A,columns=['Team'])\n",
    "df['Managing Period']=B\n",
    "df['Match']=C\n",
    "df['Wins']=D\n",
    "df['Draw']=E\n",
    "df['Loss']=F\n",
    "df['Win Percentage']=G\n",
    "df"
   ]
  },
  {
   "cell_type": "code",
   "execution_count": 35,
   "metadata": {},
   "outputs": [
    {
     "data": {
      "text/html": [
       "<div>\n",
       "<style scoped>\n",
       "    .dataframe tbody tr th:only-of-type {\n",
       "        vertical-align: middle;\n",
       "    }\n",
       "\n",
       "    .dataframe tbody tr th {\n",
       "        vertical-align: top;\n",
       "    }\n",
       "\n",
       "    .dataframe thead th {\n",
       "        text-align: right;\n",
       "    }\n",
       "</style>\n",
       "<table border=\"1\" class=\"dataframe\">\n",
       "  <thead>\n",
       "    <tr style=\"text-align: right;\">\n",
       "      <th></th>\n",
       "      <th>Team</th>\n",
       "      <th>Managing Period</th>\n",
       "      <th>Match</th>\n",
       "      <th>Wins</th>\n",
       "      <th>Draw</th>\n",
       "      <th>Loss</th>\n",
       "      <th>Win Percentage</th>\n",
       "    </tr>\n",
       "  </thead>\n",
       "  <tbody>\n",
       "    <tr>\n",
       "      <th>1</th>\n",
       "      <td>East Stirlingshire</td>\n",
       "      <td>June 1974 to October 1974</td>\n",
       "      <td>17</td>\n",
       "      <td>9</td>\n",
       "      <td>2</td>\n",
       "      <td>6</td>\n",
       "      <td>52.9%</td>\n",
       "    </tr>\n",
       "    <tr>\n",
       "      <th>2</th>\n",
       "      <td>St Mirren</td>\n",
       "      <td>October 1974 to May 1978</td>\n",
       "      <td>169</td>\n",
       "      <td>74</td>\n",
       "      <td>41</td>\n",
       "      <td>54</td>\n",
       "      <td>43.8%</td>\n",
       "    </tr>\n",
       "    <tr>\n",
       "      <th>3</th>\n",
       "      <td>Aberdeen FC</td>\n",
       "      <td>June 1978 to November 1986</td>\n",
       "      <td>459</td>\n",
       "      <td>272</td>\n",
       "      <td>105</td>\n",
       "      <td>82</td>\n",
       "      <td>59.3%</td>\n",
       "    </tr>\n",
       "    <tr>\n",
       "      <th>4</th>\n",
       "      <td>Scotland</td>\n",
       "      <td>October 1985 to  June 1986</td>\n",
       "      <td>10</td>\n",
       "      <td>3</td>\n",
       "      <td>4</td>\n",
       "      <td>3</td>\n",
       "      <td>30%</td>\n",
       "    </tr>\n",
       "    <tr>\n",
       "      <th>5</th>\n",
       "      <td>Manchester United</td>\n",
       "      <td>November 1986 to May 2013</td>\n",
       "      <td>1500</td>\n",
       "      <td>895</td>\n",
       "      <td>338</td>\n",
       "      <td>267</td>\n",
       "      <td>59.7%</td>\n",
       "    </tr>\n",
       "  </tbody>\n",
       "</table>\n",
       "</div>"
      ],
      "text/plain": [
       "                 Team             Managing Period Match Wins Draw Loss  \\\n",
       "1  East Stirlingshire   June 1974 to October 1974    17    9    2    6   \n",
       "2           St Mirren    October 1974 to May 1978   169   74   41   54   \n",
       "3         Aberdeen FC  June 1978 to November 1986   459  272  105   82   \n",
       "4            Scotland  October 1985 to  June 1986    10    3    4    3   \n",
       "5   Manchester United   November 1986 to May 2013  1500  895  338  267   \n",
       "\n",
       "  Win Percentage  \n",
       "1          52.9%  \n",
       "2          43.8%  \n",
       "3          59.3%  \n",
       "4            30%  \n",
       "5          59.7%  "
      ]
     },
     "execution_count": 35,
     "metadata": {},
     "output_type": "execute_result"
    }
   ],
   "source": [
    "sir_alex_ferguson = df[df.Team != 'Team']\n",
    "sir_alex_ferguson"
   ]
  },
  {
   "cell_type": "code",
   "execution_count": 39,
   "metadata": {
    "scrolled": false
   },
   "outputs": [
    {
     "data": {
      "text/html": [
       "<div>\n",
       "<style scoped>\n",
       "    .dataframe tbody tr th:only-of-type {\n",
       "        vertical-align: middle;\n",
       "    }\n",
       "\n",
       "    .dataframe tbody tr th {\n",
       "        vertical-align: top;\n",
       "    }\n",
       "\n",
       "    .dataframe thead th {\n",
       "        text-align: right;\n",
       "    }\n",
       "</style>\n",
       "<table border=\"1\" class=\"dataframe\">\n",
       "  <thead>\n",
       "    <tr style=\"text-align: right;\">\n",
       "      <th></th>\n",
       "      <th>Manager</th>\n",
       "      <th>Match</th>\n",
       "      <th>Wins</th>\n",
       "      <th>Draw</th>\n",
       "      <th>Loss</th>\n",
       "      <th>Win_Percentage</th>\n",
       "      <th>UEFA_CL_Cup_Won</th>\n",
       "      <th>Total_Trophies</th>\n",
       "    </tr>\n",
       "  </thead>\n",
       "  <tbody>\n",
       "    <tr>\n",
       "      <th>0</th>\n",
       "      <td>Roberto Mancin</td>\n",
       "      <td>726</td>\n",
       "      <td>399</td>\n",
       "      <td>185</td>\n",
       "      <td>142</td>\n",
       "      <td>55</td>\n",
       "      <td>0</td>\n",
       "      <td>13</td>\n",
       "    </tr>\n",
       "    <tr>\n",
       "      <th>1</th>\n",
       "      <td>Jürgen Klopp</td>\n",
       "      <td>738</td>\n",
       "      <td>368</td>\n",
       "      <td>190</td>\n",
       "      <td>180</td>\n",
       "      <td>50</td>\n",
       "      <td>1</td>\n",
       "      <td>8</td>\n",
       "    </tr>\n",
       "    <tr>\n",
       "      <th>2</th>\n",
       "      <td>Manuel Pellegrini</td>\n",
       "      <td>640</td>\n",
       "      <td>328</td>\n",
       "      <td>144</td>\n",
       "      <td>168</td>\n",
       "      <td>51</td>\n",
       "      <td>0</td>\n",
       "      <td>5</td>\n",
       "    </tr>\n",
       "    <tr>\n",
       "      <th>3</th>\n",
       "      <td>Antonio Conte</td>\n",
       "      <td>415</td>\n",
       "      <td>242</td>\n",
       "      <td>101</td>\n",
       "      <td>72</td>\n",
       "      <td>58</td>\n",
       "      <td>0</td>\n",
       "      <td>8</td>\n",
       "    </tr>\n",
       "    <tr>\n",
       "      <th>4</th>\n",
       "      <td>Giovanni Trapattoni</td>\n",
       "      <td>1383</td>\n",
       "      <td>716</td>\n",
       "      <td>399</td>\n",
       "      <td>268</td>\n",
       "      <td>52</td>\n",
       "      <td>1</td>\n",
       "      <td>23</td>\n",
       "    </tr>\n",
       "    <tr>\n",
       "      <th>5</th>\n",
       "      <td>Pep Guardiola</td>\n",
       "      <td>555</td>\n",
       "      <td>399</td>\n",
       "      <td>94</td>\n",
       "      <td>62</td>\n",
       "      <td>72</td>\n",
       "      <td>2</td>\n",
       "      <td>29</td>\n",
       "    </tr>\n",
       "    <tr>\n",
       "      <th>6</th>\n",
       "      <td>Arsène Wenger</td>\n",
       "      <td>1697</td>\n",
       "      <td>917</td>\n",
       "      <td>367</td>\n",
       "      <td>413</td>\n",
       "      <td>54</td>\n",
       "      <td>0</td>\n",
       "      <td>21</td>\n",
       "    </tr>\n",
       "    <tr>\n",
       "      <th>7</th>\n",
       "      <td>Jose Mourinho</td>\n",
       "      <td>880</td>\n",
       "      <td>577</td>\n",
       "      <td>178</td>\n",
       "      <td>125</td>\n",
       "      <td>66</td>\n",
       "      <td>2</td>\n",
       "      <td>33</td>\n",
       "    </tr>\n",
       "    <tr>\n",
       "      <th>8</th>\n",
       "      <td>Carlo Ancelotti</td>\n",
       "      <td>1030</td>\n",
       "      <td>607</td>\n",
       "      <td>237</td>\n",
       "      <td>186</td>\n",
       "      <td>59</td>\n",
       "      <td>3</td>\n",
       "      <td>19</td>\n",
       "    </tr>\n",
       "    <tr>\n",
       "      <th>9</th>\n",
       "      <td>Sir Alex Ferguson</td>\n",
       "      <td>2155</td>\n",
       "      <td>1253</td>\n",
       "      <td>490</td>\n",
       "      <td>412</td>\n",
       "      <td>58</td>\n",
       "      <td>2</td>\n",
       "      <td>34</td>\n",
       "    </tr>\n",
       "  </tbody>\n",
       "</table>\n",
       "</div>"
      ],
      "text/plain": [
       "               Manager  Match  Wins  Draw  Loss  Win_Percentage  \\\n",
       "0       Roberto Mancin    726   399   185   142              55   \n",
       "1         Jürgen Klopp    738   368   190   180              50   \n",
       "2    Manuel Pellegrini    640   328   144   168              51   \n",
       "3        Antonio Conte    415   242   101    72              58   \n",
       "4  Giovanni Trapattoni   1383   716   399   268              52   \n",
       "5        Pep Guardiola    555   399    94    62              72   \n",
       "6        Arsène Wenger   1697   917   367   413              54   \n",
       "7        Jose Mourinho    880   577   178   125              66   \n",
       "8      Carlo Ancelotti   1030   607   237   186              59   \n",
       "9    Sir Alex Ferguson   2155  1253   490   412              58   \n",
       "\n",
       "   UEFA_CL_Cup_Won  Total_Trophies  \n",
       "0                0              13  \n",
       "1                1               8  \n",
       "2                0               5  \n",
       "3                0               8  \n",
       "4                1              23  \n",
       "5                2              29  \n",
       "6                0              21  \n",
       "7                2              33  \n",
       "8                3              19  \n",
       "9                2              34  "
      ]
     },
     "execution_count": 39,
     "metadata": {},
     "output_type": "execute_result"
    }
   ],
   "source": [
    "criteria = pd.DataFrame(data)\n",
    "criteria"
   ]
  },
  {
   "cell_type": "code",
   "execution_count": 77,
   "metadata": {},
   "outputs": [
    {
     "data": {
      "text/html": [
       "<div>\n",
       "<style scoped>\n",
       "    .dataframe tbody tr th:only-of-type {\n",
       "        vertical-align: middle;\n",
       "    }\n",
       "\n",
       "    .dataframe tbody tr th {\n",
       "        vertical-align: top;\n",
       "    }\n",
       "\n",
       "    .dataframe thead th {\n",
       "        text-align: right;\n",
       "    }\n",
       "</style>\n",
       "<table border=\"1\" class=\"dataframe\">\n",
       "  <thead>\n",
       "    <tr style=\"text-align: right;\">\n",
       "      <th></th>\n",
       "      <th>Manager</th>\n",
       "    </tr>\n",
       "  </thead>\n",
       "  <tbody>\n",
       "    <tr>\n",
       "      <th>2</th>\n",
       "      <td>Manuel Pellegrini</td>\n",
       "    </tr>\n",
       "    <tr>\n",
       "      <th>1</th>\n",
       "      <td>Jürgen Klopp</td>\n",
       "    </tr>\n",
       "    <tr>\n",
       "      <th>3</th>\n",
       "      <td>Antonio Conte</td>\n",
       "    </tr>\n",
       "    <tr>\n",
       "      <th>0</th>\n",
       "      <td>Roberto Mancin</td>\n",
       "    </tr>\n",
       "    <tr>\n",
       "      <th>8</th>\n",
       "      <td>Carlo Ancelotti</td>\n",
       "    </tr>\n",
       "    <tr>\n",
       "      <th>6</th>\n",
       "      <td>Arsène Wenger</td>\n",
       "    </tr>\n",
       "    <tr>\n",
       "      <th>4</th>\n",
       "      <td>Giovanni Trapattoni</td>\n",
       "    </tr>\n",
       "    <tr>\n",
       "      <th>5</th>\n",
       "      <td>Pep Guardiola</td>\n",
       "    </tr>\n",
       "    <tr>\n",
       "      <th>7</th>\n",
       "      <td>Jose Mourinho</td>\n",
       "    </tr>\n",
       "    <tr>\n",
       "      <th>9</th>\n",
       "      <td>Sir Alex Ferguson</td>\n",
       "    </tr>\n",
       "  </tbody>\n",
       "</table>\n",
       "</div>"
      ],
      "text/plain": [
       "               Manager\n",
       "2    Manuel Pellegrini\n",
       "1         Jürgen Klopp\n",
       "3        Antonio Conte\n",
       "0       Roberto Mancin\n",
       "8      Carlo Ancelotti\n",
       "6        Arsène Wenger\n",
       "4  Giovanni Trapattoni\n",
       "5        Pep Guardiola\n",
       "7        Jose Mourinho\n",
       "9    Sir Alex Ferguson"
      ]
     },
     "execution_count": 77,
     "metadata": {},
     "output_type": "execute_result"
    }
   ],
   "source": [
    "Managers = criteria['Manager']\n",
    "Managers = pd.DataFrame(Managers)\n",
    "Managers"
   ]
  },
  {
   "cell_type": "code",
   "execution_count": 44,
   "metadata": {},
   "outputs": [
    {
     "data": {
      "text/html": [
       "<div>\n",
       "<style scoped>\n",
       "    .dataframe tbody tr th:only-of-type {\n",
       "        vertical-align: middle;\n",
       "    }\n",
       "\n",
       "    .dataframe tbody tr th {\n",
       "        vertical-align: top;\n",
       "    }\n",
       "\n",
       "    .dataframe thead th {\n",
       "        text-align: right;\n",
       "    }\n",
       "</style>\n",
       "<table border=\"1\" class=\"dataframe\">\n",
       "  <thead>\n",
       "    <tr style=\"text-align: right;\">\n",
       "      <th></th>\n",
       "      <th>Manager</th>\n",
       "      <th>Match</th>\n",
       "      <th>Wins</th>\n",
       "      <th>Draw</th>\n",
       "      <th>Loss</th>\n",
       "      <th>Win_Percentage</th>\n",
       "      <th>UEFA_CL_Cup_Won</th>\n",
       "      <th>Total_Trophies</th>\n",
       "    </tr>\n",
       "  </thead>\n",
       "  <tbody>\n",
       "    <tr>\n",
       "      <th>2</th>\n",
       "      <td>Manuel Pellegrini</td>\n",
       "      <td>640</td>\n",
       "      <td>328</td>\n",
       "      <td>144</td>\n",
       "      <td>168</td>\n",
       "      <td>51</td>\n",
       "      <td>0</td>\n",
       "      <td>5</td>\n",
       "    </tr>\n",
       "    <tr>\n",
       "      <th>1</th>\n",
       "      <td>Jürgen Klopp</td>\n",
       "      <td>738</td>\n",
       "      <td>368</td>\n",
       "      <td>190</td>\n",
       "      <td>180</td>\n",
       "      <td>50</td>\n",
       "      <td>1</td>\n",
       "      <td>8</td>\n",
       "    </tr>\n",
       "    <tr>\n",
       "      <th>3</th>\n",
       "      <td>Antonio Conte</td>\n",
       "      <td>415</td>\n",
       "      <td>242</td>\n",
       "      <td>101</td>\n",
       "      <td>72</td>\n",
       "      <td>58</td>\n",
       "      <td>0</td>\n",
       "      <td>8</td>\n",
       "    </tr>\n",
       "    <tr>\n",
       "      <th>0</th>\n",
       "      <td>Roberto Mancin</td>\n",
       "      <td>726</td>\n",
       "      <td>399</td>\n",
       "      <td>185</td>\n",
       "      <td>142</td>\n",
       "      <td>55</td>\n",
       "      <td>0</td>\n",
       "      <td>13</td>\n",
       "    </tr>\n",
       "    <tr>\n",
       "      <th>8</th>\n",
       "      <td>Carlo Ancelotti</td>\n",
       "      <td>1030</td>\n",
       "      <td>607</td>\n",
       "      <td>237</td>\n",
       "      <td>186</td>\n",
       "      <td>59</td>\n",
       "      <td>3</td>\n",
       "      <td>19</td>\n",
       "    </tr>\n",
       "    <tr>\n",
       "      <th>6</th>\n",
       "      <td>Arsène Wenger</td>\n",
       "      <td>1697</td>\n",
       "      <td>917</td>\n",
       "      <td>367</td>\n",
       "      <td>413</td>\n",
       "      <td>54</td>\n",
       "      <td>0</td>\n",
       "      <td>21</td>\n",
       "    </tr>\n",
       "    <tr>\n",
       "      <th>4</th>\n",
       "      <td>Giovanni Trapattoni</td>\n",
       "      <td>1383</td>\n",
       "      <td>716</td>\n",
       "      <td>399</td>\n",
       "      <td>268</td>\n",
       "      <td>52</td>\n",
       "      <td>1</td>\n",
       "      <td>23</td>\n",
       "    </tr>\n",
       "    <tr>\n",
       "      <th>5</th>\n",
       "      <td>Pep Guardiola</td>\n",
       "      <td>555</td>\n",
       "      <td>399</td>\n",
       "      <td>94</td>\n",
       "      <td>62</td>\n",
       "      <td>72</td>\n",
       "      <td>2</td>\n",
       "      <td>29</td>\n",
       "    </tr>\n",
       "    <tr>\n",
       "      <th>7</th>\n",
       "      <td>Jose Mourinho</td>\n",
       "      <td>880</td>\n",
       "      <td>577</td>\n",
       "      <td>178</td>\n",
       "      <td>125</td>\n",
       "      <td>66</td>\n",
       "      <td>2</td>\n",
       "      <td>33</td>\n",
       "    </tr>\n",
       "    <tr>\n",
       "      <th>9</th>\n",
       "      <td>Sir Alex Ferguson</td>\n",
       "      <td>2155</td>\n",
       "      <td>1253</td>\n",
       "      <td>490</td>\n",
       "      <td>412</td>\n",
       "      <td>58</td>\n",
       "      <td>2</td>\n",
       "      <td>34</td>\n",
       "    </tr>\n",
       "  </tbody>\n",
       "</table>\n",
       "</div>"
      ],
      "text/plain": [
       "               Manager  Match  Wins  Draw  Loss  Win_Percentage  \\\n",
       "2    Manuel Pellegrini    640   328   144   168              51   \n",
       "1         Jürgen Klopp    738   368   190   180              50   \n",
       "3        Antonio Conte    415   242   101    72              58   \n",
       "0       Roberto Mancin    726   399   185   142              55   \n",
       "8      Carlo Ancelotti   1030   607   237   186              59   \n",
       "6        Arsène Wenger   1697   917   367   413              54   \n",
       "4  Giovanni Trapattoni   1383   716   399   268              52   \n",
       "5        Pep Guardiola    555   399    94    62              72   \n",
       "7        Jose Mourinho    880   577   178   125              66   \n",
       "9    Sir Alex Ferguson   2155  1253   490   412              58   \n",
       "\n",
       "   UEFA_CL_Cup_Won  Total_Trophies  \n",
       "2                0               5  \n",
       "1                1               8  \n",
       "3                0               8  \n",
       "0                0              13  \n",
       "8                3              19  \n",
       "6                0              21  \n",
       "4                1              23  \n",
       "5                2              29  \n",
       "7                2              33  \n",
       "9                2              34  "
      ]
     },
     "execution_count": 44,
     "metadata": {},
     "output_type": "execute_result"
    }
   ],
   "source": [
    "Total_Trophies = criteria.sort_values('Total_Trophies')\n",
    "Total_Trophies"
   ]
  },
  {
   "cell_type": "code",
   "execution_count": 45,
   "metadata": {},
   "outputs": [
    {
     "data": {
      "text/html": [
       "<div>\n",
       "<style scoped>\n",
       "    .dataframe tbody tr th:only-of-type {\n",
       "        vertical-align: middle;\n",
       "    }\n",
       "\n",
       "    .dataframe tbody tr th {\n",
       "        vertical-align: top;\n",
       "    }\n",
       "\n",
       "    .dataframe thead th {\n",
       "        text-align: right;\n",
       "    }\n",
       "</style>\n",
       "<table border=\"1\" class=\"dataframe\">\n",
       "  <thead>\n",
       "    <tr style=\"text-align: right;\">\n",
       "      <th></th>\n",
       "      <th>Manager</th>\n",
       "      <th>Match</th>\n",
       "      <th>Wins</th>\n",
       "      <th>Draw</th>\n",
       "      <th>Loss</th>\n",
       "      <th>Win_Percentage</th>\n",
       "      <th>UEFA_CL_Cup_Won</th>\n",
       "      <th>Total_Trophies</th>\n",
       "    </tr>\n",
       "  </thead>\n",
       "  <tbody>\n",
       "    <tr>\n",
       "      <th>1</th>\n",
       "      <td>Jürgen Klopp</td>\n",
       "      <td>738</td>\n",
       "      <td>368</td>\n",
       "      <td>190</td>\n",
       "      <td>180</td>\n",
       "      <td>50</td>\n",
       "      <td>1</td>\n",
       "      <td>8</td>\n",
       "    </tr>\n",
       "    <tr>\n",
       "      <th>2</th>\n",
       "      <td>Manuel Pellegrini</td>\n",
       "      <td>640</td>\n",
       "      <td>328</td>\n",
       "      <td>144</td>\n",
       "      <td>168</td>\n",
       "      <td>51</td>\n",
       "      <td>0</td>\n",
       "      <td>5</td>\n",
       "    </tr>\n",
       "    <tr>\n",
       "      <th>4</th>\n",
       "      <td>Giovanni Trapattoni</td>\n",
       "      <td>1383</td>\n",
       "      <td>716</td>\n",
       "      <td>399</td>\n",
       "      <td>268</td>\n",
       "      <td>52</td>\n",
       "      <td>1</td>\n",
       "      <td>23</td>\n",
       "    </tr>\n",
       "    <tr>\n",
       "      <th>6</th>\n",
       "      <td>Arsène Wenger</td>\n",
       "      <td>1697</td>\n",
       "      <td>917</td>\n",
       "      <td>367</td>\n",
       "      <td>413</td>\n",
       "      <td>54</td>\n",
       "      <td>0</td>\n",
       "      <td>21</td>\n",
       "    </tr>\n",
       "    <tr>\n",
       "      <th>0</th>\n",
       "      <td>Roberto Mancin</td>\n",
       "      <td>726</td>\n",
       "      <td>399</td>\n",
       "      <td>185</td>\n",
       "      <td>142</td>\n",
       "      <td>55</td>\n",
       "      <td>0</td>\n",
       "      <td>13</td>\n",
       "    </tr>\n",
       "    <tr>\n",
       "      <th>3</th>\n",
       "      <td>Antonio Conte</td>\n",
       "      <td>415</td>\n",
       "      <td>242</td>\n",
       "      <td>101</td>\n",
       "      <td>72</td>\n",
       "      <td>58</td>\n",
       "      <td>0</td>\n",
       "      <td>8</td>\n",
       "    </tr>\n",
       "    <tr>\n",
       "      <th>9</th>\n",
       "      <td>Sir Alex Ferguson</td>\n",
       "      <td>2155</td>\n",
       "      <td>1253</td>\n",
       "      <td>490</td>\n",
       "      <td>412</td>\n",
       "      <td>58</td>\n",
       "      <td>2</td>\n",
       "      <td>34</td>\n",
       "    </tr>\n",
       "    <tr>\n",
       "      <th>8</th>\n",
       "      <td>Carlo Ancelotti</td>\n",
       "      <td>1030</td>\n",
       "      <td>607</td>\n",
       "      <td>237</td>\n",
       "      <td>186</td>\n",
       "      <td>59</td>\n",
       "      <td>3</td>\n",
       "      <td>19</td>\n",
       "    </tr>\n",
       "    <tr>\n",
       "      <th>7</th>\n",
       "      <td>Jose Mourinho</td>\n",
       "      <td>880</td>\n",
       "      <td>577</td>\n",
       "      <td>178</td>\n",
       "      <td>125</td>\n",
       "      <td>66</td>\n",
       "      <td>2</td>\n",
       "      <td>33</td>\n",
       "    </tr>\n",
       "    <tr>\n",
       "      <th>5</th>\n",
       "      <td>Pep Guardiola</td>\n",
       "      <td>555</td>\n",
       "      <td>399</td>\n",
       "      <td>94</td>\n",
       "      <td>62</td>\n",
       "      <td>72</td>\n",
       "      <td>2</td>\n",
       "      <td>29</td>\n",
       "    </tr>\n",
       "  </tbody>\n",
       "</table>\n",
       "</div>"
      ],
      "text/plain": [
       "               Manager  Match  Wins  Draw  Loss  Win_Percentage  \\\n",
       "1         Jürgen Klopp    738   368   190   180              50   \n",
       "2    Manuel Pellegrini    640   328   144   168              51   \n",
       "4  Giovanni Trapattoni   1383   716   399   268              52   \n",
       "6        Arsène Wenger   1697   917   367   413              54   \n",
       "0       Roberto Mancin    726   399   185   142              55   \n",
       "3        Antonio Conte    415   242   101    72              58   \n",
       "9    Sir Alex Ferguson   2155  1253   490   412              58   \n",
       "8      Carlo Ancelotti   1030   607   237   186              59   \n",
       "7        Jose Mourinho    880   577   178   125              66   \n",
       "5        Pep Guardiola    555   399    94    62              72   \n",
       "\n",
       "   UEFA_CL_Cup_Won  Total_Trophies  \n",
       "1                1               8  \n",
       "2                0               5  \n",
       "4                1              23  \n",
       "6                0              21  \n",
       "0                0              13  \n",
       "3                0               8  \n",
       "9                2              34  \n",
       "8                3              19  \n",
       "7                2              33  \n",
       "5                2              29  "
      ]
     },
     "execution_count": 45,
     "metadata": {},
     "output_type": "execute_result"
    }
   ],
   "source": [
    "Win_Percentage = criteria.sort_values('Win_Percentage')\n",
    "Win_Percentage"
   ]
  },
  {
   "cell_type": "code",
   "execution_count": 46,
   "metadata": {},
   "outputs": [
    {
     "data": {
      "text/html": [
       "<div>\n",
       "<style scoped>\n",
       "    .dataframe tbody tr th:only-of-type {\n",
       "        vertical-align: middle;\n",
       "    }\n",
       "\n",
       "    .dataframe tbody tr th {\n",
       "        vertical-align: top;\n",
       "    }\n",
       "\n",
       "    .dataframe thead th {\n",
       "        text-align: right;\n",
       "    }\n",
       "</style>\n",
       "<table border=\"1\" class=\"dataframe\">\n",
       "  <thead>\n",
       "    <tr style=\"text-align: right;\">\n",
       "      <th></th>\n",
       "      <th>Manager</th>\n",
       "      <th>Match</th>\n",
       "      <th>Wins</th>\n",
       "      <th>Draw</th>\n",
       "      <th>Loss</th>\n",
       "      <th>Win_Percentage</th>\n",
       "      <th>UEFA_CL_Cup_Won</th>\n",
       "      <th>Total_Trophies</th>\n",
       "    </tr>\n",
       "  </thead>\n",
       "  <tbody>\n",
       "    <tr>\n",
       "      <th>2</th>\n",
       "      <td>Manuel Pellegrini</td>\n",
       "      <td>640</td>\n",
       "      <td>328</td>\n",
       "      <td>144</td>\n",
       "      <td>168</td>\n",
       "      <td>51</td>\n",
       "      <td>0</td>\n",
       "      <td>5</td>\n",
       "    </tr>\n",
       "    <tr>\n",
       "      <th>3</th>\n",
       "      <td>Antonio Conte</td>\n",
       "      <td>415</td>\n",
       "      <td>242</td>\n",
       "      <td>101</td>\n",
       "      <td>72</td>\n",
       "      <td>58</td>\n",
       "      <td>0</td>\n",
       "      <td>8</td>\n",
       "    </tr>\n",
       "    <tr>\n",
       "      <th>0</th>\n",
       "      <td>Roberto Mancin</td>\n",
       "      <td>726</td>\n",
       "      <td>399</td>\n",
       "      <td>185</td>\n",
       "      <td>142</td>\n",
       "      <td>55</td>\n",
       "      <td>0</td>\n",
       "      <td>13</td>\n",
       "    </tr>\n",
       "    <tr>\n",
       "      <th>6</th>\n",
       "      <td>Arsène Wenger</td>\n",
       "      <td>1697</td>\n",
       "      <td>917</td>\n",
       "      <td>367</td>\n",
       "      <td>413</td>\n",
       "      <td>54</td>\n",
       "      <td>0</td>\n",
       "      <td>21</td>\n",
       "    </tr>\n",
       "    <tr>\n",
       "      <th>1</th>\n",
       "      <td>Jürgen Klopp</td>\n",
       "      <td>738</td>\n",
       "      <td>368</td>\n",
       "      <td>190</td>\n",
       "      <td>180</td>\n",
       "      <td>50</td>\n",
       "      <td>1</td>\n",
       "      <td>8</td>\n",
       "    </tr>\n",
       "    <tr>\n",
       "      <th>4</th>\n",
       "      <td>Giovanni Trapattoni</td>\n",
       "      <td>1383</td>\n",
       "      <td>716</td>\n",
       "      <td>399</td>\n",
       "      <td>268</td>\n",
       "      <td>52</td>\n",
       "      <td>1</td>\n",
       "      <td>23</td>\n",
       "    </tr>\n",
       "    <tr>\n",
       "      <th>5</th>\n",
       "      <td>Pep Guardiola</td>\n",
       "      <td>555</td>\n",
       "      <td>399</td>\n",
       "      <td>94</td>\n",
       "      <td>62</td>\n",
       "      <td>72</td>\n",
       "      <td>2</td>\n",
       "      <td>29</td>\n",
       "    </tr>\n",
       "    <tr>\n",
       "      <th>7</th>\n",
       "      <td>Jose Mourinho</td>\n",
       "      <td>880</td>\n",
       "      <td>577</td>\n",
       "      <td>178</td>\n",
       "      <td>125</td>\n",
       "      <td>66</td>\n",
       "      <td>2</td>\n",
       "      <td>33</td>\n",
       "    </tr>\n",
       "    <tr>\n",
       "      <th>9</th>\n",
       "      <td>Sir Alex Ferguson</td>\n",
       "      <td>2155</td>\n",
       "      <td>1253</td>\n",
       "      <td>490</td>\n",
       "      <td>412</td>\n",
       "      <td>58</td>\n",
       "      <td>2</td>\n",
       "      <td>34</td>\n",
       "    </tr>\n",
       "    <tr>\n",
       "      <th>8</th>\n",
       "      <td>Carlo Ancelotti</td>\n",
       "      <td>1030</td>\n",
       "      <td>607</td>\n",
       "      <td>237</td>\n",
       "      <td>186</td>\n",
       "      <td>59</td>\n",
       "      <td>3</td>\n",
       "      <td>19</td>\n",
       "    </tr>\n",
       "  </tbody>\n",
       "</table>\n",
       "</div>"
      ],
      "text/plain": [
       "               Manager  Match  Wins  Draw  Loss  Win_Percentage  \\\n",
       "2    Manuel Pellegrini    640   328   144   168              51   \n",
       "3        Antonio Conte    415   242   101    72              58   \n",
       "0       Roberto Mancin    726   399   185   142              55   \n",
       "6        Arsène Wenger   1697   917   367   413              54   \n",
       "1         Jürgen Klopp    738   368   190   180              50   \n",
       "4  Giovanni Trapattoni   1383   716   399   268              52   \n",
       "5        Pep Guardiola    555   399    94    62              72   \n",
       "7        Jose Mourinho    880   577   178   125              66   \n",
       "9    Sir Alex Ferguson   2155  1253   490   412              58   \n",
       "8      Carlo Ancelotti   1030   607   237   186              59   \n",
       "\n",
       "   UEFA_CL_Cup_Won  Total_Trophies  \n",
       "2                0               5  \n",
       "3                0               8  \n",
       "0                0              13  \n",
       "6                0              21  \n",
       "1                1               8  \n",
       "4                1              23  \n",
       "5                2              29  \n",
       "7                2              33  \n",
       "9                2              34  \n",
       "8                3              19  "
      ]
     },
     "execution_count": 46,
     "metadata": {},
     "output_type": "execute_result"
    }
   ],
   "source": [
    "UEFA_CL_Cup_Won = criteria.sort_values('UEFA_CL_Cup_Won')\n",
    "UEFA_CL_Cup_Won"
   ]
  },
  {
   "cell_type": "code",
   "execution_count": 65,
   "metadata": {},
   "outputs": [
    {
     "data": {
      "application/vnd.plotly.v1+json": {
       "config": {
        "plotlyServerURL": "https://plot.ly"
       },
       "data": [
        {
         "alignmentgroup": "True",
         "hovertemplate": "Win_Percentage=%{marker.color}<br>Manager=%{y}<extra></extra>",
         "legendgroup": "",
         "marker": {
          "color": [
           50,
           51,
           52,
           54,
           55,
           58,
           58,
           59,
           66,
           72
          ],
          "coloraxis": "coloraxis"
         },
         "name": "",
         "offsetgroup": "",
         "orientation": "h",
         "showlegend": false,
         "textposition": "auto",
         "type": "bar",
         "x": [
          50,
          51,
          52,
          54,
          55,
          58,
          58,
          59,
          66,
          72
         ],
         "xaxis": "x",
         "y": [
          "Jürgen Klopp",
          "Manuel Pellegrini",
          "Giovanni Trapattoni",
          "Arsène Wenger",
          "Roberto Mancin",
          "Antonio Conte",
          "Sir Alex Ferguson",
          "Carlo Ancelotti",
          "Jose Mourinho",
          "Pep Guardiola"
         ],
         "yaxis": "y"
        }
       ],
       "layout": {
        "barmode": "relative",
        "coloraxis": {
         "colorbar": {
          "title": {
           "text": "Win_Percentage"
          }
         },
         "colorscale": [
          [
           0,
           "#0d0887"
          ],
          [
           0.1111111111111111,
           "#46039f"
          ],
          [
           0.2222222222222222,
           "#7201a8"
          ],
          [
           0.3333333333333333,
           "#9c179e"
          ],
          [
           0.4444444444444444,
           "#bd3786"
          ],
          [
           0.5555555555555556,
           "#d8576b"
          ],
          [
           0.6666666666666666,
           "#ed7953"
          ],
          [
           0.7777777777777778,
           "#fb9f3a"
          ],
          [
           0.8888888888888888,
           "#fdca26"
          ],
          [
           1,
           "#f0f921"
          ]
         ]
        },
        "legend": {
         "tracegroupgap": 0
        },
        "template": {
         "data": {
          "bar": [
           {
            "error_x": {
             "color": "#2a3f5f"
            },
            "error_y": {
             "color": "#2a3f5f"
            },
            "marker": {
             "line": {
              "color": "#E5ECF6",
              "width": 0.5
             }
            },
            "type": "bar"
           }
          ],
          "barpolar": [
           {
            "marker": {
             "line": {
              "color": "#E5ECF6",
              "width": 0.5
             }
            },
            "type": "barpolar"
           }
          ],
          "carpet": [
           {
            "aaxis": {
             "endlinecolor": "#2a3f5f",
             "gridcolor": "white",
             "linecolor": "white",
             "minorgridcolor": "white",
             "startlinecolor": "#2a3f5f"
            },
            "baxis": {
             "endlinecolor": "#2a3f5f",
             "gridcolor": "white",
             "linecolor": "white",
             "minorgridcolor": "white",
             "startlinecolor": "#2a3f5f"
            },
            "type": "carpet"
           }
          ],
          "choropleth": [
           {
            "colorbar": {
             "outlinewidth": 0,
             "ticks": ""
            },
            "type": "choropleth"
           }
          ],
          "contour": [
           {
            "colorbar": {
             "outlinewidth": 0,
             "ticks": ""
            },
            "colorscale": [
             [
              0,
              "#0d0887"
             ],
             [
              0.1111111111111111,
              "#46039f"
             ],
             [
              0.2222222222222222,
              "#7201a8"
             ],
             [
              0.3333333333333333,
              "#9c179e"
             ],
             [
              0.4444444444444444,
              "#bd3786"
             ],
             [
              0.5555555555555556,
              "#d8576b"
             ],
             [
              0.6666666666666666,
              "#ed7953"
             ],
             [
              0.7777777777777778,
              "#fb9f3a"
             ],
             [
              0.8888888888888888,
              "#fdca26"
             ],
             [
              1,
              "#f0f921"
             ]
            ],
            "type": "contour"
           }
          ],
          "contourcarpet": [
           {
            "colorbar": {
             "outlinewidth": 0,
             "ticks": ""
            },
            "type": "contourcarpet"
           }
          ],
          "heatmap": [
           {
            "colorbar": {
             "outlinewidth": 0,
             "ticks": ""
            },
            "colorscale": [
             [
              0,
              "#0d0887"
             ],
             [
              0.1111111111111111,
              "#46039f"
             ],
             [
              0.2222222222222222,
              "#7201a8"
             ],
             [
              0.3333333333333333,
              "#9c179e"
             ],
             [
              0.4444444444444444,
              "#bd3786"
             ],
             [
              0.5555555555555556,
              "#d8576b"
             ],
             [
              0.6666666666666666,
              "#ed7953"
             ],
             [
              0.7777777777777778,
              "#fb9f3a"
             ],
             [
              0.8888888888888888,
              "#fdca26"
             ],
             [
              1,
              "#f0f921"
             ]
            ],
            "type": "heatmap"
           }
          ],
          "heatmapgl": [
           {
            "colorbar": {
             "outlinewidth": 0,
             "ticks": ""
            },
            "colorscale": [
             [
              0,
              "#0d0887"
             ],
             [
              0.1111111111111111,
              "#46039f"
             ],
             [
              0.2222222222222222,
              "#7201a8"
             ],
             [
              0.3333333333333333,
              "#9c179e"
             ],
             [
              0.4444444444444444,
              "#bd3786"
             ],
             [
              0.5555555555555556,
              "#d8576b"
             ],
             [
              0.6666666666666666,
              "#ed7953"
             ],
             [
              0.7777777777777778,
              "#fb9f3a"
             ],
             [
              0.8888888888888888,
              "#fdca26"
             ],
             [
              1,
              "#f0f921"
             ]
            ],
            "type": "heatmapgl"
           }
          ],
          "histogram": [
           {
            "marker": {
             "colorbar": {
              "outlinewidth": 0,
              "ticks": ""
             }
            },
            "type": "histogram"
           }
          ],
          "histogram2d": [
           {
            "colorbar": {
             "outlinewidth": 0,
             "ticks": ""
            },
            "colorscale": [
             [
              0,
              "#0d0887"
             ],
             [
              0.1111111111111111,
              "#46039f"
             ],
             [
              0.2222222222222222,
              "#7201a8"
             ],
             [
              0.3333333333333333,
              "#9c179e"
             ],
             [
              0.4444444444444444,
              "#bd3786"
             ],
             [
              0.5555555555555556,
              "#d8576b"
             ],
             [
              0.6666666666666666,
              "#ed7953"
             ],
             [
              0.7777777777777778,
              "#fb9f3a"
             ],
             [
              0.8888888888888888,
              "#fdca26"
             ],
             [
              1,
              "#f0f921"
             ]
            ],
            "type": "histogram2d"
           }
          ],
          "histogram2dcontour": [
           {
            "colorbar": {
             "outlinewidth": 0,
             "ticks": ""
            },
            "colorscale": [
             [
              0,
              "#0d0887"
             ],
             [
              0.1111111111111111,
              "#46039f"
             ],
             [
              0.2222222222222222,
              "#7201a8"
             ],
             [
              0.3333333333333333,
              "#9c179e"
             ],
             [
              0.4444444444444444,
              "#bd3786"
             ],
             [
              0.5555555555555556,
              "#d8576b"
             ],
             [
              0.6666666666666666,
              "#ed7953"
             ],
             [
              0.7777777777777778,
              "#fb9f3a"
             ],
             [
              0.8888888888888888,
              "#fdca26"
             ],
             [
              1,
              "#f0f921"
             ]
            ],
            "type": "histogram2dcontour"
           }
          ],
          "mesh3d": [
           {
            "colorbar": {
             "outlinewidth": 0,
             "ticks": ""
            },
            "type": "mesh3d"
           }
          ],
          "parcoords": [
           {
            "line": {
             "colorbar": {
              "outlinewidth": 0,
              "ticks": ""
             }
            },
            "type": "parcoords"
           }
          ],
          "pie": [
           {
            "automargin": true,
            "type": "pie"
           }
          ],
          "scatter": [
           {
            "marker": {
             "colorbar": {
              "outlinewidth": 0,
              "ticks": ""
             }
            },
            "type": "scatter"
           }
          ],
          "scatter3d": [
           {
            "line": {
             "colorbar": {
              "outlinewidth": 0,
              "ticks": ""
             }
            },
            "marker": {
             "colorbar": {
              "outlinewidth": 0,
              "ticks": ""
             }
            },
            "type": "scatter3d"
           }
          ],
          "scattercarpet": [
           {
            "marker": {
             "colorbar": {
              "outlinewidth": 0,
              "ticks": ""
             }
            },
            "type": "scattercarpet"
           }
          ],
          "scattergeo": [
           {
            "marker": {
             "colorbar": {
              "outlinewidth": 0,
              "ticks": ""
             }
            },
            "type": "scattergeo"
           }
          ],
          "scattergl": [
           {
            "marker": {
             "colorbar": {
              "outlinewidth": 0,
              "ticks": ""
             }
            },
            "type": "scattergl"
           }
          ],
          "scattermapbox": [
           {
            "marker": {
             "colorbar": {
              "outlinewidth": 0,
              "ticks": ""
             }
            },
            "type": "scattermapbox"
           }
          ],
          "scatterpolar": [
           {
            "marker": {
             "colorbar": {
              "outlinewidth": 0,
              "ticks": ""
             }
            },
            "type": "scatterpolar"
           }
          ],
          "scatterpolargl": [
           {
            "marker": {
             "colorbar": {
              "outlinewidth": 0,
              "ticks": ""
             }
            },
            "type": "scatterpolargl"
           }
          ],
          "scatterternary": [
           {
            "marker": {
             "colorbar": {
              "outlinewidth": 0,
              "ticks": ""
             }
            },
            "type": "scatterternary"
           }
          ],
          "surface": [
           {
            "colorbar": {
             "outlinewidth": 0,
             "ticks": ""
            },
            "colorscale": [
             [
              0,
              "#0d0887"
             ],
             [
              0.1111111111111111,
              "#46039f"
             ],
             [
              0.2222222222222222,
              "#7201a8"
             ],
             [
              0.3333333333333333,
              "#9c179e"
             ],
             [
              0.4444444444444444,
              "#bd3786"
             ],
             [
              0.5555555555555556,
              "#d8576b"
             ],
             [
              0.6666666666666666,
              "#ed7953"
             ],
             [
              0.7777777777777778,
              "#fb9f3a"
             ],
             [
              0.8888888888888888,
              "#fdca26"
             ],
             [
              1,
              "#f0f921"
             ]
            ],
            "type": "surface"
           }
          ],
          "table": [
           {
            "cells": {
             "fill": {
              "color": "#EBF0F8"
             },
             "line": {
              "color": "white"
             }
            },
            "header": {
             "fill": {
              "color": "#C8D4E3"
             },
             "line": {
              "color": "white"
             }
            },
            "type": "table"
           }
          ]
         },
         "layout": {
          "annotationdefaults": {
           "arrowcolor": "#2a3f5f",
           "arrowhead": 0,
           "arrowwidth": 1
          },
          "coloraxis": {
           "colorbar": {
            "outlinewidth": 0,
            "ticks": ""
           }
          },
          "colorscale": {
           "diverging": [
            [
             0,
             "#8e0152"
            ],
            [
             0.1,
             "#c51b7d"
            ],
            [
             0.2,
             "#de77ae"
            ],
            [
             0.3,
             "#f1b6da"
            ],
            [
             0.4,
             "#fde0ef"
            ],
            [
             0.5,
             "#f7f7f7"
            ],
            [
             0.6,
             "#e6f5d0"
            ],
            [
             0.7,
             "#b8e186"
            ],
            [
             0.8,
             "#7fbc41"
            ],
            [
             0.9,
             "#4d9221"
            ],
            [
             1,
             "#276419"
            ]
           ],
           "sequential": [
            [
             0,
             "#0d0887"
            ],
            [
             0.1111111111111111,
             "#46039f"
            ],
            [
             0.2222222222222222,
             "#7201a8"
            ],
            [
             0.3333333333333333,
             "#9c179e"
            ],
            [
             0.4444444444444444,
             "#bd3786"
            ],
            [
             0.5555555555555556,
             "#d8576b"
            ],
            [
             0.6666666666666666,
             "#ed7953"
            ],
            [
             0.7777777777777778,
             "#fb9f3a"
            ],
            [
             0.8888888888888888,
             "#fdca26"
            ],
            [
             1,
             "#f0f921"
            ]
           ],
           "sequentialminus": [
            [
             0,
             "#0d0887"
            ],
            [
             0.1111111111111111,
             "#46039f"
            ],
            [
             0.2222222222222222,
             "#7201a8"
            ],
            [
             0.3333333333333333,
             "#9c179e"
            ],
            [
             0.4444444444444444,
             "#bd3786"
            ],
            [
             0.5555555555555556,
             "#d8576b"
            ],
            [
             0.6666666666666666,
             "#ed7953"
            ],
            [
             0.7777777777777778,
             "#fb9f3a"
            ],
            [
             0.8888888888888888,
             "#fdca26"
            ],
            [
             1,
             "#f0f921"
            ]
           ]
          },
          "colorway": [
           "#636efa",
           "#EF553B",
           "#00cc96",
           "#ab63fa",
           "#FFA15A",
           "#19d3f3",
           "#FF6692",
           "#B6E880",
           "#FF97FF",
           "#FECB52"
          ],
          "font": {
           "color": "#2a3f5f"
          },
          "geo": {
           "bgcolor": "white",
           "lakecolor": "white",
           "landcolor": "#E5ECF6",
           "showlakes": true,
           "showland": true,
           "subunitcolor": "white"
          },
          "hoverlabel": {
           "align": "left"
          },
          "hovermode": "closest",
          "mapbox": {
           "style": "light"
          },
          "paper_bgcolor": "white",
          "plot_bgcolor": "#E5ECF6",
          "polar": {
           "angularaxis": {
            "gridcolor": "white",
            "linecolor": "white",
            "ticks": ""
           },
           "bgcolor": "#E5ECF6",
           "radialaxis": {
            "gridcolor": "white",
            "linecolor": "white",
            "ticks": ""
           }
          },
          "scene": {
           "xaxis": {
            "backgroundcolor": "#E5ECF6",
            "gridcolor": "white",
            "gridwidth": 2,
            "linecolor": "white",
            "showbackground": true,
            "ticks": "",
            "zerolinecolor": "white"
           },
           "yaxis": {
            "backgroundcolor": "#E5ECF6",
            "gridcolor": "white",
            "gridwidth": 2,
            "linecolor": "white",
            "showbackground": true,
            "ticks": "",
            "zerolinecolor": "white"
           },
           "zaxis": {
            "backgroundcolor": "#E5ECF6",
            "gridcolor": "white",
            "gridwidth": 2,
            "linecolor": "white",
            "showbackground": true,
            "ticks": "",
            "zerolinecolor": "white"
           }
          },
          "shapedefaults": {
           "line": {
            "color": "#2a3f5f"
           }
          },
          "ternary": {
           "aaxis": {
            "gridcolor": "white",
            "linecolor": "white",
            "ticks": ""
           },
           "baxis": {
            "gridcolor": "white",
            "linecolor": "white",
            "ticks": ""
           },
           "bgcolor": "#E5ECF6",
           "caxis": {
            "gridcolor": "white",
            "linecolor": "white",
            "ticks": ""
           }
          },
          "title": {
           "x": 0.05
          },
          "xaxis": {
           "automargin": true,
           "gridcolor": "white",
           "linecolor": "white",
           "ticks": "",
           "title": {
            "standoff": 15
           },
           "zerolinecolor": "white",
           "zerolinewidth": 2
          },
          "yaxis": {
           "automargin": true,
           "gridcolor": "white",
           "linecolor": "white",
           "ticks": "",
           "title": {
            "standoff": 15
           },
           "zerolinecolor": "white",
           "zerolinewidth": 2
          }
         }
        },
        "title": {
         "text": "Defined by Percentage of Games Won"
        },
        "xaxis": {
         "anchor": "y",
         "domain": [
          0,
          1
         ],
         "title": {
          "text": "Win_Percentage"
         }
        },
        "yaxis": {
         "anchor": "x",
         "domain": [
          0,
          1
         ],
         "title": {
          "text": "Manager"
         }
        }
       }
      },
      "text/html": [
       "<div>\n",
       "        \n",
       "        \n",
       "            <div id=\"d18b31a3-4eb6-402c-a63c-fae71dedb311\" class=\"plotly-graph-div\" style=\"height:525px; width:100%;\"></div>\n",
       "            <script type=\"text/javascript\">\n",
       "                require([\"plotly\"], function(Plotly) {\n",
       "                    window.PLOTLYENV=window.PLOTLYENV || {};\n",
       "                    \n",
       "                if (document.getElementById(\"d18b31a3-4eb6-402c-a63c-fae71dedb311\")) {\n",
       "                    Plotly.newPlot(\n",
       "                        'd18b31a3-4eb6-402c-a63c-fae71dedb311',\n",
       "                        [{\"alignmentgroup\": \"True\", \"hovertemplate\": \"Win_Percentage=%{marker.color}<br>Manager=%{y}<extra></extra>\", \"legendgroup\": \"\", \"marker\": {\"color\": [50, 51, 52, 54, 55, 58, 58, 59, 66, 72], \"coloraxis\": \"coloraxis\"}, \"name\": \"\", \"offsetgroup\": \"\", \"orientation\": \"h\", \"showlegend\": false, \"textposition\": \"auto\", \"type\": \"bar\", \"x\": [50, 51, 52, 54, 55, 58, 58, 59, 66, 72], \"xaxis\": \"x\", \"y\": [\"J\\u00fcrgen Klopp\", \"Manuel Pellegrini\", \"Giovanni Trapattoni\", \"Ars\\u00e8ne Wenger\", \"Roberto Mancin\", \"Antonio Conte\", \"Sir Alex Ferguson\", \"Carlo Ancelotti\", \"Jose Mourinho\", \"Pep Guardiola\"], \"yaxis\": \"y\"}],\n",
       "                        {\"barmode\": \"relative\", \"coloraxis\": {\"colorbar\": {\"title\": {\"text\": \"Win_Percentage\"}}, \"colorscale\": [[0.0, \"#0d0887\"], [0.1111111111111111, \"#46039f\"], [0.2222222222222222, \"#7201a8\"], [0.3333333333333333, \"#9c179e\"], [0.4444444444444444, \"#bd3786\"], [0.5555555555555556, \"#d8576b\"], [0.6666666666666666, \"#ed7953\"], [0.7777777777777778, \"#fb9f3a\"], [0.8888888888888888, \"#fdca26\"], [1.0, \"#f0f921\"]]}, \"legend\": {\"tracegroupgap\": 0}, \"template\": {\"data\": {\"bar\": [{\"error_x\": {\"color\": \"#2a3f5f\"}, \"error_y\": {\"color\": \"#2a3f5f\"}, \"marker\": {\"line\": {\"color\": \"#E5ECF6\", \"width\": 0.5}}, \"type\": \"bar\"}], \"barpolar\": [{\"marker\": {\"line\": {\"color\": \"#E5ECF6\", \"width\": 0.5}}, \"type\": \"barpolar\"}], \"carpet\": [{\"aaxis\": {\"endlinecolor\": \"#2a3f5f\", \"gridcolor\": \"white\", \"linecolor\": \"white\", \"minorgridcolor\": \"white\", \"startlinecolor\": \"#2a3f5f\"}, \"baxis\": {\"endlinecolor\": \"#2a3f5f\", \"gridcolor\": \"white\", \"linecolor\": \"white\", \"minorgridcolor\": \"white\", \"startlinecolor\": \"#2a3f5f\"}, \"type\": \"carpet\"}], \"choropleth\": [{\"colorbar\": {\"outlinewidth\": 0, \"ticks\": \"\"}, \"type\": \"choropleth\"}], \"contour\": [{\"colorbar\": {\"outlinewidth\": 0, \"ticks\": \"\"}, \"colorscale\": [[0.0, \"#0d0887\"], [0.1111111111111111, \"#46039f\"], [0.2222222222222222, \"#7201a8\"], [0.3333333333333333, \"#9c179e\"], [0.4444444444444444, \"#bd3786\"], [0.5555555555555556, \"#d8576b\"], [0.6666666666666666, \"#ed7953\"], [0.7777777777777778, \"#fb9f3a\"], [0.8888888888888888, \"#fdca26\"], [1.0, \"#f0f921\"]], \"type\": \"contour\"}], \"contourcarpet\": [{\"colorbar\": {\"outlinewidth\": 0, \"ticks\": \"\"}, \"type\": \"contourcarpet\"}], \"heatmap\": [{\"colorbar\": {\"outlinewidth\": 0, \"ticks\": \"\"}, \"colorscale\": [[0.0, \"#0d0887\"], [0.1111111111111111, \"#46039f\"], [0.2222222222222222, \"#7201a8\"], [0.3333333333333333, \"#9c179e\"], [0.4444444444444444, \"#bd3786\"], [0.5555555555555556, \"#d8576b\"], [0.6666666666666666, \"#ed7953\"], [0.7777777777777778, \"#fb9f3a\"], [0.8888888888888888, \"#fdca26\"], [1.0, \"#f0f921\"]], \"type\": \"heatmap\"}], \"heatmapgl\": [{\"colorbar\": {\"outlinewidth\": 0, \"ticks\": \"\"}, \"colorscale\": [[0.0, \"#0d0887\"], [0.1111111111111111, \"#46039f\"], [0.2222222222222222, \"#7201a8\"], [0.3333333333333333, \"#9c179e\"], [0.4444444444444444, \"#bd3786\"], [0.5555555555555556, \"#d8576b\"], [0.6666666666666666, \"#ed7953\"], [0.7777777777777778, \"#fb9f3a\"], [0.8888888888888888, \"#fdca26\"], [1.0, \"#f0f921\"]], \"type\": \"heatmapgl\"}], \"histogram\": [{\"marker\": {\"colorbar\": {\"outlinewidth\": 0, \"ticks\": \"\"}}, \"type\": \"histogram\"}], \"histogram2d\": [{\"colorbar\": {\"outlinewidth\": 0, \"ticks\": \"\"}, \"colorscale\": [[0.0, \"#0d0887\"], [0.1111111111111111, \"#46039f\"], [0.2222222222222222, \"#7201a8\"], [0.3333333333333333, \"#9c179e\"], [0.4444444444444444, \"#bd3786\"], [0.5555555555555556, \"#d8576b\"], [0.6666666666666666, \"#ed7953\"], [0.7777777777777778, \"#fb9f3a\"], [0.8888888888888888, \"#fdca26\"], [1.0, \"#f0f921\"]], \"type\": \"histogram2d\"}], \"histogram2dcontour\": [{\"colorbar\": {\"outlinewidth\": 0, \"ticks\": \"\"}, \"colorscale\": [[0.0, \"#0d0887\"], [0.1111111111111111, \"#46039f\"], [0.2222222222222222, \"#7201a8\"], [0.3333333333333333, \"#9c179e\"], [0.4444444444444444, \"#bd3786\"], [0.5555555555555556, \"#d8576b\"], [0.6666666666666666, \"#ed7953\"], [0.7777777777777778, \"#fb9f3a\"], [0.8888888888888888, \"#fdca26\"], [1.0, \"#f0f921\"]], \"type\": \"histogram2dcontour\"}], \"mesh3d\": [{\"colorbar\": {\"outlinewidth\": 0, \"ticks\": \"\"}, \"type\": \"mesh3d\"}], \"parcoords\": [{\"line\": {\"colorbar\": {\"outlinewidth\": 0, \"ticks\": \"\"}}, \"type\": \"parcoords\"}], \"pie\": [{\"automargin\": true, \"type\": \"pie\"}], \"scatter\": [{\"marker\": {\"colorbar\": {\"outlinewidth\": 0, \"ticks\": \"\"}}, \"type\": \"scatter\"}], \"scatter3d\": [{\"line\": {\"colorbar\": {\"outlinewidth\": 0, \"ticks\": \"\"}}, \"marker\": {\"colorbar\": {\"outlinewidth\": 0, \"ticks\": \"\"}}, \"type\": \"scatter3d\"}], \"scattercarpet\": [{\"marker\": {\"colorbar\": {\"outlinewidth\": 0, \"ticks\": \"\"}}, \"type\": \"scattercarpet\"}], \"scattergeo\": [{\"marker\": {\"colorbar\": {\"outlinewidth\": 0, \"ticks\": \"\"}}, \"type\": \"scattergeo\"}], \"scattergl\": [{\"marker\": {\"colorbar\": {\"outlinewidth\": 0, \"ticks\": \"\"}}, \"type\": \"scattergl\"}], \"scattermapbox\": [{\"marker\": {\"colorbar\": {\"outlinewidth\": 0, \"ticks\": \"\"}}, \"type\": \"scattermapbox\"}], \"scatterpolar\": [{\"marker\": {\"colorbar\": {\"outlinewidth\": 0, \"ticks\": \"\"}}, \"type\": \"scatterpolar\"}], \"scatterpolargl\": [{\"marker\": {\"colorbar\": {\"outlinewidth\": 0, \"ticks\": \"\"}}, \"type\": \"scatterpolargl\"}], \"scatterternary\": [{\"marker\": {\"colorbar\": {\"outlinewidth\": 0, \"ticks\": \"\"}}, \"type\": \"scatterternary\"}], \"surface\": [{\"colorbar\": {\"outlinewidth\": 0, \"ticks\": \"\"}, \"colorscale\": [[0.0, \"#0d0887\"], [0.1111111111111111, \"#46039f\"], [0.2222222222222222, \"#7201a8\"], [0.3333333333333333, \"#9c179e\"], [0.4444444444444444, \"#bd3786\"], [0.5555555555555556, \"#d8576b\"], [0.6666666666666666, \"#ed7953\"], [0.7777777777777778, \"#fb9f3a\"], [0.8888888888888888, \"#fdca26\"], [1.0, \"#f0f921\"]], \"type\": \"surface\"}], \"table\": [{\"cells\": {\"fill\": {\"color\": \"#EBF0F8\"}, \"line\": {\"color\": \"white\"}}, \"header\": {\"fill\": {\"color\": \"#C8D4E3\"}, \"line\": {\"color\": \"white\"}}, \"type\": \"table\"}]}, \"layout\": {\"annotationdefaults\": {\"arrowcolor\": \"#2a3f5f\", \"arrowhead\": 0, \"arrowwidth\": 1}, \"coloraxis\": {\"colorbar\": {\"outlinewidth\": 0, \"ticks\": \"\"}}, \"colorscale\": {\"diverging\": [[0, \"#8e0152\"], [0.1, \"#c51b7d\"], [0.2, \"#de77ae\"], [0.3, \"#f1b6da\"], [0.4, \"#fde0ef\"], [0.5, \"#f7f7f7\"], [0.6, \"#e6f5d0\"], [0.7, \"#b8e186\"], [0.8, \"#7fbc41\"], [0.9, \"#4d9221\"], [1, \"#276419\"]], \"sequential\": [[0.0, \"#0d0887\"], [0.1111111111111111, \"#46039f\"], [0.2222222222222222, \"#7201a8\"], [0.3333333333333333, \"#9c179e\"], [0.4444444444444444, \"#bd3786\"], [0.5555555555555556, \"#d8576b\"], [0.6666666666666666, \"#ed7953\"], [0.7777777777777778, \"#fb9f3a\"], [0.8888888888888888, \"#fdca26\"], [1.0, \"#f0f921\"]], \"sequentialminus\": [[0.0, \"#0d0887\"], [0.1111111111111111, \"#46039f\"], [0.2222222222222222, \"#7201a8\"], [0.3333333333333333, \"#9c179e\"], [0.4444444444444444, \"#bd3786\"], [0.5555555555555556, \"#d8576b\"], [0.6666666666666666, \"#ed7953\"], [0.7777777777777778, \"#fb9f3a\"], [0.8888888888888888, \"#fdca26\"], [1.0, \"#f0f921\"]]}, \"colorway\": [\"#636efa\", \"#EF553B\", \"#00cc96\", \"#ab63fa\", \"#FFA15A\", \"#19d3f3\", \"#FF6692\", \"#B6E880\", \"#FF97FF\", \"#FECB52\"], \"font\": {\"color\": \"#2a3f5f\"}, \"geo\": {\"bgcolor\": \"white\", \"lakecolor\": \"white\", \"landcolor\": \"#E5ECF6\", \"showlakes\": true, \"showland\": true, \"subunitcolor\": \"white\"}, \"hoverlabel\": {\"align\": \"left\"}, \"hovermode\": \"closest\", \"mapbox\": {\"style\": \"light\"}, \"paper_bgcolor\": \"white\", \"plot_bgcolor\": \"#E5ECF6\", \"polar\": {\"angularaxis\": {\"gridcolor\": \"white\", \"linecolor\": \"white\", \"ticks\": \"\"}, \"bgcolor\": \"#E5ECF6\", \"radialaxis\": {\"gridcolor\": \"white\", \"linecolor\": \"white\", \"ticks\": \"\"}}, \"scene\": {\"xaxis\": {\"backgroundcolor\": \"#E5ECF6\", \"gridcolor\": \"white\", \"gridwidth\": 2, \"linecolor\": \"white\", \"showbackground\": true, \"ticks\": \"\", \"zerolinecolor\": \"white\"}, \"yaxis\": {\"backgroundcolor\": \"#E5ECF6\", \"gridcolor\": \"white\", \"gridwidth\": 2, \"linecolor\": \"white\", \"showbackground\": true, \"ticks\": \"\", \"zerolinecolor\": \"white\"}, \"zaxis\": {\"backgroundcolor\": \"#E5ECF6\", \"gridcolor\": \"white\", \"gridwidth\": 2, \"linecolor\": \"white\", \"showbackground\": true, \"ticks\": \"\", \"zerolinecolor\": \"white\"}}, \"shapedefaults\": {\"line\": {\"color\": \"#2a3f5f\"}}, \"ternary\": {\"aaxis\": {\"gridcolor\": \"white\", \"linecolor\": \"white\", \"ticks\": \"\"}, \"baxis\": {\"gridcolor\": \"white\", \"linecolor\": \"white\", \"ticks\": \"\"}, \"bgcolor\": \"#E5ECF6\", \"caxis\": {\"gridcolor\": \"white\", \"linecolor\": \"white\", \"ticks\": \"\"}}, \"title\": {\"x\": 0.05}, \"xaxis\": {\"automargin\": true, \"gridcolor\": \"white\", \"linecolor\": \"white\", \"ticks\": \"\", \"title\": {\"standoff\": 15}, \"zerolinecolor\": \"white\", \"zerolinewidth\": 2}, \"yaxis\": {\"automargin\": true, \"gridcolor\": \"white\", \"linecolor\": \"white\", \"ticks\": \"\", \"title\": {\"standoff\": 15}, \"zerolinecolor\": \"white\", \"zerolinewidth\": 2}}}, \"title\": {\"text\": \"Defined by Percentage of Games Won\"}, \"xaxis\": {\"anchor\": \"y\", \"domain\": [0.0, 1.0], \"title\": {\"text\": \"Win_Percentage\"}}, \"yaxis\": {\"anchor\": \"x\", \"domain\": [0.0, 1.0], \"title\": {\"text\": \"Manager\"}}},\n",
       "                        {\"responsive\": true}\n",
       "                    ).then(function(){\n",
       "                            \n",
       "var gd = document.getElementById('d18b31a3-4eb6-402c-a63c-fae71dedb311');\n",
       "var x = new MutationObserver(function (mutations, observer) {{\n",
       "        var display = window.getComputedStyle(gd).display;\n",
       "        if (!display || display === 'none') {{\n",
       "            console.log([gd, 'removed!']);\n",
       "            Plotly.purge(gd);\n",
       "            observer.disconnect();\n",
       "        }}\n",
       "}});\n",
       "\n",
       "// Listen for the removal of the full notebook cells\n",
       "var notebookContainer = gd.closest('#notebook-container');\n",
       "if (notebookContainer) {{\n",
       "    x.observe(notebookContainer, {childList: true});\n",
       "}}\n",
       "\n",
       "// Listen for the clearing of the current output cell\n",
       "var outputEl = gd.closest('.output');\n",
       "if (outputEl) {{\n",
       "    x.observe(outputEl, {childList: true});\n",
       "}}\n",
       "\n",
       "                        })\n",
       "                };\n",
       "                });\n",
       "            </script>\n",
       "        </div>"
      ]
     },
     "metadata": {},
     "output_type": "display_data"
    }
   ],
   "source": [
    "import plotly.express as px\n",
    "\n",
    "fig = px.bar(Win_Percentage, x=\"Win_Percentage\", y=\"Manager\", color=\"Win_Percentage\", title=\"Defined by Percentage of Games Won\", orientation='h')\n",
    "fig.show()"
   ]
  },
  {
   "cell_type": "code",
   "execution_count": 78,
   "metadata": {},
   "outputs": [
    {
     "data": {
      "application/vnd.plotly.v1+json": {
       "config": {
        "plotlyServerURL": "https://plot.ly"
       },
       "data": [
        {
         "hovertemplate": "<b>%{hovertext}</b><br><br>UEFA_CL_Cup_Won=%{marker.color}<br>Manager=%{y}<extra></extra>",
         "hovertext": [
          "Manuel Pellegrini",
          "Antonio Conte",
          "Roberto Mancin",
          "Arsène Wenger",
          "Jürgen Klopp",
          "Giovanni Trapattoni",
          "Pep Guardiola",
          "Jose Mourinho",
          "Sir Alex Ferguson",
          "Carlo Ancelotti"
         ],
         "legendgroup": "",
         "marker": {
          "color": [
           0,
           0,
           0,
           0,
           1,
           1,
           2,
           2,
           2,
           3
          ],
          "coloraxis": "coloraxis",
          "size": [
           0,
           0,
           0,
           0,
           1,
           1,
           2,
           2,
           2,
           3
          ],
          "sizemode": "area",
          "sizeref": 0.0006122448979591836,
          "symbol": "circle"
         },
         "mode": "markers",
         "name": "",
         "orientation": "h",
         "showlegend": false,
         "type": "scatter",
         "x": [
          0,
          0,
          0,
          0,
          1,
          1,
          2,
          2,
          2,
          3
         ],
         "xaxis": "x",
         "y": [
          "Manuel Pellegrini",
          "Antonio Conte",
          "Roberto Mancin",
          "Arsène Wenger",
          "Jürgen Klopp",
          "Giovanni Trapattoni",
          "Pep Guardiola",
          "Jose Mourinho",
          "Sir Alex Ferguson",
          "Carlo Ancelotti"
         ],
         "yaxis": "y"
        }
       ],
       "layout": {
        "coloraxis": {
         "colorbar": {
          "title": {
           "text": "UEFA_CL_Cup_Won"
          }
         },
         "colorscale": [
          [
           0,
           "#0d0887"
          ],
          [
           0.1111111111111111,
           "#46039f"
          ],
          [
           0.2222222222222222,
           "#7201a8"
          ],
          [
           0.3333333333333333,
           "#9c179e"
          ],
          [
           0.4444444444444444,
           "#bd3786"
          ],
          [
           0.5555555555555556,
           "#d8576b"
          ],
          [
           0.6666666666666666,
           "#ed7953"
          ],
          [
           0.7777777777777778,
           "#fb9f3a"
          ],
          [
           0.8888888888888888,
           "#fdca26"
          ],
          [
           1,
           "#f0f921"
          ]
         ]
        },
        "legend": {
         "itemsizing": "constant",
         "tracegroupgap": 0
        },
        "template": {
         "data": {
          "bar": [
           {
            "error_x": {
             "color": "#2a3f5f"
            },
            "error_y": {
             "color": "#2a3f5f"
            },
            "marker": {
             "line": {
              "color": "#E5ECF6",
              "width": 0.5
             }
            },
            "type": "bar"
           }
          ],
          "barpolar": [
           {
            "marker": {
             "line": {
              "color": "#E5ECF6",
              "width": 0.5
             }
            },
            "type": "barpolar"
           }
          ],
          "carpet": [
           {
            "aaxis": {
             "endlinecolor": "#2a3f5f",
             "gridcolor": "white",
             "linecolor": "white",
             "minorgridcolor": "white",
             "startlinecolor": "#2a3f5f"
            },
            "baxis": {
             "endlinecolor": "#2a3f5f",
             "gridcolor": "white",
             "linecolor": "white",
             "minorgridcolor": "white",
             "startlinecolor": "#2a3f5f"
            },
            "type": "carpet"
           }
          ],
          "choropleth": [
           {
            "colorbar": {
             "outlinewidth": 0,
             "ticks": ""
            },
            "type": "choropleth"
           }
          ],
          "contour": [
           {
            "colorbar": {
             "outlinewidth": 0,
             "ticks": ""
            },
            "colorscale": [
             [
              0,
              "#0d0887"
             ],
             [
              0.1111111111111111,
              "#46039f"
             ],
             [
              0.2222222222222222,
              "#7201a8"
             ],
             [
              0.3333333333333333,
              "#9c179e"
             ],
             [
              0.4444444444444444,
              "#bd3786"
             ],
             [
              0.5555555555555556,
              "#d8576b"
             ],
             [
              0.6666666666666666,
              "#ed7953"
             ],
             [
              0.7777777777777778,
              "#fb9f3a"
             ],
             [
              0.8888888888888888,
              "#fdca26"
             ],
             [
              1,
              "#f0f921"
             ]
            ],
            "type": "contour"
           }
          ],
          "contourcarpet": [
           {
            "colorbar": {
             "outlinewidth": 0,
             "ticks": ""
            },
            "type": "contourcarpet"
           }
          ],
          "heatmap": [
           {
            "colorbar": {
             "outlinewidth": 0,
             "ticks": ""
            },
            "colorscale": [
             [
              0,
              "#0d0887"
             ],
             [
              0.1111111111111111,
              "#46039f"
             ],
             [
              0.2222222222222222,
              "#7201a8"
             ],
             [
              0.3333333333333333,
              "#9c179e"
             ],
             [
              0.4444444444444444,
              "#bd3786"
             ],
             [
              0.5555555555555556,
              "#d8576b"
             ],
             [
              0.6666666666666666,
              "#ed7953"
             ],
             [
              0.7777777777777778,
              "#fb9f3a"
             ],
             [
              0.8888888888888888,
              "#fdca26"
             ],
             [
              1,
              "#f0f921"
             ]
            ],
            "type": "heatmap"
           }
          ],
          "heatmapgl": [
           {
            "colorbar": {
             "outlinewidth": 0,
             "ticks": ""
            },
            "colorscale": [
             [
              0,
              "#0d0887"
             ],
             [
              0.1111111111111111,
              "#46039f"
             ],
             [
              0.2222222222222222,
              "#7201a8"
             ],
             [
              0.3333333333333333,
              "#9c179e"
             ],
             [
              0.4444444444444444,
              "#bd3786"
             ],
             [
              0.5555555555555556,
              "#d8576b"
             ],
             [
              0.6666666666666666,
              "#ed7953"
             ],
             [
              0.7777777777777778,
              "#fb9f3a"
             ],
             [
              0.8888888888888888,
              "#fdca26"
             ],
             [
              1,
              "#f0f921"
             ]
            ],
            "type": "heatmapgl"
           }
          ],
          "histogram": [
           {
            "marker": {
             "colorbar": {
              "outlinewidth": 0,
              "ticks": ""
             }
            },
            "type": "histogram"
           }
          ],
          "histogram2d": [
           {
            "colorbar": {
             "outlinewidth": 0,
             "ticks": ""
            },
            "colorscale": [
             [
              0,
              "#0d0887"
             ],
             [
              0.1111111111111111,
              "#46039f"
             ],
             [
              0.2222222222222222,
              "#7201a8"
             ],
             [
              0.3333333333333333,
              "#9c179e"
             ],
             [
              0.4444444444444444,
              "#bd3786"
             ],
             [
              0.5555555555555556,
              "#d8576b"
             ],
             [
              0.6666666666666666,
              "#ed7953"
             ],
             [
              0.7777777777777778,
              "#fb9f3a"
             ],
             [
              0.8888888888888888,
              "#fdca26"
             ],
             [
              1,
              "#f0f921"
             ]
            ],
            "type": "histogram2d"
           }
          ],
          "histogram2dcontour": [
           {
            "colorbar": {
             "outlinewidth": 0,
             "ticks": ""
            },
            "colorscale": [
             [
              0,
              "#0d0887"
             ],
             [
              0.1111111111111111,
              "#46039f"
             ],
             [
              0.2222222222222222,
              "#7201a8"
             ],
             [
              0.3333333333333333,
              "#9c179e"
             ],
             [
              0.4444444444444444,
              "#bd3786"
             ],
             [
              0.5555555555555556,
              "#d8576b"
             ],
             [
              0.6666666666666666,
              "#ed7953"
             ],
             [
              0.7777777777777778,
              "#fb9f3a"
             ],
             [
              0.8888888888888888,
              "#fdca26"
             ],
             [
              1,
              "#f0f921"
             ]
            ],
            "type": "histogram2dcontour"
           }
          ],
          "mesh3d": [
           {
            "colorbar": {
             "outlinewidth": 0,
             "ticks": ""
            },
            "type": "mesh3d"
           }
          ],
          "parcoords": [
           {
            "line": {
             "colorbar": {
              "outlinewidth": 0,
              "ticks": ""
             }
            },
            "type": "parcoords"
           }
          ],
          "pie": [
           {
            "automargin": true,
            "type": "pie"
           }
          ],
          "scatter": [
           {
            "marker": {
             "colorbar": {
              "outlinewidth": 0,
              "ticks": ""
             }
            },
            "type": "scatter"
           }
          ],
          "scatter3d": [
           {
            "line": {
             "colorbar": {
              "outlinewidth": 0,
              "ticks": ""
             }
            },
            "marker": {
             "colorbar": {
              "outlinewidth": 0,
              "ticks": ""
             }
            },
            "type": "scatter3d"
           }
          ],
          "scattercarpet": [
           {
            "marker": {
             "colorbar": {
              "outlinewidth": 0,
              "ticks": ""
             }
            },
            "type": "scattercarpet"
           }
          ],
          "scattergeo": [
           {
            "marker": {
             "colorbar": {
              "outlinewidth": 0,
              "ticks": ""
             }
            },
            "type": "scattergeo"
           }
          ],
          "scattergl": [
           {
            "marker": {
             "colorbar": {
              "outlinewidth": 0,
              "ticks": ""
             }
            },
            "type": "scattergl"
           }
          ],
          "scattermapbox": [
           {
            "marker": {
             "colorbar": {
              "outlinewidth": 0,
              "ticks": ""
             }
            },
            "type": "scattermapbox"
           }
          ],
          "scatterpolar": [
           {
            "marker": {
             "colorbar": {
              "outlinewidth": 0,
              "ticks": ""
             }
            },
            "type": "scatterpolar"
           }
          ],
          "scatterpolargl": [
           {
            "marker": {
             "colorbar": {
              "outlinewidth": 0,
              "ticks": ""
             }
            },
            "type": "scatterpolargl"
           }
          ],
          "scatterternary": [
           {
            "marker": {
             "colorbar": {
              "outlinewidth": 0,
              "ticks": ""
             }
            },
            "type": "scatterternary"
           }
          ],
          "surface": [
           {
            "colorbar": {
             "outlinewidth": 0,
             "ticks": ""
            },
            "colorscale": [
             [
              0,
              "#0d0887"
             ],
             [
              0.1111111111111111,
              "#46039f"
             ],
             [
              0.2222222222222222,
              "#7201a8"
             ],
             [
              0.3333333333333333,
              "#9c179e"
             ],
             [
              0.4444444444444444,
              "#bd3786"
             ],
             [
              0.5555555555555556,
              "#d8576b"
             ],
             [
              0.6666666666666666,
              "#ed7953"
             ],
             [
              0.7777777777777778,
              "#fb9f3a"
             ],
             [
              0.8888888888888888,
              "#fdca26"
             ],
             [
              1,
              "#f0f921"
             ]
            ],
            "type": "surface"
           }
          ],
          "table": [
           {
            "cells": {
             "fill": {
              "color": "#EBF0F8"
             },
             "line": {
              "color": "white"
             }
            },
            "header": {
             "fill": {
              "color": "#C8D4E3"
             },
             "line": {
              "color": "white"
             }
            },
            "type": "table"
           }
          ]
         },
         "layout": {
          "annotationdefaults": {
           "arrowcolor": "#2a3f5f",
           "arrowhead": 0,
           "arrowwidth": 1
          },
          "coloraxis": {
           "colorbar": {
            "outlinewidth": 0,
            "ticks": ""
           }
          },
          "colorscale": {
           "diverging": [
            [
             0,
             "#8e0152"
            ],
            [
             0.1,
             "#c51b7d"
            ],
            [
             0.2,
             "#de77ae"
            ],
            [
             0.3,
             "#f1b6da"
            ],
            [
             0.4,
             "#fde0ef"
            ],
            [
             0.5,
             "#f7f7f7"
            ],
            [
             0.6,
             "#e6f5d0"
            ],
            [
             0.7,
             "#b8e186"
            ],
            [
             0.8,
             "#7fbc41"
            ],
            [
             0.9,
             "#4d9221"
            ],
            [
             1,
             "#276419"
            ]
           ],
           "sequential": [
            [
             0,
             "#0d0887"
            ],
            [
             0.1111111111111111,
             "#46039f"
            ],
            [
             0.2222222222222222,
             "#7201a8"
            ],
            [
             0.3333333333333333,
             "#9c179e"
            ],
            [
             0.4444444444444444,
             "#bd3786"
            ],
            [
             0.5555555555555556,
             "#d8576b"
            ],
            [
             0.6666666666666666,
             "#ed7953"
            ],
            [
             0.7777777777777778,
             "#fb9f3a"
            ],
            [
             0.8888888888888888,
             "#fdca26"
            ],
            [
             1,
             "#f0f921"
            ]
           ],
           "sequentialminus": [
            [
             0,
             "#0d0887"
            ],
            [
             0.1111111111111111,
             "#46039f"
            ],
            [
             0.2222222222222222,
             "#7201a8"
            ],
            [
             0.3333333333333333,
             "#9c179e"
            ],
            [
             0.4444444444444444,
             "#bd3786"
            ],
            [
             0.5555555555555556,
             "#d8576b"
            ],
            [
             0.6666666666666666,
             "#ed7953"
            ],
            [
             0.7777777777777778,
             "#fb9f3a"
            ],
            [
             0.8888888888888888,
             "#fdca26"
            ],
            [
             1,
             "#f0f921"
            ]
           ]
          },
          "colorway": [
           "#636efa",
           "#EF553B",
           "#00cc96",
           "#ab63fa",
           "#FFA15A",
           "#19d3f3",
           "#FF6692",
           "#B6E880",
           "#FF97FF",
           "#FECB52"
          ],
          "font": {
           "color": "#2a3f5f"
          },
          "geo": {
           "bgcolor": "white",
           "lakecolor": "white",
           "landcolor": "#E5ECF6",
           "showlakes": true,
           "showland": true,
           "subunitcolor": "white"
          },
          "hoverlabel": {
           "align": "left"
          },
          "hovermode": "closest",
          "mapbox": {
           "style": "light"
          },
          "paper_bgcolor": "white",
          "plot_bgcolor": "#E5ECF6",
          "polar": {
           "angularaxis": {
            "gridcolor": "white",
            "linecolor": "white",
            "ticks": ""
           },
           "bgcolor": "#E5ECF6",
           "radialaxis": {
            "gridcolor": "white",
            "linecolor": "white",
            "ticks": ""
           }
          },
          "scene": {
           "xaxis": {
            "backgroundcolor": "#E5ECF6",
            "gridcolor": "white",
            "gridwidth": 2,
            "linecolor": "white",
            "showbackground": true,
            "ticks": "",
            "zerolinecolor": "white"
           },
           "yaxis": {
            "backgroundcolor": "#E5ECF6",
            "gridcolor": "white",
            "gridwidth": 2,
            "linecolor": "white",
            "showbackground": true,
            "ticks": "",
            "zerolinecolor": "white"
           },
           "zaxis": {
            "backgroundcolor": "#E5ECF6",
            "gridcolor": "white",
            "gridwidth": 2,
            "linecolor": "white",
            "showbackground": true,
            "ticks": "",
            "zerolinecolor": "white"
           }
          },
          "shapedefaults": {
           "line": {
            "color": "#2a3f5f"
           }
          },
          "ternary": {
           "aaxis": {
            "gridcolor": "white",
            "linecolor": "white",
            "ticks": ""
           },
           "baxis": {
            "gridcolor": "white",
            "linecolor": "white",
            "ticks": ""
           },
           "bgcolor": "#E5ECF6",
           "caxis": {
            "gridcolor": "white",
            "linecolor": "white",
            "ticks": ""
           }
          },
          "title": {
           "x": 0.05
          },
          "xaxis": {
           "automargin": true,
           "gridcolor": "white",
           "linecolor": "white",
           "ticks": "",
           "title": {
            "standoff": 15
           },
           "zerolinecolor": "white",
           "zerolinewidth": 2
          },
          "yaxis": {
           "automargin": true,
           "gridcolor": "white",
           "linecolor": "white",
           "ticks": "",
           "title": {
            "standoff": 15
           },
           "zerolinecolor": "white",
           "zerolinewidth": 2
          }
         }
        },
        "title": {
         "text": "Defined by UEFA CL Trophies"
        },
        "xaxis": {
         "anchor": "y",
         "domain": [
          0,
          1
         ],
         "title": {
          "text": "UEFA_CL_Cup_Won"
         }
        },
        "yaxis": {
         "anchor": "x",
         "domain": [
          0,
          1
         ],
         "title": {
          "text": "Manager"
         }
        }
       }
      },
      "text/html": [
       "<div>\n",
       "        \n",
       "        \n",
       "            <div id=\"55ba8605-052d-4c9b-b40c-4b5b2599bec0\" class=\"plotly-graph-div\" style=\"height:525px; width:100%;\"></div>\n",
       "            <script type=\"text/javascript\">\n",
       "                require([\"plotly\"], function(Plotly) {\n",
       "                    window.PLOTLYENV=window.PLOTLYENV || {};\n",
       "                    \n",
       "                if (document.getElementById(\"55ba8605-052d-4c9b-b40c-4b5b2599bec0\")) {\n",
       "                    Plotly.newPlot(\n",
       "                        '55ba8605-052d-4c9b-b40c-4b5b2599bec0',\n",
       "                        [{\"hovertemplate\": \"<b>%{hovertext}</b><br><br>UEFA_CL_Cup_Won=%{marker.color}<br>Manager=%{y}<extra></extra>\", \"hovertext\": [\"Manuel Pellegrini\", \"Antonio Conte\", \"Roberto Mancin\", \"Ars\\u00e8ne Wenger\", \"J\\u00fcrgen Klopp\", \"Giovanni Trapattoni\", \"Pep Guardiola\", \"Jose Mourinho\", \"Sir Alex Ferguson\", \"Carlo Ancelotti\"], \"legendgroup\": \"\", \"marker\": {\"color\": [0, 0, 0, 0, 1, 1, 2, 2, 2, 3], \"coloraxis\": \"coloraxis\", \"size\": [0, 0, 0, 0, 1, 1, 2, 2, 2, 3], \"sizemode\": \"area\", \"sizeref\": 0.0006122448979591836, \"symbol\": \"circle\"}, \"mode\": \"markers\", \"name\": \"\", \"orientation\": \"h\", \"showlegend\": false, \"type\": \"scatter\", \"x\": [0, 0, 0, 0, 1, 1, 2, 2, 2, 3], \"xaxis\": \"x\", \"y\": [\"Manuel Pellegrini\", \"Antonio Conte\", \"Roberto Mancin\", \"Ars\\u00e8ne Wenger\", \"J\\u00fcrgen Klopp\", \"Giovanni Trapattoni\", \"Pep Guardiola\", \"Jose Mourinho\", \"Sir Alex Ferguson\", \"Carlo Ancelotti\"], \"yaxis\": \"y\"}],\n",
       "                        {\"coloraxis\": {\"colorbar\": {\"title\": {\"text\": \"UEFA_CL_Cup_Won\"}}, \"colorscale\": [[0.0, \"#0d0887\"], [0.1111111111111111, \"#46039f\"], [0.2222222222222222, \"#7201a8\"], [0.3333333333333333, \"#9c179e\"], [0.4444444444444444, \"#bd3786\"], [0.5555555555555556, \"#d8576b\"], [0.6666666666666666, \"#ed7953\"], [0.7777777777777778, \"#fb9f3a\"], [0.8888888888888888, \"#fdca26\"], [1.0, \"#f0f921\"]]}, \"legend\": {\"itemsizing\": \"constant\", \"tracegroupgap\": 0}, \"template\": {\"data\": {\"bar\": [{\"error_x\": {\"color\": \"#2a3f5f\"}, \"error_y\": {\"color\": \"#2a3f5f\"}, \"marker\": {\"line\": {\"color\": \"#E5ECF6\", \"width\": 0.5}}, \"type\": \"bar\"}], \"barpolar\": [{\"marker\": {\"line\": {\"color\": \"#E5ECF6\", \"width\": 0.5}}, \"type\": \"barpolar\"}], \"carpet\": [{\"aaxis\": {\"endlinecolor\": \"#2a3f5f\", \"gridcolor\": \"white\", \"linecolor\": \"white\", \"minorgridcolor\": \"white\", \"startlinecolor\": \"#2a3f5f\"}, \"baxis\": {\"endlinecolor\": \"#2a3f5f\", \"gridcolor\": \"white\", \"linecolor\": \"white\", \"minorgridcolor\": \"white\", \"startlinecolor\": \"#2a3f5f\"}, \"type\": \"carpet\"}], \"choropleth\": [{\"colorbar\": {\"outlinewidth\": 0, \"ticks\": \"\"}, \"type\": \"choropleth\"}], \"contour\": [{\"colorbar\": {\"outlinewidth\": 0, \"ticks\": \"\"}, \"colorscale\": [[0.0, \"#0d0887\"], [0.1111111111111111, \"#46039f\"], [0.2222222222222222, \"#7201a8\"], [0.3333333333333333, \"#9c179e\"], [0.4444444444444444, \"#bd3786\"], [0.5555555555555556, \"#d8576b\"], [0.6666666666666666, \"#ed7953\"], [0.7777777777777778, \"#fb9f3a\"], [0.8888888888888888, \"#fdca26\"], [1.0, \"#f0f921\"]], \"type\": \"contour\"}], \"contourcarpet\": [{\"colorbar\": {\"outlinewidth\": 0, \"ticks\": \"\"}, \"type\": \"contourcarpet\"}], \"heatmap\": [{\"colorbar\": {\"outlinewidth\": 0, \"ticks\": \"\"}, \"colorscale\": [[0.0, \"#0d0887\"], [0.1111111111111111, \"#46039f\"], [0.2222222222222222, \"#7201a8\"], [0.3333333333333333, \"#9c179e\"], [0.4444444444444444, \"#bd3786\"], [0.5555555555555556, \"#d8576b\"], [0.6666666666666666, \"#ed7953\"], [0.7777777777777778, \"#fb9f3a\"], [0.8888888888888888, \"#fdca26\"], [1.0, \"#f0f921\"]], \"type\": \"heatmap\"}], \"heatmapgl\": [{\"colorbar\": {\"outlinewidth\": 0, \"ticks\": \"\"}, \"colorscale\": [[0.0, \"#0d0887\"], [0.1111111111111111, \"#46039f\"], [0.2222222222222222, \"#7201a8\"], [0.3333333333333333, \"#9c179e\"], [0.4444444444444444, \"#bd3786\"], [0.5555555555555556, \"#d8576b\"], [0.6666666666666666, \"#ed7953\"], [0.7777777777777778, \"#fb9f3a\"], [0.8888888888888888, \"#fdca26\"], [1.0, \"#f0f921\"]], \"type\": \"heatmapgl\"}], \"histogram\": [{\"marker\": {\"colorbar\": {\"outlinewidth\": 0, \"ticks\": \"\"}}, \"type\": \"histogram\"}], \"histogram2d\": [{\"colorbar\": {\"outlinewidth\": 0, \"ticks\": \"\"}, \"colorscale\": [[0.0, \"#0d0887\"], [0.1111111111111111, \"#46039f\"], [0.2222222222222222, \"#7201a8\"], [0.3333333333333333, \"#9c179e\"], [0.4444444444444444, \"#bd3786\"], [0.5555555555555556, \"#d8576b\"], [0.6666666666666666, \"#ed7953\"], [0.7777777777777778, \"#fb9f3a\"], [0.8888888888888888, \"#fdca26\"], [1.0, \"#f0f921\"]], \"type\": \"histogram2d\"}], \"histogram2dcontour\": [{\"colorbar\": {\"outlinewidth\": 0, \"ticks\": \"\"}, \"colorscale\": [[0.0, \"#0d0887\"], [0.1111111111111111, \"#46039f\"], [0.2222222222222222, \"#7201a8\"], [0.3333333333333333, \"#9c179e\"], [0.4444444444444444, \"#bd3786\"], [0.5555555555555556, \"#d8576b\"], [0.6666666666666666, \"#ed7953\"], [0.7777777777777778, \"#fb9f3a\"], [0.8888888888888888, \"#fdca26\"], [1.0, \"#f0f921\"]], \"type\": \"histogram2dcontour\"}], \"mesh3d\": [{\"colorbar\": {\"outlinewidth\": 0, \"ticks\": \"\"}, \"type\": \"mesh3d\"}], \"parcoords\": [{\"line\": {\"colorbar\": {\"outlinewidth\": 0, \"ticks\": \"\"}}, \"type\": \"parcoords\"}], \"pie\": [{\"automargin\": true, \"type\": \"pie\"}], \"scatter\": [{\"marker\": {\"colorbar\": {\"outlinewidth\": 0, \"ticks\": \"\"}}, \"type\": \"scatter\"}], \"scatter3d\": [{\"line\": {\"colorbar\": {\"outlinewidth\": 0, \"ticks\": \"\"}}, \"marker\": {\"colorbar\": {\"outlinewidth\": 0, \"ticks\": \"\"}}, \"type\": \"scatter3d\"}], \"scattercarpet\": [{\"marker\": {\"colorbar\": {\"outlinewidth\": 0, \"ticks\": \"\"}}, \"type\": \"scattercarpet\"}], \"scattergeo\": [{\"marker\": {\"colorbar\": {\"outlinewidth\": 0, \"ticks\": \"\"}}, \"type\": \"scattergeo\"}], \"scattergl\": [{\"marker\": {\"colorbar\": {\"outlinewidth\": 0, \"ticks\": \"\"}}, \"type\": \"scattergl\"}], \"scattermapbox\": [{\"marker\": {\"colorbar\": {\"outlinewidth\": 0, \"ticks\": \"\"}}, \"type\": \"scattermapbox\"}], \"scatterpolar\": [{\"marker\": {\"colorbar\": {\"outlinewidth\": 0, \"ticks\": \"\"}}, \"type\": \"scatterpolar\"}], \"scatterpolargl\": [{\"marker\": {\"colorbar\": {\"outlinewidth\": 0, \"ticks\": \"\"}}, \"type\": \"scatterpolargl\"}], \"scatterternary\": [{\"marker\": {\"colorbar\": {\"outlinewidth\": 0, \"ticks\": \"\"}}, \"type\": \"scatterternary\"}], \"surface\": [{\"colorbar\": {\"outlinewidth\": 0, \"ticks\": \"\"}, \"colorscale\": [[0.0, \"#0d0887\"], [0.1111111111111111, \"#46039f\"], [0.2222222222222222, \"#7201a8\"], [0.3333333333333333, \"#9c179e\"], [0.4444444444444444, \"#bd3786\"], [0.5555555555555556, \"#d8576b\"], [0.6666666666666666, \"#ed7953\"], [0.7777777777777778, \"#fb9f3a\"], [0.8888888888888888, \"#fdca26\"], [1.0, \"#f0f921\"]], \"type\": \"surface\"}], \"table\": [{\"cells\": {\"fill\": {\"color\": \"#EBF0F8\"}, \"line\": {\"color\": \"white\"}}, \"header\": {\"fill\": {\"color\": \"#C8D4E3\"}, \"line\": {\"color\": \"white\"}}, \"type\": \"table\"}]}, \"layout\": {\"annotationdefaults\": {\"arrowcolor\": \"#2a3f5f\", \"arrowhead\": 0, \"arrowwidth\": 1}, \"coloraxis\": {\"colorbar\": {\"outlinewidth\": 0, \"ticks\": \"\"}}, \"colorscale\": {\"diverging\": [[0, \"#8e0152\"], [0.1, \"#c51b7d\"], [0.2, \"#de77ae\"], [0.3, \"#f1b6da\"], [0.4, \"#fde0ef\"], [0.5, \"#f7f7f7\"], [0.6, \"#e6f5d0\"], [0.7, \"#b8e186\"], [0.8, \"#7fbc41\"], [0.9, \"#4d9221\"], [1, \"#276419\"]], \"sequential\": [[0.0, \"#0d0887\"], [0.1111111111111111, \"#46039f\"], [0.2222222222222222, \"#7201a8\"], [0.3333333333333333, \"#9c179e\"], [0.4444444444444444, \"#bd3786\"], [0.5555555555555556, \"#d8576b\"], [0.6666666666666666, \"#ed7953\"], [0.7777777777777778, \"#fb9f3a\"], [0.8888888888888888, \"#fdca26\"], [1.0, \"#f0f921\"]], \"sequentialminus\": [[0.0, \"#0d0887\"], [0.1111111111111111, \"#46039f\"], [0.2222222222222222, \"#7201a8\"], [0.3333333333333333, \"#9c179e\"], [0.4444444444444444, \"#bd3786\"], [0.5555555555555556, \"#d8576b\"], [0.6666666666666666, \"#ed7953\"], [0.7777777777777778, \"#fb9f3a\"], [0.8888888888888888, \"#fdca26\"], [1.0, \"#f0f921\"]]}, \"colorway\": [\"#636efa\", \"#EF553B\", \"#00cc96\", \"#ab63fa\", \"#FFA15A\", \"#19d3f3\", \"#FF6692\", \"#B6E880\", \"#FF97FF\", \"#FECB52\"], \"font\": {\"color\": \"#2a3f5f\"}, \"geo\": {\"bgcolor\": \"white\", \"lakecolor\": \"white\", \"landcolor\": \"#E5ECF6\", \"showlakes\": true, \"showland\": true, \"subunitcolor\": \"white\"}, \"hoverlabel\": {\"align\": \"left\"}, \"hovermode\": \"closest\", \"mapbox\": {\"style\": \"light\"}, \"paper_bgcolor\": \"white\", \"plot_bgcolor\": \"#E5ECF6\", \"polar\": {\"angularaxis\": {\"gridcolor\": \"white\", \"linecolor\": \"white\", \"ticks\": \"\"}, \"bgcolor\": \"#E5ECF6\", \"radialaxis\": {\"gridcolor\": \"white\", \"linecolor\": \"white\", \"ticks\": \"\"}}, \"scene\": {\"xaxis\": {\"backgroundcolor\": \"#E5ECF6\", \"gridcolor\": \"white\", \"gridwidth\": 2, \"linecolor\": \"white\", \"showbackground\": true, \"ticks\": \"\", \"zerolinecolor\": \"white\"}, \"yaxis\": {\"backgroundcolor\": \"#E5ECF6\", \"gridcolor\": \"white\", \"gridwidth\": 2, \"linecolor\": \"white\", \"showbackground\": true, \"ticks\": \"\", \"zerolinecolor\": \"white\"}, \"zaxis\": {\"backgroundcolor\": \"#E5ECF6\", \"gridcolor\": \"white\", \"gridwidth\": 2, \"linecolor\": \"white\", \"showbackground\": true, \"ticks\": \"\", \"zerolinecolor\": \"white\"}}, \"shapedefaults\": {\"line\": {\"color\": \"#2a3f5f\"}}, \"ternary\": {\"aaxis\": {\"gridcolor\": \"white\", \"linecolor\": \"white\", \"ticks\": \"\"}, \"baxis\": {\"gridcolor\": \"white\", \"linecolor\": \"white\", \"ticks\": \"\"}, \"bgcolor\": \"#E5ECF6\", \"caxis\": {\"gridcolor\": \"white\", \"linecolor\": \"white\", \"ticks\": \"\"}}, \"title\": {\"x\": 0.05}, \"xaxis\": {\"automargin\": true, \"gridcolor\": \"white\", \"linecolor\": \"white\", \"ticks\": \"\", \"title\": {\"standoff\": 15}, \"zerolinecolor\": \"white\", \"zerolinewidth\": 2}, \"yaxis\": {\"automargin\": true, \"gridcolor\": \"white\", \"linecolor\": \"white\", \"ticks\": \"\", \"title\": {\"standoff\": 15}, \"zerolinecolor\": \"white\", \"zerolinewidth\": 2}}}, \"title\": {\"text\": \"Defined by UEFA CL Trophies\"}, \"xaxis\": {\"anchor\": \"y\", \"domain\": [0.0, 1.0], \"title\": {\"text\": \"UEFA_CL_Cup_Won\"}}, \"yaxis\": {\"anchor\": \"x\", \"domain\": [0.0, 1.0], \"title\": {\"text\": \"Manager\"}}},\n",
       "                        {\"responsive\": true}\n",
       "                    ).then(function(){\n",
       "                            \n",
       "var gd = document.getElementById('55ba8605-052d-4c9b-b40c-4b5b2599bec0');\n",
       "var x = new MutationObserver(function (mutations, observer) {{\n",
       "        var display = window.getComputedStyle(gd).display;\n",
       "        if (!display || display === 'none') {{\n",
       "            console.log([gd, 'removed!']);\n",
       "            Plotly.purge(gd);\n",
       "            observer.disconnect();\n",
       "        }}\n",
       "}});\n",
       "\n",
       "// Listen for the removal of the full notebook cells\n",
       "var notebookContainer = gd.closest('#notebook-container');\n",
       "if (notebookContainer) {{\n",
       "    x.observe(notebookContainer, {childList: true});\n",
       "}}\n",
       "\n",
       "// Listen for the clearing of the current output cell\n",
       "var outputEl = gd.closest('.output');\n",
       "if (outputEl) {{\n",
       "    x.observe(outputEl, {childList: true});\n",
       "}}\n",
       "\n",
       "                        })\n",
       "                };\n",
       "                });\n",
       "            </script>\n",
       "        </div>"
      ]
     },
     "metadata": {},
     "output_type": "display_data"
    }
   ],
   "source": [
    "import plotly.express as px\n",
    "\n",
    "fig = px.scatter(UEFA_CL_Cup_Won, x=\"UEFA_CL_Cup_Won\", y=\"Manager\",size=\"UEFA_CL_Cup_Won\", color=\"UEFA_CL_Cup_Won\", title=\"Defined by UEFA CL Trophies\", hover_name=\"Manager\",size_max=70)\n",
    "fig.show()"
   ]
  },
  {
   "cell_type": "code",
   "execution_count": 67,
   "metadata": {},
   "outputs": [
    {
     "data": {
      "application/vnd.plotly.v1+json": {
       "config": {
        "plotlyServerURL": "https://plot.ly"
       },
       "data": [
        {
         "alignmentgroup": "True",
         "hovertemplate": "Total_Trophies=%{x}<br>Manager=%{y}<extra></extra>",
         "legendgroup": "",
         "marker": {
          "color": "#636efa"
         },
         "name": "",
         "offsetgroup": "",
         "orientation": "h",
         "showlegend": false,
         "textposition": "auto",
         "type": "bar",
         "x": [
          5,
          8,
          8,
          13,
          19,
          21,
          23,
          29,
          33,
          34
         ],
         "xaxis": "x",
         "y": [
          "Manuel Pellegrini",
          "Jürgen Klopp",
          "Antonio Conte",
          "Roberto Mancin",
          "Carlo Ancelotti",
          "Arsène Wenger",
          "Giovanni Trapattoni",
          "Pep Guardiola",
          "Jose Mourinho",
          "Sir Alex Ferguson"
         ],
         "yaxis": "y"
        }
       ],
       "layout": {
        "barmode": "relative",
        "legend": {
         "tracegroupgap": 0
        },
        "template": {
         "data": {
          "bar": [
           {
            "error_x": {
             "color": "#2a3f5f"
            },
            "error_y": {
             "color": "#2a3f5f"
            },
            "marker": {
             "line": {
              "color": "#E5ECF6",
              "width": 0.5
             }
            },
            "type": "bar"
           }
          ],
          "barpolar": [
           {
            "marker": {
             "line": {
              "color": "#E5ECF6",
              "width": 0.5
             }
            },
            "type": "barpolar"
           }
          ],
          "carpet": [
           {
            "aaxis": {
             "endlinecolor": "#2a3f5f",
             "gridcolor": "white",
             "linecolor": "white",
             "minorgridcolor": "white",
             "startlinecolor": "#2a3f5f"
            },
            "baxis": {
             "endlinecolor": "#2a3f5f",
             "gridcolor": "white",
             "linecolor": "white",
             "minorgridcolor": "white",
             "startlinecolor": "#2a3f5f"
            },
            "type": "carpet"
           }
          ],
          "choropleth": [
           {
            "colorbar": {
             "outlinewidth": 0,
             "ticks": ""
            },
            "type": "choropleth"
           }
          ],
          "contour": [
           {
            "colorbar": {
             "outlinewidth": 0,
             "ticks": ""
            },
            "colorscale": [
             [
              0,
              "#0d0887"
             ],
             [
              0.1111111111111111,
              "#46039f"
             ],
             [
              0.2222222222222222,
              "#7201a8"
             ],
             [
              0.3333333333333333,
              "#9c179e"
             ],
             [
              0.4444444444444444,
              "#bd3786"
             ],
             [
              0.5555555555555556,
              "#d8576b"
             ],
             [
              0.6666666666666666,
              "#ed7953"
             ],
             [
              0.7777777777777778,
              "#fb9f3a"
             ],
             [
              0.8888888888888888,
              "#fdca26"
             ],
             [
              1,
              "#f0f921"
             ]
            ],
            "type": "contour"
           }
          ],
          "contourcarpet": [
           {
            "colorbar": {
             "outlinewidth": 0,
             "ticks": ""
            },
            "type": "contourcarpet"
           }
          ],
          "heatmap": [
           {
            "colorbar": {
             "outlinewidth": 0,
             "ticks": ""
            },
            "colorscale": [
             [
              0,
              "#0d0887"
             ],
             [
              0.1111111111111111,
              "#46039f"
             ],
             [
              0.2222222222222222,
              "#7201a8"
             ],
             [
              0.3333333333333333,
              "#9c179e"
             ],
             [
              0.4444444444444444,
              "#bd3786"
             ],
             [
              0.5555555555555556,
              "#d8576b"
             ],
             [
              0.6666666666666666,
              "#ed7953"
             ],
             [
              0.7777777777777778,
              "#fb9f3a"
             ],
             [
              0.8888888888888888,
              "#fdca26"
             ],
             [
              1,
              "#f0f921"
             ]
            ],
            "type": "heatmap"
           }
          ],
          "heatmapgl": [
           {
            "colorbar": {
             "outlinewidth": 0,
             "ticks": ""
            },
            "colorscale": [
             [
              0,
              "#0d0887"
             ],
             [
              0.1111111111111111,
              "#46039f"
             ],
             [
              0.2222222222222222,
              "#7201a8"
             ],
             [
              0.3333333333333333,
              "#9c179e"
             ],
             [
              0.4444444444444444,
              "#bd3786"
             ],
             [
              0.5555555555555556,
              "#d8576b"
             ],
             [
              0.6666666666666666,
              "#ed7953"
             ],
             [
              0.7777777777777778,
              "#fb9f3a"
             ],
             [
              0.8888888888888888,
              "#fdca26"
             ],
             [
              1,
              "#f0f921"
             ]
            ],
            "type": "heatmapgl"
           }
          ],
          "histogram": [
           {
            "marker": {
             "colorbar": {
              "outlinewidth": 0,
              "ticks": ""
             }
            },
            "type": "histogram"
           }
          ],
          "histogram2d": [
           {
            "colorbar": {
             "outlinewidth": 0,
             "ticks": ""
            },
            "colorscale": [
             [
              0,
              "#0d0887"
             ],
             [
              0.1111111111111111,
              "#46039f"
             ],
             [
              0.2222222222222222,
              "#7201a8"
             ],
             [
              0.3333333333333333,
              "#9c179e"
             ],
             [
              0.4444444444444444,
              "#bd3786"
             ],
             [
              0.5555555555555556,
              "#d8576b"
             ],
             [
              0.6666666666666666,
              "#ed7953"
             ],
             [
              0.7777777777777778,
              "#fb9f3a"
             ],
             [
              0.8888888888888888,
              "#fdca26"
             ],
             [
              1,
              "#f0f921"
             ]
            ],
            "type": "histogram2d"
           }
          ],
          "histogram2dcontour": [
           {
            "colorbar": {
             "outlinewidth": 0,
             "ticks": ""
            },
            "colorscale": [
             [
              0,
              "#0d0887"
             ],
             [
              0.1111111111111111,
              "#46039f"
             ],
             [
              0.2222222222222222,
              "#7201a8"
             ],
             [
              0.3333333333333333,
              "#9c179e"
             ],
             [
              0.4444444444444444,
              "#bd3786"
             ],
             [
              0.5555555555555556,
              "#d8576b"
             ],
             [
              0.6666666666666666,
              "#ed7953"
             ],
             [
              0.7777777777777778,
              "#fb9f3a"
             ],
             [
              0.8888888888888888,
              "#fdca26"
             ],
             [
              1,
              "#f0f921"
             ]
            ],
            "type": "histogram2dcontour"
           }
          ],
          "mesh3d": [
           {
            "colorbar": {
             "outlinewidth": 0,
             "ticks": ""
            },
            "type": "mesh3d"
           }
          ],
          "parcoords": [
           {
            "line": {
             "colorbar": {
              "outlinewidth": 0,
              "ticks": ""
             }
            },
            "type": "parcoords"
           }
          ],
          "pie": [
           {
            "automargin": true,
            "type": "pie"
           }
          ],
          "scatter": [
           {
            "marker": {
             "colorbar": {
              "outlinewidth": 0,
              "ticks": ""
             }
            },
            "type": "scatter"
           }
          ],
          "scatter3d": [
           {
            "line": {
             "colorbar": {
              "outlinewidth": 0,
              "ticks": ""
             }
            },
            "marker": {
             "colorbar": {
              "outlinewidth": 0,
              "ticks": ""
             }
            },
            "type": "scatter3d"
           }
          ],
          "scattercarpet": [
           {
            "marker": {
             "colorbar": {
              "outlinewidth": 0,
              "ticks": ""
             }
            },
            "type": "scattercarpet"
           }
          ],
          "scattergeo": [
           {
            "marker": {
             "colorbar": {
              "outlinewidth": 0,
              "ticks": ""
             }
            },
            "type": "scattergeo"
           }
          ],
          "scattergl": [
           {
            "marker": {
             "colorbar": {
              "outlinewidth": 0,
              "ticks": ""
             }
            },
            "type": "scattergl"
           }
          ],
          "scattermapbox": [
           {
            "marker": {
             "colorbar": {
              "outlinewidth": 0,
              "ticks": ""
             }
            },
            "type": "scattermapbox"
           }
          ],
          "scatterpolar": [
           {
            "marker": {
             "colorbar": {
              "outlinewidth": 0,
              "ticks": ""
             }
            },
            "type": "scatterpolar"
           }
          ],
          "scatterpolargl": [
           {
            "marker": {
             "colorbar": {
              "outlinewidth": 0,
              "ticks": ""
             }
            },
            "type": "scatterpolargl"
           }
          ],
          "scatterternary": [
           {
            "marker": {
             "colorbar": {
              "outlinewidth": 0,
              "ticks": ""
             }
            },
            "type": "scatterternary"
           }
          ],
          "surface": [
           {
            "colorbar": {
             "outlinewidth": 0,
             "ticks": ""
            },
            "colorscale": [
             [
              0,
              "#0d0887"
             ],
             [
              0.1111111111111111,
              "#46039f"
             ],
             [
              0.2222222222222222,
              "#7201a8"
             ],
             [
              0.3333333333333333,
              "#9c179e"
             ],
             [
              0.4444444444444444,
              "#bd3786"
             ],
             [
              0.5555555555555556,
              "#d8576b"
             ],
             [
              0.6666666666666666,
              "#ed7953"
             ],
             [
              0.7777777777777778,
              "#fb9f3a"
             ],
             [
              0.8888888888888888,
              "#fdca26"
             ],
             [
              1,
              "#f0f921"
             ]
            ],
            "type": "surface"
           }
          ],
          "table": [
           {
            "cells": {
             "fill": {
              "color": "#EBF0F8"
             },
             "line": {
              "color": "white"
             }
            },
            "header": {
             "fill": {
              "color": "#C8D4E3"
             },
             "line": {
              "color": "white"
             }
            },
            "type": "table"
           }
          ]
         },
         "layout": {
          "annotationdefaults": {
           "arrowcolor": "#2a3f5f",
           "arrowhead": 0,
           "arrowwidth": 1
          },
          "coloraxis": {
           "colorbar": {
            "outlinewidth": 0,
            "ticks": ""
           }
          },
          "colorscale": {
           "diverging": [
            [
             0,
             "#8e0152"
            ],
            [
             0.1,
             "#c51b7d"
            ],
            [
             0.2,
             "#de77ae"
            ],
            [
             0.3,
             "#f1b6da"
            ],
            [
             0.4,
             "#fde0ef"
            ],
            [
             0.5,
             "#f7f7f7"
            ],
            [
             0.6,
             "#e6f5d0"
            ],
            [
             0.7,
             "#b8e186"
            ],
            [
             0.8,
             "#7fbc41"
            ],
            [
             0.9,
             "#4d9221"
            ],
            [
             1,
             "#276419"
            ]
           ],
           "sequential": [
            [
             0,
             "#0d0887"
            ],
            [
             0.1111111111111111,
             "#46039f"
            ],
            [
             0.2222222222222222,
             "#7201a8"
            ],
            [
             0.3333333333333333,
             "#9c179e"
            ],
            [
             0.4444444444444444,
             "#bd3786"
            ],
            [
             0.5555555555555556,
             "#d8576b"
            ],
            [
             0.6666666666666666,
             "#ed7953"
            ],
            [
             0.7777777777777778,
             "#fb9f3a"
            ],
            [
             0.8888888888888888,
             "#fdca26"
            ],
            [
             1,
             "#f0f921"
            ]
           ],
           "sequentialminus": [
            [
             0,
             "#0d0887"
            ],
            [
             0.1111111111111111,
             "#46039f"
            ],
            [
             0.2222222222222222,
             "#7201a8"
            ],
            [
             0.3333333333333333,
             "#9c179e"
            ],
            [
             0.4444444444444444,
             "#bd3786"
            ],
            [
             0.5555555555555556,
             "#d8576b"
            ],
            [
             0.6666666666666666,
             "#ed7953"
            ],
            [
             0.7777777777777778,
             "#fb9f3a"
            ],
            [
             0.8888888888888888,
             "#fdca26"
            ],
            [
             1,
             "#f0f921"
            ]
           ]
          },
          "colorway": [
           "#636efa",
           "#EF553B",
           "#00cc96",
           "#ab63fa",
           "#FFA15A",
           "#19d3f3",
           "#FF6692",
           "#B6E880",
           "#FF97FF",
           "#FECB52"
          ],
          "font": {
           "color": "#2a3f5f"
          },
          "geo": {
           "bgcolor": "white",
           "lakecolor": "white",
           "landcolor": "#E5ECF6",
           "showlakes": true,
           "showland": true,
           "subunitcolor": "white"
          },
          "hoverlabel": {
           "align": "left"
          },
          "hovermode": "closest",
          "mapbox": {
           "style": "light"
          },
          "paper_bgcolor": "white",
          "plot_bgcolor": "#E5ECF6",
          "polar": {
           "angularaxis": {
            "gridcolor": "white",
            "linecolor": "white",
            "ticks": ""
           },
           "bgcolor": "#E5ECF6",
           "radialaxis": {
            "gridcolor": "white",
            "linecolor": "white",
            "ticks": ""
           }
          },
          "scene": {
           "xaxis": {
            "backgroundcolor": "#E5ECF6",
            "gridcolor": "white",
            "gridwidth": 2,
            "linecolor": "white",
            "showbackground": true,
            "ticks": "",
            "zerolinecolor": "white"
           },
           "yaxis": {
            "backgroundcolor": "#E5ECF6",
            "gridcolor": "white",
            "gridwidth": 2,
            "linecolor": "white",
            "showbackground": true,
            "ticks": "",
            "zerolinecolor": "white"
           },
           "zaxis": {
            "backgroundcolor": "#E5ECF6",
            "gridcolor": "white",
            "gridwidth": 2,
            "linecolor": "white",
            "showbackground": true,
            "ticks": "",
            "zerolinecolor": "white"
           }
          },
          "shapedefaults": {
           "line": {
            "color": "#2a3f5f"
           }
          },
          "ternary": {
           "aaxis": {
            "gridcolor": "white",
            "linecolor": "white",
            "ticks": ""
           },
           "baxis": {
            "gridcolor": "white",
            "linecolor": "white",
            "ticks": ""
           },
           "bgcolor": "#E5ECF6",
           "caxis": {
            "gridcolor": "white",
            "linecolor": "white",
            "ticks": ""
           }
          },
          "title": {
           "x": 0.05
          },
          "xaxis": {
           "automargin": true,
           "gridcolor": "white",
           "linecolor": "white",
           "ticks": "",
           "title": {
            "standoff": 15
           },
           "zerolinecolor": "white",
           "zerolinewidth": 2
          },
          "yaxis": {
           "automargin": true,
           "gridcolor": "white",
           "linecolor": "white",
           "ticks": "",
           "title": {
            "standoff": 15
           },
           "zerolinecolor": "white",
           "zerolinewidth": 2
          }
         }
        },
        "title": {
         "text": "Defined by Total Trophies Won"
        },
        "xaxis": {
         "anchor": "y",
         "domain": [
          0,
          1
         ],
         "title": {
          "text": "Total_Trophies"
         }
        },
        "yaxis": {
         "anchor": "x",
         "domain": [
          0,
          1
         ],
         "title": {
          "text": "Manager"
         }
        }
       }
      },
      "text/html": [
       "<div>\n",
       "        \n",
       "        \n",
       "            <div id=\"88edd257-d6b8-4ff5-857a-c11f9b035027\" class=\"plotly-graph-div\" style=\"height:525px; width:100%;\"></div>\n",
       "            <script type=\"text/javascript\">\n",
       "                require([\"plotly\"], function(Plotly) {\n",
       "                    window.PLOTLYENV=window.PLOTLYENV || {};\n",
       "                    \n",
       "                if (document.getElementById(\"88edd257-d6b8-4ff5-857a-c11f9b035027\")) {\n",
       "                    Plotly.newPlot(\n",
       "                        '88edd257-d6b8-4ff5-857a-c11f9b035027',\n",
       "                        [{\"alignmentgroup\": \"True\", \"hovertemplate\": \"Total_Trophies=%{x}<br>Manager=%{y}<extra></extra>\", \"legendgroup\": \"\", \"marker\": {\"color\": \"#636efa\"}, \"name\": \"\", \"offsetgroup\": \"\", \"orientation\": \"h\", \"showlegend\": false, \"textposition\": \"auto\", \"type\": \"bar\", \"x\": [5, 8, 8, 13, 19, 21, 23, 29, 33, 34], \"xaxis\": \"x\", \"y\": [\"Manuel Pellegrini\", \"J\\u00fcrgen Klopp\", \"Antonio Conte\", \"Roberto Mancin\", \"Carlo Ancelotti\", \"Ars\\u00e8ne Wenger\", \"Giovanni Trapattoni\", \"Pep Guardiola\", \"Jose Mourinho\", \"Sir Alex Ferguson\"], \"yaxis\": \"y\"}],\n",
       "                        {\"barmode\": \"relative\", \"legend\": {\"tracegroupgap\": 0}, \"template\": {\"data\": {\"bar\": [{\"error_x\": {\"color\": \"#2a3f5f\"}, \"error_y\": {\"color\": \"#2a3f5f\"}, \"marker\": {\"line\": {\"color\": \"#E5ECF6\", \"width\": 0.5}}, \"type\": \"bar\"}], \"barpolar\": [{\"marker\": {\"line\": {\"color\": \"#E5ECF6\", \"width\": 0.5}}, \"type\": \"barpolar\"}], \"carpet\": [{\"aaxis\": {\"endlinecolor\": \"#2a3f5f\", \"gridcolor\": \"white\", \"linecolor\": \"white\", \"minorgridcolor\": \"white\", \"startlinecolor\": \"#2a3f5f\"}, \"baxis\": {\"endlinecolor\": \"#2a3f5f\", \"gridcolor\": \"white\", \"linecolor\": \"white\", \"minorgridcolor\": \"white\", \"startlinecolor\": \"#2a3f5f\"}, \"type\": \"carpet\"}], \"choropleth\": [{\"colorbar\": {\"outlinewidth\": 0, \"ticks\": \"\"}, \"type\": \"choropleth\"}], \"contour\": [{\"colorbar\": {\"outlinewidth\": 0, \"ticks\": \"\"}, \"colorscale\": [[0.0, \"#0d0887\"], [0.1111111111111111, \"#46039f\"], [0.2222222222222222, \"#7201a8\"], [0.3333333333333333, \"#9c179e\"], [0.4444444444444444, \"#bd3786\"], [0.5555555555555556, \"#d8576b\"], [0.6666666666666666, \"#ed7953\"], [0.7777777777777778, \"#fb9f3a\"], [0.8888888888888888, \"#fdca26\"], [1.0, \"#f0f921\"]], \"type\": \"contour\"}], \"contourcarpet\": [{\"colorbar\": {\"outlinewidth\": 0, \"ticks\": \"\"}, \"type\": \"contourcarpet\"}], \"heatmap\": [{\"colorbar\": {\"outlinewidth\": 0, \"ticks\": \"\"}, \"colorscale\": [[0.0, \"#0d0887\"], [0.1111111111111111, \"#46039f\"], [0.2222222222222222, \"#7201a8\"], [0.3333333333333333, \"#9c179e\"], [0.4444444444444444, \"#bd3786\"], [0.5555555555555556, \"#d8576b\"], [0.6666666666666666, \"#ed7953\"], [0.7777777777777778, \"#fb9f3a\"], [0.8888888888888888, \"#fdca26\"], [1.0, \"#f0f921\"]], \"type\": \"heatmap\"}], \"heatmapgl\": [{\"colorbar\": {\"outlinewidth\": 0, \"ticks\": \"\"}, \"colorscale\": [[0.0, \"#0d0887\"], [0.1111111111111111, \"#46039f\"], [0.2222222222222222, \"#7201a8\"], [0.3333333333333333, \"#9c179e\"], [0.4444444444444444, \"#bd3786\"], [0.5555555555555556, \"#d8576b\"], [0.6666666666666666, \"#ed7953\"], [0.7777777777777778, \"#fb9f3a\"], [0.8888888888888888, \"#fdca26\"], [1.0, \"#f0f921\"]], \"type\": \"heatmapgl\"}], \"histogram\": [{\"marker\": {\"colorbar\": {\"outlinewidth\": 0, \"ticks\": \"\"}}, \"type\": \"histogram\"}], \"histogram2d\": [{\"colorbar\": {\"outlinewidth\": 0, \"ticks\": \"\"}, \"colorscale\": [[0.0, \"#0d0887\"], [0.1111111111111111, \"#46039f\"], [0.2222222222222222, \"#7201a8\"], [0.3333333333333333, \"#9c179e\"], [0.4444444444444444, \"#bd3786\"], [0.5555555555555556, \"#d8576b\"], [0.6666666666666666, \"#ed7953\"], [0.7777777777777778, \"#fb9f3a\"], [0.8888888888888888, \"#fdca26\"], [1.0, \"#f0f921\"]], \"type\": \"histogram2d\"}], \"histogram2dcontour\": [{\"colorbar\": {\"outlinewidth\": 0, \"ticks\": \"\"}, \"colorscale\": [[0.0, \"#0d0887\"], [0.1111111111111111, \"#46039f\"], [0.2222222222222222, \"#7201a8\"], [0.3333333333333333, \"#9c179e\"], [0.4444444444444444, \"#bd3786\"], [0.5555555555555556, \"#d8576b\"], [0.6666666666666666, \"#ed7953\"], [0.7777777777777778, \"#fb9f3a\"], [0.8888888888888888, \"#fdca26\"], [1.0, \"#f0f921\"]], \"type\": \"histogram2dcontour\"}], \"mesh3d\": [{\"colorbar\": {\"outlinewidth\": 0, \"ticks\": \"\"}, \"type\": \"mesh3d\"}], \"parcoords\": [{\"line\": {\"colorbar\": {\"outlinewidth\": 0, \"ticks\": \"\"}}, \"type\": \"parcoords\"}], \"pie\": [{\"automargin\": true, \"type\": \"pie\"}], \"scatter\": [{\"marker\": {\"colorbar\": {\"outlinewidth\": 0, \"ticks\": \"\"}}, \"type\": \"scatter\"}], \"scatter3d\": [{\"line\": {\"colorbar\": {\"outlinewidth\": 0, \"ticks\": \"\"}}, \"marker\": {\"colorbar\": {\"outlinewidth\": 0, \"ticks\": \"\"}}, \"type\": \"scatter3d\"}], \"scattercarpet\": [{\"marker\": {\"colorbar\": {\"outlinewidth\": 0, \"ticks\": \"\"}}, \"type\": \"scattercarpet\"}], \"scattergeo\": [{\"marker\": {\"colorbar\": {\"outlinewidth\": 0, \"ticks\": \"\"}}, \"type\": \"scattergeo\"}], \"scattergl\": [{\"marker\": {\"colorbar\": {\"outlinewidth\": 0, \"ticks\": \"\"}}, \"type\": \"scattergl\"}], \"scattermapbox\": [{\"marker\": {\"colorbar\": {\"outlinewidth\": 0, \"ticks\": \"\"}}, \"type\": \"scattermapbox\"}], \"scatterpolar\": [{\"marker\": {\"colorbar\": {\"outlinewidth\": 0, \"ticks\": \"\"}}, \"type\": \"scatterpolar\"}], \"scatterpolargl\": [{\"marker\": {\"colorbar\": {\"outlinewidth\": 0, \"ticks\": \"\"}}, \"type\": \"scatterpolargl\"}], \"scatterternary\": [{\"marker\": {\"colorbar\": {\"outlinewidth\": 0, \"ticks\": \"\"}}, \"type\": \"scatterternary\"}], \"surface\": [{\"colorbar\": {\"outlinewidth\": 0, \"ticks\": \"\"}, \"colorscale\": [[0.0, \"#0d0887\"], [0.1111111111111111, \"#46039f\"], [0.2222222222222222, \"#7201a8\"], [0.3333333333333333, \"#9c179e\"], [0.4444444444444444, \"#bd3786\"], [0.5555555555555556, \"#d8576b\"], [0.6666666666666666, \"#ed7953\"], [0.7777777777777778, \"#fb9f3a\"], [0.8888888888888888, \"#fdca26\"], [1.0, \"#f0f921\"]], \"type\": \"surface\"}], \"table\": [{\"cells\": {\"fill\": {\"color\": \"#EBF0F8\"}, \"line\": {\"color\": \"white\"}}, \"header\": {\"fill\": {\"color\": \"#C8D4E3\"}, \"line\": {\"color\": \"white\"}}, \"type\": \"table\"}]}, \"layout\": {\"annotationdefaults\": {\"arrowcolor\": \"#2a3f5f\", \"arrowhead\": 0, \"arrowwidth\": 1}, \"coloraxis\": {\"colorbar\": {\"outlinewidth\": 0, \"ticks\": \"\"}}, \"colorscale\": {\"diverging\": [[0, \"#8e0152\"], [0.1, \"#c51b7d\"], [0.2, \"#de77ae\"], [0.3, \"#f1b6da\"], [0.4, \"#fde0ef\"], [0.5, \"#f7f7f7\"], [0.6, \"#e6f5d0\"], [0.7, \"#b8e186\"], [0.8, \"#7fbc41\"], [0.9, \"#4d9221\"], [1, \"#276419\"]], \"sequential\": [[0.0, \"#0d0887\"], [0.1111111111111111, \"#46039f\"], [0.2222222222222222, \"#7201a8\"], [0.3333333333333333, \"#9c179e\"], [0.4444444444444444, \"#bd3786\"], [0.5555555555555556, \"#d8576b\"], [0.6666666666666666, \"#ed7953\"], [0.7777777777777778, \"#fb9f3a\"], [0.8888888888888888, \"#fdca26\"], [1.0, \"#f0f921\"]], \"sequentialminus\": [[0.0, \"#0d0887\"], [0.1111111111111111, \"#46039f\"], [0.2222222222222222, \"#7201a8\"], [0.3333333333333333, \"#9c179e\"], [0.4444444444444444, \"#bd3786\"], [0.5555555555555556, \"#d8576b\"], [0.6666666666666666, \"#ed7953\"], [0.7777777777777778, \"#fb9f3a\"], [0.8888888888888888, \"#fdca26\"], [1.0, \"#f0f921\"]]}, \"colorway\": [\"#636efa\", \"#EF553B\", \"#00cc96\", \"#ab63fa\", \"#FFA15A\", \"#19d3f3\", \"#FF6692\", \"#B6E880\", \"#FF97FF\", \"#FECB52\"], \"font\": {\"color\": \"#2a3f5f\"}, \"geo\": {\"bgcolor\": \"white\", \"lakecolor\": \"white\", \"landcolor\": \"#E5ECF6\", \"showlakes\": true, \"showland\": true, \"subunitcolor\": \"white\"}, \"hoverlabel\": {\"align\": \"left\"}, \"hovermode\": \"closest\", \"mapbox\": {\"style\": \"light\"}, \"paper_bgcolor\": \"white\", \"plot_bgcolor\": \"#E5ECF6\", \"polar\": {\"angularaxis\": {\"gridcolor\": \"white\", \"linecolor\": \"white\", \"ticks\": \"\"}, \"bgcolor\": \"#E5ECF6\", \"radialaxis\": {\"gridcolor\": \"white\", \"linecolor\": \"white\", \"ticks\": \"\"}}, \"scene\": {\"xaxis\": {\"backgroundcolor\": \"#E5ECF6\", \"gridcolor\": \"white\", \"gridwidth\": 2, \"linecolor\": \"white\", \"showbackground\": true, \"ticks\": \"\", \"zerolinecolor\": \"white\"}, \"yaxis\": {\"backgroundcolor\": \"#E5ECF6\", \"gridcolor\": \"white\", \"gridwidth\": 2, \"linecolor\": \"white\", \"showbackground\": true, \"ticks\": \"\", \"zerolinecolor\": \"white\"}, \"zaxis\": {\"backgroundcolor\": \"#E5ECF6\", \"gridcolor\": \"white\", \"gridwidth\": 2, \"linecolor\": \"white\", \"showbackground\": true, \"ticks\": \"\", \"zerolinecolor\": \"white\"}}, \"shapedefaults\": {\"line\": {\"color\": \"#2a3f5f\"}}, \"ternary\": {\"aaxis\": {\"gridcolor\": \"white\", \"linecolor\": \"white\", \"ticks\": \"\"}, \"baxis\": {\"gridcolor\": \"white\", \"linecolor\": \"white\", \"ticks\": \"\"}, \"bgcolor\": \"#E5ECF6\", \"caxis\": {\"gridcolor\": \"white\", \"linecolor\": \"white\", \"ticks\": \"\"}}, \"title\": {\"x\": 0.05}, \"xaxis\": {\"automargin\": true, \"gridcolor\": \"white\", \"linecolor\": \"white\", \"ticks\": \"\", \"title\": {\"standoff\": 15}, \"zerolinecolor\": \"white\", \"zerolinewidth\": 2}, \"yaxis\": {\"automargin\": true, \"gridcolor\": \"white\", \"linecolor\": \"white\", \"ticks\": \"\", \"title\": {\"standoff\": 15}, \"zerolinecolor\": \"white\", \"zerolinewidth\": 2}}}, \"title\": {\"text\": \"Defined by Total Trophies Won\"}, \"xaxis\": {\"anchor\": \"y\", \"domain\": [0.0, 1.0], \"title\": {\"text\": \"Total_Trophies\"}}, \"yaxis\": {\"anchor\": \"x\", \"domain\": [0.0, 1.0], \"title\": {\"text\": \"Manager\"}}},\n",
       "                        {\"responsive\": true}\n",
       "                    ).then(function(){\n",
       "                            \n",
       "var gd = document.getElementById('88edd257-d6b8-4ff5-857a-c11f9b035027');\n",
       "var x = new MutationObserver(function (mutations, observer) {{\n",
       "        var display = window.getComputedStyle(gd).display;\n",
       "        if (!display || display === 'none') {{\n",
       "            console.log([gd, 'removed!']);\n",
       "            Plotly.purge(gd);\n",
       "            observer.disconnect();\n",
       "        }}\n",
       "}});\n",
       "\n",
       "// Listen for the removal of the full notebook cells\n",
       "var notebookContainer = gd.closest('#notebook-container');\n",
       "if (notebookContainer) {{\n",
       "    x.observe(notebookContainer, {childList: true});\n",
       "}}\n",
       "\n",
       "// Listen for the clearing of the current output cell\n",
       "var outputEl = gd.closest('.output');\n",
       "if (outputEl) {{\n",
       "    x.observe(outputEl, {childList: true});\n",
       "}}\n",
       "\n",
       "                        })\n",
       "                };\n",
       "                });\n",
       "            </script>\n",
       "        </div>"
      ]
     },
     "metadata": {},
     "output_type": "display_data"
    }
   ],
   "source": [
    "import plotly.express as px\n",
    "fig = px.bar(Total_Trophies, x='Total_Trophies', y='Manager', title=\"Defined by Total Trophies Won\", orientation='h')\n",
    "fig.show()"
   ]
  }
 ],
 "metadata": {
  "kernelspec": {
   "display_name": "Python 3",
   "language": "python",
   "name": "python3"
  },
  "language_info": {
   "codemirror_mode": {
    "name": "ipython",
    "version": 3
   },
   "file_extension": ".py",
   "mimetype": "text/x-python",
   "name": "python",
   "nbconvert_exporter": "python",
   "pygments_lexer": "ipython3",
   "version": "3.7.6"
  }
 },
 "nbformat": 4,
 "nbformat_minor": 4
}
